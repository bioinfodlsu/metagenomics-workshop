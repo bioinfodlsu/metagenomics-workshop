{
 "cells": [
  {
   "cell_type": "markdown",
   "id": "29db0336-059d-4e5d-aa87-85c669e06f05",
   "metadata": {},
   "source": [
    "Let's use a toy database, since it takes a while to download the entire db. "
   ]
  },
  {
   "cell_type": "code",
   "execution_count": null,
   "id": "48e11d21-963f-42a1-980f-24db3153c3dc",
   "metadata": {},
   "outputs": [],
   "source": [
    "metaphlan --install --index mpa_vJan21_TOY_CHOCOPhlAnSGB_202103_bt2.tar --bowtie2db .\n"
   ]
  },
  {
   "cell_type": "markdown",
   "id": "32384307-6a99-4534-8736-5e3e4cf282f5",
   "metadata": {},
   "source": [
    "http://cmprod1.cibio.unitn.it/biobakery4/metaphlan_databases/bowtie2_indexes/\n"
   ]
  },
  {
   "cell_type": "code",
   "execution_count": null,
   "id": "a976a194-73ac-4c7c-aaf9-425da7b6622a",
   "metadata": {},
   "outputs": [],
   "source": [
    "metaphlan FH1_1.fastq.gz,FH1_2.fastq.gz --bowtie2db ../../metaphlan_databases/ --index mpa_vJan21_TOY_CHOCOPhlAnSGB_202103 --input_type fastq --bowtie2out FH1.bowtie2.bz2 --output FH1_profile"
   ]
  },
  {
   "cell_type": "markdown",
   "id": "5c3074ae-cb1b-4661-9520-94e551a06ab9",
   "metadata": {},
   "source": [
    "-1 -2 doesn't seem to work"
   ]
  },
  {
   "cell_type": "code",
   "execution_count": 2,
   "id": "fbb89ab7-384d-4d65-91e7-a075cfeca294",
   "metadata": {},
   "outputs": [
    {
     "name": "stdout",
     "output_type": "stream",
     "text": [
      "antibiotic-resistance.md   going-beyond.md  notebooks-jb-website.ipynb\n",
      "_build\t\t\t   intro.md\t    README.md\n",
      "_config.yml\t\t   lab_logo.png     references.bib\n",
      "data-analysis-overview.md  LICENSE\t    requirements.txt\n",
      "data-generation.md\t   metaphlan.ipynb  taxonomic-profiling.md\n",
      "data-sneak-peek.ipynb\t   notebooks\t    testing.ipynb\n",
      "Dockerfile\t\t   notebooks.ipynb  _toc.yml\n"
     ]
    }
   ],
   "source": [
    "! ls\n"
   ]
  },
  {
   "cell_type": "code",
   "execution_count": null,
   "id": "a656588e-f36a-41cf-978e-fa1a17e4d747",
   "metadata": {},
   "outputs": [],
   "source": []
  }
 ],
 "metadata": {
  "kernelspec": {
   "display_name": "Python 3 (ipykernel)",
   "language": "python",
   "name": "python3"
  },
  "language_info": {
   "codemirror_mode": {
    "name": "ipython",
    "version": 3
   },
   "file_extension": ".py",
   "mimetype": "text/x-python",
   "name": "python",
   "nbconvert_exporter": "python",
   "pygments_lexer": "ipython3",
   "version": "3.12.8"
  }
 },
 "nbformat": 4,
 "nbformat_minor": 5
}
