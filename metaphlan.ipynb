{
 "cells": [
  {
   "cell_type": "markdown",
   "id": "29db0336-059d-4e5d-aa87-85c669e06f05",
   "metadata": {},
   "source": [
    "# Taxonomic Profiling using Metaphlan\n",
    "\n",
    "Let's use a toy database, since it takes a while to download the entire db. "
   ]
  },
  {
   "cell_type": "markdown",
   "id": "29e176fa-fd7f-4d4e-b0f3-782d3643543b",
   "metadata": {},
   "source": [
    "metaphlan --install --index mpa_vJan21_TOY_CHOCOPhlAnSGB_202103_bt2.tar --bowtie2db .\n"
   ]
  },
  {
   "cell_type": "markdown",
   "id": "32384307-6a99-4534-8736-5e3e4cf282f5",
   "metadata": {},
   "source": [
    "http://cmprod1.cibio.unitn.it/biobakery4/metaphlan_databases/bowtie2_indexes/\n"
   ]
  },
  {
   "cell_type": "code",
   "execution_count": 8,
   "id": "ecb1c7b7-a885-42a7-9a48-e100a555a9fa",
   "metadata": {},
   "outputs": [],
   "source": [
    "! mkdir -p results/metaphlan_output"
   ]
  },
  {
   "cell_type": "code",
   "execution_count": 9,
   "id": "6266a4d7-2d06-42ab-9c92-42294159a419",
   "metadata": {},
   "outputs": [
    {
     "name": "stdout",
     "output_type": "stream",
     "text": [
      "Processing sample: BH1\n",
      "WARNING: MetaPhlAn did not detect any microbial taxa in the sample.\n",
      "Processing sample: BH2\n",
      "WARNING: MetaPhlAn did not detect any microbial taxa in the sample.\n",
      "Processing sample: BH3\n",
      "WARNING: MetaPhlAn did not detect any microbial taxa in the sample.\n",
      "Processing sample: BH4\n",
      "WARNING: MetaPhlAn did not detect any microbial taxa in the sample.\n",
      "Processing sample: FH1\n",
      "WARNING: The metagenome profile contains clades that represent multiple species merged into a single representant.\n",
      "An additional column listing the merged species is added to the MetaPhlAn output.\n",
      "Processing sample: FH2\n",
      "WARNING: The metagenome profile contains clades that represent multiple species merged into a single representant.\n",
      "An additional column listing the merged species is added to the MetaPhlAn output.\n",
      "Processing sample: FH3\n",
      "WARNING: The metagenome profile contains clades that represent multiple species merged into a single representant.\n",
      "An additional column listing the merged species is added to the MetaPhlAn output.\n",
      "Processing sample: FH4\n",
      "WARNING: The metagenome profile contains clades that represent multiple species merged into a single representant.\n",
      "An additional column listing the merged species is added to the MetaPhlAn output.\n"
     ]
    }
   ],
   "source": [
    "!for sample in $(ls data/metagenome_samples/*_1.fastq.gz | sed 's/.*\\///' | sed 's/_1.*//'); do \\\n",
    "    echo \"Processing sample: ${sample}\"; \\\n",
    "    metaphlan data/metagenome_samples/${sample}_1.fastq.gz,data/metagenome_samples/${sample}_2.fastq.gz \\\n",
    "    --bowtie2db data/metaphlan_databases --index mpa_vJan21_TOY_CHOCOPhlAnSGB_202103 --input_type fastq \\\n",
    "    --bowtie2out results/metaphlan_output/${sample}.bowtie2.bz2 --output results/metaphlan_output/${sample}_metaphlan_profile;\\\n",
    "done\n"
   ]
  },
  {
   "cell_type": "code",
   "execution_count": 5,
   "id": "a976a194-73ac-4c7c-aaf9-425da7b6622a",
   "metadata": {},
   "outputs": [
    {
     "name": "stdout",
     "output_type": "stream",
     "text": [
      "WARNING: The metagenome profile contains clades that represent multiple species merged into a single representant.\n",
      "An additional column listing the merged species is added to the MetaPhlAn output.\n"
     ]
    }
   ],
   "source": [
    "! metaphlan data/metagenome_samples/FH1_1.fastq.gz,data/metagenome_samples/FH1_2.fastq.gz --bowtie2db data/metaphlan_databases --index mpa_vJan21_TOY_CHOCOPhlAnSGB_202103 --input_type fastq --bowtie2out results/metaphlan_output/FH1.bowtie2.bz2 --output results/metaphlan_output/FH1_metaphlan_profile"
   ]
  },
  {
   "cell_type": "code",
   "execution_count": null,
   "id": "fbb89ab7-384d-4d65-91e7-a075cfeca294",
   "metadata": {
    "scrolled": true
   },
   "outputs": [],
   "source": [
    "! ls\n"
   ]
  },
  {
   "cell_type": "code",
   "execution_count": null,
   "id": "a656588e-f36a-41cf-978e-fa1a17e4d747",
   "metadata": {},
   "outputs": [],
   "source": []
  }
 ],
 "metadata": {
  "kernelspec": {
   "display_name": "Python 3 (ipykernel)",
   "language": "python",
   "name": "python3"
  },
  "language_info": {
   "codemirror_mode": {
    "name": "ipython",
    "version": 3
   },
   "file_extension": ".py",
   "mimetype": "text/x-python",
   "name": "python",
   "nbconvert_exporter": "python",
   "pygments_lexer": "ipython3",
   "version": "3.11.6"
  }
 },
 "nbformat": 4,
 "nbformat_minor": 5
}
