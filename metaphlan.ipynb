{
 "cells": [
  {
   "cell_type": "markdown",
   "id": "29db0336-059d-4e5d-aa87-85c669e06f05",
   "metadata": {},
   "source": [
    "# Taxonomic Profiling using Metaphlan4\n",
    "\n",
    "Different versions of MetaPhlAn marker databases are available here:\n",
    "\n",
    "http://cmprod1.cibio.unitn.it/biobakery4/metaphlan_databases/bowtie2_indexes/\n",
    "\n",
    "We will use the 202103 version `mpa_vJan21_CHOCOPhlAnSGB_202103`.\n",
    "\n",
    "It can be installed by doing this:\n",
    "```\n",
    "metaphlan --install --index mpa_vJan21_CHOCOPhlAnSGB_202103 --bowtie2db data/metaphlan_db_2021/\n",
    "```\n",
    "It might take a while to download and install, so we have a copy of the database ready for use in the `data/metaphlan_db_2021` folder.\n",
    "\n",
    "There is also a toy database instead (vJan 21 TOY), in case you want to perform a dry-run.\n",
    "\n",
    "Let's create a folder to dump all output from metaphlan."
   ]
  },
  {
   "cell_type": "code",
   "execution_count": 10,
   "id": "ecb1c7b7-a885-42a7-9a48-e100a555a9fa",
   "metadata": {},
   "outputs": [],
   "source": [
    "! mkdir -p results/metaphlan_output"
   ]
  },
  {
   "cell_type": "markdown",
   "id": "381994c5-44d8-4366-8ceb-e2f0ef170dc8",
   "metadata": {},
   "source": [
    "The command to run `metaphlan` on a single sample is:\n",
    "```\n",
    "metaphlan data/metagenome_samples/FH1_1.fastq.gz,data/metagenome_samples/FH1_2.fastq.gz --bowtie2db data/metaphlan_db_2021 --index mpa_vJan21_CHOCOPhlAnSGB_202103 --input_type fastq --bowtie2out results/metaphlan_output/FH1.bowtie2.bz2 --output results/metaphlan_output/FH1_metaphlan_profile\n",
    "```\n",
    "This command simply points to the metaphlan the pair of read files corresponding to a metagenome sample, and the installed database. MetaPhlAn uses `Bowtie2` that does the assigning of reads to genes in the database. The assignments are written to the `bowtie2out` path. The output we are interested in, the relative abundances, are written to the path specified in `output`. \n",
    "\n",
    "Instead of running this MetaPhlAn command one-by-one for each sample, the following script automates the process, looping through all the samples. This will take a while, so this is a good time to go get coffee or run some errands."
   ]
  },
  {
   "cell_type": "code",
   "execution_count": 11,
   "id": "6266a4d7-2d06-42ab-9c92-42294159a419",
   "metadata": {},
   "outputs": [
    {
     "name": "stdout",
     "output_type": "stream",
     "text": [
      "Processing sample: BH1\n",
      "BowTie2 output file detected: results/metaphlan_output/BH1.bowtie2.bz2\n",
      "Please use it as input or remove it if you want to re-perform the BowTie2 run.\n",
      "Exiting...\n",
      "\n",
      "Processing sample: BH2\n",
      "BowTie2 output file detected: results/metaphlan_output/BH2.bowtie2.bz2\n",
      "Please use it as input or remove it if you want to re-perform the BowTie2 run.\n",
      "Exiting...\n",
      "\n",
      "Processing sample: BH3\n",
      "BowTie2 output file detected: results/metaphlan_output/BH3.bowtie2.bz2\n",
      "Please use it as input or remove it if you want to re-perform the BowTie2 run.\n",
      "Exiting...\n",
      "\n",
      "Processing sample: BH4\n",
      "BowTie2 output file detected: results/metaphlan_output/BH4.bowtie2.bz2\n",
      "Please use it as input or remove it if you want to re-perform the BowTie2 run.\n",
      "Exiting...\n",
      "\n",
      "Processing sample: FH1\n",
      "BowTie2 output file detected: results/metaphlan_output/FH1.bowtie2.bz2\n",
      "Please use it as input or remove it if you want to re-perform the BowTie2 run.\n",
      "Exiting...\n",
      "\n",
      "Processing sample: FH2\n",
      "BowTie2 output file detected: results/metaphlan_output/FH2.bowtie2.bz2\n",
      "Please use it as input or remove it if you want to re-perform the BowTie2 run.\n",
      "Exiting...\n",
      "\n",
      "Processing sample: FH3\n",
      "BowTie2 output file detected: results/metaphlan_output/FH3.bowtie2.bz2\n",
      "Please use it as input or remove it if you want to re-perform the BowTie2 run.\n",
      "Exiting...\n",
      "\n",
      "Processing sample: FH4\n",
      "BowTie2 output file detected: results/metaphlan_output/FH4.bowtie2.bz2\n",
      "Please use it as input or remove it if you want to re-perform the BowTie2 run.\n",
      "Exiting...\n",
      "\n"
     ]
    }
   ],
   "source": [
    "!for sample in $(ls data/metagenome_samples/*_1.fastq.gz | sed 's/.*\\///' | sed 's/_1.*//'); do \\\n",
    "    echo \"Processing sample: ${sample}\"; \\\n",
    "    metaphlan data/metagenome_samples/${sample}_1.fastq.gz,data/metagenome_samples/${sample}_2.fastq.gz \\\n",
    "    --bowtie2db data/metaphlan_db_2021 --index mpa_vJan21_CHOCOPhlAnSGB_202103 --input_type fastq \\\n",
    "    --bowtie2out results/metaphlan_output/${sample}.bowtie2.bz2 --output results/metaphlan_output/${sample}_metaphlan_profile;\\\n",
    "done\n"
   ]
  },
  {
   "cell_type": "markdown",
   "id": "d8ab68f4-5d31-45dd-9164-58c73ae37f9b",
   "metadata": {},
   "source": [
    "Taxonomic profiles of all the samples can be merged into a single file by running the following:"
   ]
  },
  {
   "cell_type": "code",
   "execution_count": 14,
   "id": "fbb89ab7-384d-4d65-91e7-a075cfeca294",
   "metadata": {
    "scrolled": true
   },
   "outputs": [],
   "source": [
    "! rm -f results/metaphlan_output/merged_metaphlan_abundance_table.txt\n",
    "! merge_metaphlan_tables.py results/metaphlan_output/*profile >> results/metaphlan_output/merged_metaphlan_abundance_table.txt\n"
   ]
  },
  {
   "cell_type": "markdown",
   "id": "e90a8e73-6f14-4c5e-87bd-d81e9276cc6b",
   "metadata": {},
   "source": [
    "Further analysis requires R, so we will move to a different [notebook](statistical_analysis.ipynb) that runs an R kernel. Before moving to that notebook though, let's also obtain a [taxonomonic profile using kraken2](kraken2.ipynb) so that we can compare the two approaches later. "
   ]
  }
 ],
 "metadata": {
  "kernelspec": {
   "display_name": "Python 3 (ipykernel)",
   "language": "python",
   "name": "python3"
  },
  "language_info": {
   "codemirror_mode": {
    "name": "ipython",
    "version": 3
   },
   "file_extension": ".py",
   "mimetype": "text/x-python",
   "name": "python",
   "nbconvert_exporter": "python",
   "pygments_lexer": "ipython3",
   "version": "3.11.6"
  }
 },
 "nbformat": 4,
 "nbformat_minor": 5
}
