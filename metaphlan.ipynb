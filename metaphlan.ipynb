{
 "cells": [
  {
   "cell_type": "markdown",
   "id": "29db0336-059d-4e5d-aa87-85c669e06f05",
   "metadata": {},
   "source": [
    "Let's use a toy database, since it takes a while to download the entire db. "
   ]
  },
  {
   "cell_type": "code",
   "execution_count": null,
   "id": "39d36485-8113-4dc5-904e-66b04c54ae33",
   "metadata": {},
   "outputs": [],
   "source": [
    "metaphlan --install --index mpa_vJan21_TOY_CHOCOPhlAnSGB_202103_bt2.tar --bowtie2db .\n"
   ]
  },
  {
   "cell_type": "markdown",
   "id": "32384307-6a99-4534-8736-5e3e4cf282f5",
   "metadata": {},
   "source": [
    "http://cmprod1.cibio.unitn.it/biobakery4/metaphlan_databases/bowtie2_indexes/\n"
   ]
  },
  {
   "cell_type": "code",
   "execution_count": 3,
   "id": "a976a194-73ac-4c7c-aaf9-425da7b6622a",
   "metadata": {},
   "outputs": [
    {
     "ename": "SyntaxError",
     "evalue": "invalid syntax (2564006334.py, line 1)",
     "output_type": "error",
     "traceback": [
      "\u001b[0;36m  Cell \u001b[0;32mIn[3], line 1\u001b[0;36m\u001b[0m\n\u001b[0;31m    metaphlan data/metagenome_samples/FH1_1.fastq.gz,data/metagenome_samples/FH1_2.fastq.gz --bowtie2db data/metaphlan_databases --index mpa_vJan21_TOY_CHOCOPhlAnSGB_202103 --input_type fastq --bowtie2out results/metaphlan_output/FH1.bowtie2.bz2 --output results/metaphlan_output/FH1_metaphlan_profile\u001b[0m\n\u001b[0m              ^\u001b[0m\n\u001b[0;31mSyntaxError\u001b[0m\u001b[0;31m:\u001b[0m invalid syntax\n"
     ]
    }
   ],
   "source": [
    "! metaphlan data/metagenome_samples/FH1_1.fastq.gz,data/metagenome_samples/FH1_2.fastq.gz --bowtie2db data/metaphlan_databases --index mpa_vJan21_TOY_CHOCOPhlAnSGB_202103 --input_type fastq --bowtie2out results/metaphlan_output/FH1.bowtie2.bz2 --output results/metaphlan_output/FH1_metaphlan_profile"
   ]
  },
  {
   "cell_type": "markdown",
   "id": "5c3074ae-cb1b-4661-9520-94e551a06ab9",
   "metadata": {},
   "source": [
    "-1 -2 doesn't seem to work"
   ]
  },
  {
   "cell_type": "code",
   "execution_count": null,
   "id": "fbb89ab7-384d-4d65-91e7-a075cfeca294",
   "metadata": {
    "scrolled": true
   },
   "outputs": [],
   "source": [
    "! ls\n"
   ]
  },
  {
   "cell_type": "code",
   "execution_count": null,
   "id": "a656588e-f36a-41cf-978e-fa1a17e4d747",
   "metadata": {},
   "outputs": [],
   "source": []
  }
 ],
 "metadata": {
  "kernelspec": {
   "display_name": "Python 3 (ipykernel)",
   "language": "python",
   "name": "python3"
  },
  "language_info": {
   "codemirror_mode": {
    "name": "ipython",
    "version": 3
   },
   "file_extension": ".py",
   "mimetype": "text/x-python",
   "name": "python",
   "nbconvert_exporter": "python",
   "pygments_lexer": "ipython3",
   "version": "3.11.6"
  }
 },
 "nbformat": 4,
 "nbformat_minor": 5
}
