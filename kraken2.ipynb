{
 "cells": [
  {
   "cell_type": "markdown",
   "id": "6a99628a-adb7-444a-bf7a-ebd5808dd814",
   "metadata": {},
   "source": [
    "There are a number of pre-computed databases here: https://benlangmead.github.io/aws-indexes/k2 . For demonstration purposes, let us use one of the smallest ones : Standard-8. This has already been downloaded in data/kraken2_db/"
   ]
  },
  {
   "cell_type": "code",
   "execution_count": 4,
   "id": "283c7186-c3dc-430c-8103-7ae6786d8ac3",
   "metadata": {},
   "outputs": [],
   "source": [
    "! mkdir -p results/kraken2_output"
   ]
  },
  {
   "cell_type": "markdown",
   "id": "31d6ca59-6cb8-4c8e-b4c9-4514e8e4d527",
   "metadata": {
    "scrolled": true
   },
   "source": [
    "To run on one sample, you would do :\n",
    "\n",
    "`kraken2 --paired --db data/kraken2_db/standard-8/ data/metagenome_samples/FH1_1.fastq.gz data/metagenome_samples/FH1_2.fastq.gz --output results/kraken2_output/FH1`\n",
    "\n",
    "To run on all at once, use the script below."
   ]
  },
  {
   "cell_type": "code",
   "execution_count": 9,
   "id": "13345d1f-66d0-4a8e-b50d-7a81f81d79c9",
   "metadata": {},
   "outputs": [
    {
     "name": "stdout",
     "output_type": "stream",
     "text": [
      "Processing sample: BH1\n",
      "Loading database information... done.\n",
      "1000000 sequences (302.00 Mbp) processed in 11.296s (5311.5 Kseq/m, 1604.07 Mbp/m).\n",
      "  705810 sequences classified (70.58%)\n",
      "  294190 sequences unclassified (29.42%)\n",
      "Processing sample: BH2\n",
      "Loading database information... done.\n",
      "1000000 sequences (302.00 Mbp) processed in 11.099s (5406.0 Kseq/m, 1632.60 Mbp/m).\n",
      "  336398 sequences classified (33.64%)\n",
      "  663602 sequences unclassified (66.36%)\n",
      "Processing sample: BH3\n",
      "Loading database information... done.\n",
      "1000000 sequences (302.00 Mbp) processed in 10.508s (5709.9 Kseq/m, 1724.40 Mbp/m).\n",
      "  208838 sequences classified (20.88%)\n",
      "  791162 sequences unclassified (79.12%)\n",
      "Processing sample: BH4\n",
      "Loading database information... done.\n",
      "1000000 sequences (302.00 Mbp) processed in 10.736s (5588.9 Kseq/m, 1687.84 Mbp/m).\n",
      "  261480 sequences classified (26.15%)\n",
      "  738520 sequences unclassified (73.85%)\n",
      "Processing sample: FH1\n",
      "Loading database information... done.\n",
      "1000000 sequences (302.00 Mbp) processed in 14.415s (4162.4 Kseq/m, 1257.05 Mbp/m).\n",
      "  570952 sequences classified (57.10%)\n",
      "  429048 sequences unclassified (42.90%)\n",
      "Processing sample: FH2\n",
      "Loading database information... done.\n",
      "1000000 sequences (302.00 Mbp) processed in 14.689s (4084.6 Kseq/m, 1233.55 Mbp/m).\n",
      "  452272 sequences classified (45.23%)\n",
      "  547728 sequences unclassified (54.77%)\n",
      "Processing sample: FH3\n",
      "Loading database information... done.\n",
      "1000000 sequences (302.00 Mbp) processed in 13.461s (4457.3 Kseq/m, 1346.09 Mbp/m).\n",
      "  517900 sequences classified (51.79%)\n",
      "  482100 sequences unclassified (48.21%)\n",
      "Processing sample: FH4\n",
      "Loading database information... done.\n",
      "1000000 sequences (302.00 Mbp) processed in 12.457s (4816.5 Kseq/m, 1454.59 Mbp/m).\n",
      "  731162 sequences classified (73.12%)\n",
      "  268838 sequences unclassified (26.88%)\n"
     ]
    }
   ],
   "source": [
    "!for sample in $(ls data/metagenome_samples/*_1.fastq.gz | sed 's/.*\\///' | sed 's/_1.*//'); do \\\n",
    "    echo \"Processing sample: ${sample}\"; \\\n",
    "    kraken2 --paired --db data/kraken2_db/standard-8/  --output results/kraken2_output/${sample}.kraken.output --report results/kraken2_output/${sample}.kraken.report \\\n",
    "    data/metagenome_samples/${sample}_1.fastq.gz data/metagenome_samples/${sample}_2.fastq.gz;\\\n",
    "done"
   ]
  },
  {
   "cell_type": "code",
   "execution_count": 10,
   "id": "01c944fb-a4c6-476a-8891-50cbe22f3eb8",
   "metadata": {},
   "outputs": [
    {
     "name": "stdout",
     "output_type": "stream",
     "text": [
      " 29.42\t294190\t294190\tU\t0\tunclassified\n",
      " 70.58\t705810\t485\tR\t1\troot\n",
      " 70.50\t704961\t2859\tR1\t131567\t  cellular organisms\n",
      " 68.09\t680862\t29099\tD\t2\t    Bacteria\n",
      " 63.41\t634069\t38696\tP\t1224\t      Pseudomonadota\n",
      " 55.35\t553477\t2461\tC\t28216\t        Betaproteobacteria\n",
      " 54.62\t546158\t9330\tO\t80840\t          Burkholderiales\n",
      " 51.18\t511791\t12223\tF\t506\t            Alcaligenaceae\n",
      " 49.69\t496927\t34939\tG\t222\t              Achromobacter\n",
      " 44.69\t446934\t1893\tG1\t2626865\t                unclassified Achromobacter\n"
     ]
    }
   ],
   "source": [
    "!head  results/kraken2_output/BH1.report \n"
   ]
  },
  {
   "cell_type": "markdown",
   "id": "21efe1b1-19d0-405a-8b0e-dc974b51e074",
   "metadata": {},
   "source": [
    "bracken -d data/kraken2_db/standard-8/ -l G -i results/kraken2_output/BH1.report -o results/kraken2_output/BH1.bracken.output"
   ]
  },
  {
   "cell_type": "code",
   "execution_count": null,
   "id": "8f9115c6-85df-4ba9-b421-196a986c8902",
   "metadata": {},
   "outputs": [],
   "source": [
    "!for sample in $(ls data/metagenome_samples/*_1.fastq.gz | sed 's/.*\\///' | sed 's/_1.*//'); do \\\n",
    "    bracken -d /data/kraken2-db/standard-8 -l G -i results/kraken2_output/${sample}.kraken.report -r 100 -o results/kraken2_output/${sample}.bracken.output;\\\n",
    "done"
   ]
  },
  {
   "cell_type": "code",
   "execution_count": null,
   "id": "4e61ed19-e1c7-4ab9-9777-35ee2f05865c",
   "metadata": {},
   "outputs": [],
   "source": []
  }
 ],
 "metadata": {
  "kernelspec": {
   "display_name": "Python 3 (ipykernel)",
   "language": "python",
   "name": "python3"
  },
  "language_info": {
   "codemirror_mode": {
    "name": "ipython",
    "version": 3
   },
   "file_extension": ".py",
   "mimetype": "text/x-python",
   "name": "python",
   "nbconvert_exporter": "python",
   "pygments_lexer": "ipython3",
   "version": "3.11.6"
  }
 },
 "nbformat": 4,
 "nbformat_minor": 5
}
