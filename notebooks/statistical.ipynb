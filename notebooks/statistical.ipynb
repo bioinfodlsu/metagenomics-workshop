{
 "cells": [
  {
   "cell_type": "markdown",
   "metadata": {},
   "source": [
    "# Statistical Analysis"
   ]
  },
  {
   "cell_type": "markdown",
   "metadata": {},
   "source": [
    "#### Dependencies"
   ]
  },
  {
   "cell_type": "code",
   "execution_count": 1,
   "metadata": {
    "vscode": {
     "languageId": "r"
    }
   },
   "outputs": [
    {
     "name": "stderr",
     "output_type": "stream",
     "text": [
      "Loading required package: permute\n",
      "\n",
      "Loading required package: lattice\n",
      "\n",
      "This is vegan 2.6-8\n",
      "\n",
      "\n",
      "Attaching package: 'plotly'\n",
      "\n",
      "\n",
      "The following object is masked from 'package:ggplot2':\n",
      "\n",
      "    last_plot\n",
      "\n",
      "\n",
      "The following object is masked from 'package:stats':\n",
      "\n",
      "    filter\n",
      "\n",
      "\n",
      "The following object is masked from 'package:graphics':\n",
      "\n",
      "    layout\n",
      "\n",
      "\n",
      "Welcome to compositions, a package for compositional data analysis.\n",
      "Find an intro with \"? compositions\"\n",
      "\n",
      "\n",
      "\n",
      "Attaching package: 'compositions'\n",
      "\n",
      "\n",
      "The following objects are masked from 'package:stats':\n",
      "\n",
      "    anova, cor, cov, dist, var\n",
      "\n",
      "\n",
      "The following object is masked from 'package:graphics':\n",
      "\n",
      "    segments\n",
      "\n",
      "\n",
      "The following objects are masked from 'package:base':\n",
      "\n",
      "    %*%, norm, scale, scale.default\n",
      "\n",
      "\n",
      "-- \u001b[1mAttaching core tidyverse packages\u001b[22m ------------------------ tidyverse 2.0.0 --\n",
      "\u001b[32mv\u001b[39m \u001b[34mdplyr    \u001b[39m 1.1.4     \u001b[32mv\u001b[39m \u001b[34mpurrr    \u001b[39m 1.0.2\n",
      "\u001b[32mv\u001b[39m \u001b[34mforcats  \u001b[39m 1.0.0     \u001b[32mv\u001b[39m \u001b[34mreadr    \u001b[39m 2.1.5\n",
      "\u001b[32mv\u001b[39m \u001b[34mlubridate\u001b[39m 1.9.4     \u001b[32mv\u001b[39m \u001b[34mtibble   \u001b[39m 3.2.1\n",
      "-- \u001b[1mConflicts\u001b[22m ------------------------------------------ tidyverse_conflicts() --\n",
      "\u001b[31mx\u001b[39m \u001b[34mdplyr\u001b[39m::\u001b[32mfilter()\u001b[39m masks \u001b[34mplotly\u001b[39m::filter(), \u001b[34mstats\u001b[39m::filter()\n",
      "\u001b[31mx\u001b[39m \u001b[34mdplyr\u001b[39m::\u001b[32mlag()\u001b[39m    masks \u001b[34mstats\u001b[39m::lag()\n",
      "\u001b[36mi\u001b[39m Use the conflicted package (\u001b[3m\u001b[34m<http://conflicted.r-lib.org/>\u001b[39m\u001b[23m) to force all conflicts to become errors\n"
     ]
    }
   ],
   "source": [
    "library (ggplot2)\n",
    "library(tidyr)\n",
    "library(stringr)\n",
    "library(vegan)\n",
    "library(plotly)\n",
    "library(ggfortify)\n",
    "library(compositions)\n",
    "library(ggrepel)\n",
    "library(tidyverse)"
   ]
  },
  {
   "cell_type": "markdown",
   "metadata": {},
   "source": [
    "## Kraken"
   ]
  },
  {
   "cell_type": "markdown",
   "metadata": {},
   "source": [
    "Reading File for Metadata\n",
    "\n",
    "Metadata contains information on the samples and hospital names. The hospitals are labelled as A, B and C respectively. This is provided in the data folder."
   ]
  },
  {
   "cell_type": "code",
   "execution_count": 2,
   "metadata": {
    "vscode": {
     "languageId": "r"
    }
   },
   "outputs": [],
   "source": [
    "metadata <- read.table(\"/home/jovyan/data/metadata.txt\", sep = \"\\t\", header = TRUE)"
   ]
  },
  {
   "cell_type": "code",
   "execution_count": 3,
   "metadata": {
    "vscode": {
     "languageId": "r"
    }
   },
   "outputs": [
    {
     "data": {
      "text/html": [
       "<table class=\"dataframe\">\n",
       "<caption>A data.frame: 6 x 23</caption>\n",
       "<thead>\n",
       "\t<tr><th></th><th scope=col>SampleID</th><th scope=col>alias</th><th scope=col>date</th><th scope=col>continent</th><th scope=col>country</th><th scope=col>country2</th><th scope=col>country3</th><th scope=col>name</th><th scope=col>hospital</th><th scope=col>replicate</th><th scope=col>...</th><th scope=col>hospital_section</th><th scope=col>hospital_description</th><th scope=col>no_of_beds</th><th scope=col>lat</th><th scope=col>long</th><th scope=col>sample_material</th><th scope=col>DNA_ng_.l</th><th scope=col>A260_280</th><th scope=col>M_Seqs_trimmed</th><th scope=col>plot_name</th></tr>\n",
       "\t<tr><th></th><th scope=col>&lt;chr&gt;</th><th scope=col>&lt;chr&gt;</th><th scope=col>&lt;chr&gt;</th><th scope=col>&lt;chr&gt;</th><th scope=col>&lt;chr&gt;</th><th scope=col>&lt;chr&gt;</th><th scope=col>&lt;chr&gt;</th><th scope=col>&lt;chr&gt;</th><th scope=col>&lt;chr&gt;</th><th scope=col>&lt;chr&gt;</th><th scope=col>...</th><th scope=col>&lt;chr&gt;</th><th scope=col>&lt;chr&gt;</th><th scope=col>&lt;chr&gt;</th><th scope=col>&lt;dbl&gt;</th><th scope=col>&lt;dbl&gt;</th><th scope=col>&lt;chr&gt;</th><th scope=col>&lt;dbl&gt;</th><th scope=col>&lt;dbl&gt;</th><th scope=col>&lt;dbl&gt;</th><th scope=col>&lt;chr&gt;</th></tr>\n",
       "</thead>\n",
       "<tbody>\n",
       "\t<tr><th scope=row>1</th><td>BH02_S77  </td><td>BH02 </td><td>27_11_19</td><td>West Africa</td><td>Benin       </td><td>Benin       </td><td>BENN HWW A</td><td>BENN HWW A</td><td>A</td><td>NO</td><td>...</td><td>pediatry</td><td>Secondary hospital                             </td><td>200</td><td> 6.49245</td><td> 2.40193</td><td>water</td><td> 44.115</td><td>1.863</td><td>30.8</td><td>hospital effluent</td></tr>\n",
       "\t<tr><th scope=row>2</th><td>BH03_S78  </td><td>BH03 </td><td>27_11_19</td><td>West Africa</td><td>Benin       </td><td>Benin       </td><td>BENN HWW A</td><td>BENN HWW A</td><td>A</td><td>NO</td><td>...</td><td>surgery </td><td>Secondary hospital                             </td><td>200</td><td> 6.49245</td><td> 2.40193</td><td>water</td><td> 98.572</td><td>1.844</td><td>31.6</td><td>hospital effluent</td></tr>\n",
       "\t<tr><th scope=row>3</th><td>BFH10_S128</td><td>BFH10</td><td>28_11_19</td><td>West Africa</td><td>Burkina Faso</td><td>Burkina Faso</td><td>BF HWW F  </td><td>BF HWW F  </td><td>B</td><td>NO</td><td>...</td><td>other   </td><td>Health clinic                                  </td><td>91 </td><td>12.50000</td><td>-1.66667</td><td>water</td><td>119.477</td><td>1.869</td><td>32.0</td><td>hospital effluent</td></tr>\n",
       "\t<tr><th scope=row>4</th><td>BFH33_S151</td><td>BFH33</td><td>12_12_19</td><td>West Africa</td><td>Burkina Faso</td><td>Burkina Faso</td><td>BF HWW I  </td><td>BF HWW I  </td><td>B</td><td>NO</td><td>...</td><td>other   </td><td>Tertiary hospital, a national refrence hospital</td><td>733</td><td>12.50000</td><td>-1.66667</td><td>water</td><td> 72.642</td><td>1.857</td><td>33.7</td><td>hospital effluent</td></tr>\n",
       "\t<tr><th scope=row>5</th><td>FH1_S162  </td><td>FH1  </td><td>20_01_20</td><td>Europe     </td><td>Finland     </td><td>Finland     </td><td>FI HWW J  </td><td>FI HWW J  </td><td>C</td><td>NO</td><td>...</td><td>other   </td><td>nd                                             </td><td>nd </td><td>60.19845</td><td>24.92737</td><td>water</td><td> 49.300</td><td>1.870</td><td>21.2</td><td>hospital effluent</td></tr>\n",
       "\t<tr><th scope=row>6</th><td>FH2_S163  </td><td>FH2  </td><td>20_01_20</td><td>Europe     </td><td>Finland     </td><td>Finland     </td><td>FI HWW K  </td><td>FI HWW K  </td><td>C</td><td>NO</td><td>...</td><td>other   </td><td>nd                                             </td><td>nd </td><td>60.19845</td><td>24.92737</td><td>water</td><td> 70.400</td><td>1.880</td><td>37.9</td><td>hospital effluent</td></tr>\n",
       "</tbody>\n",
       "</table>\n"
      ],
      "text/latex": [
       "A data.frame: 6 x 23\n",
       "\\begin{tabular}{r|lllllllllllllllllllll}\n",
       "  & SampleID & alias & date & continent & country & country2 & country3 & name & hospital & replicate & ... & hospital\\_section & hospital\\_description & no\\_of\\_beds & lat & long & sample\\_material & DNA\\_ng\\_.l & A260\\_280 & M\\_Seqs\\_trimmed & plot\\_name\\\\\n",
       "  & <chr> & <chr> & <chr> & <chr> & <chr> & <chr> & <chr> & <chr> & <chr> & <chr> & ... & <chr> & <chr> & <chr> & <dbl> & <dbl> & <chr> & <dbl> & <dbl> & <dbl> & <chr>\\\\\n",
       "\\hline\n",
       "\t1 & BH02\\_S77   & BH02  & 27\\_11\\_19 & West Africa & Benin        & Benin        & BENN HWW A & BENN HWW A & A & NO & ... & pediatry & Secondary hospital                              & 200 &  6.49245 &  2.40193 & water &  44.115 & 1.863 & 30.8 & hospital effluent\\\\\n",
       "\t2 & BH03\\_S78   & BH03  & 27\\_11\\_19 & West Africa & Benin        & Benin        & BENN HWW A & BENN HWW A & A & NO & ... & surgery  & Secondary hospital                              & 200 &  6.49245 &  2.40193 & water &  98.572 & 1.844 & 31.6 & hospital effluent\\\\\n",
       "\t3 & BFH10\\_S128 & BFH10 & 28\\_11\\_19 & West Africa & Burkina Faso & Burkina Faso & BF HWW F   & BF HWW F   & B & NO & ... & other    & Health clinic                                   & 91  & 12.50000 & -1.66667 & water & 119.477 & 1.869 & 32.0 & hospital effluent\\\\\n",
       "\t4 & BFH33\\_S151 & BFH33 & 12\\_12\\_19 & West Africa & Burkina Faso & Burkina Faso & BF HWW I   & BF HWW I   & B & NO & ... & other    & Tertiary hospital, a national refrence hospital & 733 & 12.50000 & -1.66667 & water &  72.642 & 1.857 & 33.7 & hospital effluent\\\\\n",
       "\t5 & FH1\\_S162   & FH1   & 20\\_01\\_20 & Europe      & Finland      & Finland      & FI HWW J   & FI HWW J   & C & NO & ... & other    & nd                                              & nd  & 60.19845 & 24.92737 & water &  49.300 & 1.870 & 21.2 & hospital effluent\\\\\n",
       "\t6 & FH2\\_S163   & FH2   & 20\\_01\\_20 & Europe      & Finland      & Finland      & FI HWW K   & FI HWW K   & C & NO & ... & other    & nd                                              & nd  & 60.19845 & 24.92737 & water &  70.400 & 1.880 & 37.9 & hospital effluent\\\\\n",
       "\\end{tabular}\n"
      ],
      "text/markdown": [
       "\n",
       "A data.frame: 6 x 23\n",
       "\n",
       "| <!--/--> | SampleID &lt;chr&gt; | alias &lt;chr&gt; | date &lt;chr&gt; | continent &lt;chr&gt; | country &lt;chr&gt; | country2 &lt;chr&gt; | country3 &lt;chr&gt; | name &lt;chr&gt; | hospital &lt;chr&gt; | replicate &lt;chr&gt; | ... ... | hospital_section &lt;chr&gt; | hospital_description &lt;chr&gt; | no_of_beds &lt;chr&gt; | lat &lt;dbl&gt; | long &lt;dbl&gt; | sample_material &lt;chr&gt; | DNA_ng_.l &lt;dbl&gt; | A260_280 &lt;dbl&gt; | M_Seqs_trimmed &lt;dbl&gt; | plot_name &lt;chr&gt; |\n",
       "|---|---|---|---|---|---|---|---|---|---|---|---|---|---|---|---|---|---|---|---|---|---|\n",
       "| 1 | BH02_S77   | BH02  | 27_11_19 | West Africa | Benin        | Benin        | BENN HWW A | BENN HWW A | A | NO | ... | pediatry | Secondary hospital                              | 200 |  6.49245 |  2.40193 | water |  44.115 | 1.863 | 30.8 | hospital effluent |\n",
       "| 2 | BH03_S78   | BH03  | 27_11_19 | West Africa | Benin        | Benin        | BENN HWW A | BENN HWW A | A | NO | ... | surgery  | Secondary hospital                              | 200 |  6.49245 |  2.40193 | water |  98.572 | 1.844 | 31.6 | hospital effluent |\n",
       "| 3 | BFH10_S128 | BFH10 | 28_11_19 | West Africa | Burkina Faso | Burkina Faso | BF HWW F   | BF HWW F   | B | NO | ... | other    | Health clinic                                   | 91  | 12.50000 | -1.66667 | water | 119.477 | 1.869 | 32.0 | hospital effluent |\n",
       "| 4 | BFH33_S151 | BFH33 | 12_12_19 | West Africa | Burkina Faso | Burkina Faso | BF HWW I   | BF HWW I   | B | NO | ... | other    | Tertiary hospital, a national refrence hospital | 733 | 12.50000 | -1.66667 | water |  72.642 | 1.857 | 33.7 | hospital effluent |\n",
       "| 5 | FH1_S162   | FH1   | 20_01_20 | Europe      | Finland      | Finland      | FI HWW J   | FI HWW J   | C | NO | ... | other    | nd                                              | nd  | 60.19845 | 24.92737 | water |  49.300 | 1.870 | 21.2 | hospital effluent |\n",
       "| 6 | FH2_S163   | FH2   | 20_01_20 | Europe      | Finland      | Finland      | FI HWW K   | FI HWW K   | C | NO | ... | other    | nd                                              | nd  | 60.19845 | 24.92737 | water |  70.400 | 1.880 | 37.9 | hospital effluent |\n",
       "\n"
      ],
      "text/plain": [
       "  SampleID   alias date     continent   country      country2     country3  \n",
       "1 BH02_S77   BH02  27_11_19 West Africa Benin        Benin        BENN HWW A\n",
       "2 BH03_S78   BH03  27_11_19 West Africa Benin        Benin        BENN HWW A\n",
       "3 BFH10_S128 BFH10 28_11_19 West Africa Burkina Faso Burkina Faso BF HWW F  \n",
       "4 BFH33_S151 BFH33 12_12_19 West Africa Burkina Faso Burkina Faso BF HWW I  \n",
       "5 FH1_S162   FH1   20_01_20 Europe      Finland      Finland      FI HWW J  \n",
       "6 FH2_S163   FH2   20_01_20 Europe      Finland      Finland      FI HWW K  \n",
       "  name       hospital replicate ... hospital_section\n",
       "1 BENN HWW A A        NO        ... pediatry        \n",
       "2 BENN HWW A A        NO        ... surgery         \n",
       "3 BF HWW F   B        NO        ... other           \n",
       "4 BF HWW I   B        NO        ... other           \n",
       "5 FI HWW J   C        NO        ... other           \n",
       "6 FI HWW K   C        NO        ... other           \n",
       "  hospital_description                            no_of_beds lat      long    \n",
       "1 Secondary hospital                              200         6.49245  2.40193\n",
       "2 Secondary hospital                              200         6.49245  2.40193\n",
       "3 Health clinic                                   91         12.50000 -1.66667\n",
       "4 Tertiary hospital, a national refrence hospital 733        12.50000 -1.66667\n",
       "5 nd                                              nd         60.19845 24.92737\n",
       "6 nd                                              nd         60.19845 24.92737\n",
       "  sample_material DNA_ng_.l A260_280 M_Seqs_trimmed plot_name        \n",
       "1 water            44.115   1.863    30.8           hospital effluent\n",
       "2 water            98.572   1.844    31.6           hospital effluent\n",
       "3 water           119.477   1.869    32.0           hospital effluent\n",
       "4 water            72.642   1.857    33.7           hospital effluent\n",
       "5 water            49.300   1.870    21.2           hospital effluent\n",
       "6 water            70.400   1.880    37.9           hospital effluent"
      ]
     },
     "metadata": {},
     "output_type": "display_data"
    }
   ],
   "source": [
    "head(metadata)"
   ]
  },
  {
   "cell_type": "markdown",
   "metadata": {},
   "source": [
    "Reading File for Kraken Data\n",
    "\n",
    "Metaphlan data contains results from the taxonomic run earlier, retrieving this from the results folder."
   ]
  },
  {
   "cell_type": "code",
   "execution_count": 4,
   "metadata": {
    "vscode": {
     "languageId": "r"
    }
   },
   "outputs": [],
   "source": [
    "kraken_data <- read.delim(\"/home/jovyan/results/merged_metakraken_abundance_table.txt\", header = TRUE)"
   ]
  },
  {
   "cell_type": "markdown",
   "metadata": {},
   "source": [
    "#### Merging Kraken Results with Metadata\n",
    "\n",
    "1. Converts a dataset (`kraken_data`) from **wide** format to **long** format using `pivot_longer`.\n",
    "\n",
    "From Wide Format (Original Metaphlan Results):\n",
    "| ID   | Sample1 | Sample2 | Sample3 |\n",
    "|------|---------|---------|---------|\n",
    "| Taxa1 | 0.5     | 0.3     | 0.2     |\n",
    "| Taxa2 | 0.2     | 0.1     | 0.4     |\n",
    "| Taxa3 | 0.3     | 0.6     | 0.4     |\n",
    "\n",
    "\n",
    "To Long Format \n",
    "| ID   | SampleID | RelativeAbundance |\n",
    "|------|----------|-------------------|\n",
    "| Taxa1 | Sample1  | 0.5               |\n",
    "| Taxa1 | Sample2  | 0.3               |\n",
    "| Taxa1 | Sample3  | 0.2               |\n",
    "| Taxa2 | Sample1  | 0.2               |\n",
    "| Taxa2 | Sample2  | 0.1               |\n",
    "| Taxa2 | Sample3  | 0.4               |\n",
    "| Taxa3 | Sample1  | 0.3               |\n",
    "| Taxa3 | Sample2  | 0.6               |\n",
    "| Taxa3 | Sample3  | 0.4               |\n",
    "\n",
    "2. Merges the reshaped data with another dataset (`metadata`) based on a common key, `SampleID`."
   ]
  },
  {
   "cell_type": "code",
   "execution_count": 5,
   "metadata": {
    "vscode": {
     "languageId": "r"
    }
   },
   "outputs": [],
   "source": [
    "kraken_with_metadata <- kraken_data %>%\n",
    "  pivot_longer(cols = -ID, names_to = \"SampleID\", values_to = \"RelativeAbundance\") %>%\n",
    "  merge(metadata, by = \"SampleID\", all.x = TRUE)"
   ]
  },
  {
   "cell_type": "markdown",
   "metadata": {},
   "source": [
    "#### Adding Taxonomic Information\n",
    "The taxonomic ID in the dataset typically includes hierarchical information in a format like:\n",
    "\n",
    "`k__Bacteria|p__Firmicutes|c__Clostridia`\n",
    "\n",
    "This is a hierarchical string, where each part represents a taxonomic rank (e.g., Kingdom, Phylum, Class, etc.). \n",
    "\n",
    "For example:\n",
    "\n",
    "- `k__Bacteria`: Represents Kingdom\n",
    "- `p__Firmicutes`: Represents Phylum\n",
    "- `c__Clostridia`: Represents Class\n",
    "\n",
    "\n",
    "However, in many cases, only the most specific taxonomic rank (like Genus or Species) is of interest. To focus on this specific label, we need to extract the last part of the string (the most specific taxonomic level).\n",
    "\n",
    "For example:\n",
    "\n",
    "- Original: `k__Bacteria|p__Firmicutes|c__Clostridia`\n",
    "- Extracted: Clostridia\n",
    "\n",
    "This allows you to work with more meaningful and interpretable taxonomic labels (e.g., species names) rather than the entire hierarchical string."
   ]
  },
  {
   "cell_type": "code",
   "execution_count": 6,
   "metadata": {
    "vscode": {
     "languageId": "r"
    }
   },
   "outputs": [
    {
     "data": {
      "text/html": [
       "<dl>\n",
       "\t<dt>$Class</dt>\n",
       "\t\t<dd><table class=\"dataframe\">\n",
       "<caption>A tibble: 6 x 180</caption>\n",
       "<thead>\n",
       "\t<tr><th scope=col>SampleID</th><th scope=col>alias</th><th scope=col>date</th><th scope=col>continent</th><th scope=col>country</th><th scope=col>country2</th><th scope=col>country3</th><th scope=col>name</th><th scope=col>hospital</th><th scope=col>replicate</th><th scope=col>...</th><th scope=col>BeAn_58058_virus</th><th scope=col>Tectivirus</th><th scope=col>Pandoravirus_dulcis</th><th scope=col>Pandoravirus_inopinatum</th><th scope=col>Pandoravirus_salinus</th><th scope=col>Tospoviridae</th><th scope=col>Ackermannviridae</th><th scope=col>Myoviridae</th><th scope=col>Epsilonproteobacteria</th><th scope=col>Gammaproteobacteria</th></tr>\n",
       "\t<tr><th scope=col>&lt;chr&gt;</th><th scope=col>&lt;chr&gt;</th><th scope=col>&lt;chr&gt;</th><th scope=col>&lt;chr&gt;</th><th scope=col>&lt;chr&gt;</th><th scope=col>&lt;chr&gt;</th><th scope=col>&lt;chr&gt;</th><th scope=col>&lt;chr&gt;</th><th scope=col>&lt;chr&gt;</th><th scope=col>&lt;chr&gt;</th><th scope=col>...</th><th scope=col>&lt;dbl&gt;</th><th scope=col>&lt;dbl&gt;</th><th scope=col>&lt;dbl&gt;</th><th scope=col>&lt;dbl&gt;</th><th scope=col>&lt;dbl&gt;</th><th scope=col>&lt;dbl&gt;</th><th scope=col>&lt;dbl&gt;</th><th scope=col>&lt;dbl&gt;</th><th scope=col>&lt;dbl&gt;</th><th scope=col>&lt;dbl&gt;</th></tr>\n",
       "</thead>\n",
       "<tbody>\n",
       "\t<tr><td>BFH10_S128</td><td>BFH10</td><td>28_11_19</td><td>West Africa</td><td>Burkina Faso</td><td>Burkina Faso</td><td>BF HWW F  </td><td>BF HWW F  </td><td>B</td><td>NO</td><td>...</td><td>0.00000e+00</td><td>0.00000e+00</td><td>0.000117059</td><td>3.51177e-04</td><td>0.000351177</td><td>0.00000e+00</td><td>0.000000000</td><td>0.00608706</td><td>2.125440</td><td> 5.82602</td></tr>\n",
       "\t<tr><td>BFH33_S151</td><td>BFH33</td><td>12_12_19</td><td>West Africa</td><td>Burkina Faso</td><td>Burkina Faso</td><td>BF HWW I  </td><td>BF HWW I  </td><td>B</td><td>NO</td><td>...</td><td>0.00000e+00</td><td>6.64309e-05</td><td>0.000000000</td><td>0.00000e+00</td><td>0.000000000</td><td>3.32155e-04</td><td>0.000000000</td><td>0.23955000</td><td>6.686070</td><td>41.71240</td></tr>\n",
       "\t<tr><td>BH02_S77  </td><td>BH02 </td><td>27_11_19</td><td>West Africa</td><td>Benin       </td><td>Benin       </td><td>BENN HWW A</td><td>BENN HWW A</td><td>A</td><td>NO</td><td>...</td><td>0.00000e+00</td><td>0.00000e+00</td><td>0.000000000</td><td>9.24408e-05</td><td>0.000000000</td><td>0.00000e+00</td><td>0.000739527</td><td>0.01063070</td><td>0.210210</td><td>58.55210</td></tr>\n",
       "\t<tr><td>BH03_S78  </td><td>BH03 </td><td>27_11_19</td><td>West Africa</td><td>Benin       </td><td>Benin       </td><td>BENN HWW A</td><td>BENN HWW A</td><td>A</td><td>NO</td><td>...</td><td>0.00000e+00</td><td>4.19822e-04</td><td>0.000000000</td><td>0.00000e+00</td><td>0.000104955</td><td>0.00000e+00</td><td>0.005877510</td><td>0.02907270</td><td>0.220302</td><td> 5.78578</td></tr>\n",
       "\t<tr><td>FH1_S162  </td><td>FH1  </td><td>20_01_20</td><td>Europe     </td><td>Finland     </td><td>Finland     </td><td>FI HWW J  </td><td>FI HWW J  </td><td>C</td><td>NO</td><td>...</td><td>0.00000e+00</td><td>0.00000e+00</td><td>0.000000000</td><td>0.00000e+00</td><td>0.000000000</td><td>7.11076e-05</td><td>0.000000000</td><td>0.16575200</td><td>2.765230</td><td>52.31220</td></tr>\n",
       "\t<tr><td>FH2_S163  </td><td>FH2  </td><td>20_01_20</td><td>Europe     </td><td>Finland     </td><td>Finland     </td><td>FI HWW K  </td><td>FI HWW K  </td><td>C</td><td>NO</td><td>...</td><td>8.05431e-05</td><td>8.05431e-05</td><td>0.000000000</td><td>0.00000e+00</td><td>0.000000000</td><td>4.02716e-04</td><td>0.000241629</td><td>0.00757105</td><td>5.820050</td><td>26.62020</td></tr>\n",
       "</tbody>\n",
       "</table>\n",
       "</dd>\n",
       "\t<dt>$Family</dt>\n",
       "\t\t<dd><table class=\"dataframe\">\n",
       "<caption>A tibble: 6 x 787</caption>\n",
       "<thead>\n",
       "\t<tr><th scope=col>SampleID</th><th scope=col>alias</th><th scope=col>date</th><th scope=col>continent</th><th scope=col>country</th><th scope=col>country2</th><th scope=col>country3</th><th scope=col>name</th><th scope=col>hospital</th><th scope=col>replicate</th><th scope=col>...</th><th scope=col>Plesiomonas</th><th scope=col>Candidatus_Thioglobus_autotrophicus</th><th scope=col>Candidatus_Ruthia_magnifica</th><th scope=col>Immundisolibacteraceae</th><th scope=col>Gallaecimonas_sp._HK-28</th><th scope=col>Candidatus_Thioglobus_singularis</th><th scope=col>Thiolapillus_brandeum</th><th scope=col>Sedimenticola_thiotaurini</th><th scope=col>Pseudohongiella_spirulinae</th><th scope=col>Thiohalobacter_thiocyanaticus</th></tr>\n",
       "\t<tr><th scope=col>&lt;chr&gt;</th><th scope=col>&lt;chr&gt;</th><th scope=col>&lt;chr&gt;</th><th scope=col>&lt;chr&gt;</th><th scope=col>&lt;chr&gt;</th><th scope=col>&lt;chr&gt;</th><th scope=col>&lt;chr&gt;</th><th scope=col>&lt;chr&gt;</th><th scope=col>&lt;chr&gt;</th><th scope=col>&lt;chr&gt;</th><th scope=col>...</th><th scope=col>&lt;dbl&gt;</th><th scope=col>&lt;dbl&gt;</th><th scope=col>&lt;dbl&gt;</th><th scope=col>&lt;dbl&gt;</th><th scope=col>&lt;dbl&gt;</th><th scope=col>&lt;dbl&gt;</th><th scope=col>&lt;dbl&gt;</th><th scope=col>&lt;dbl&gt;</th><th scope=col>&lt;dbl&gt;</th><th scope=col>&lt;dbl&gt;</th></tr>\n",
       "</thead>\n",
       "<tbody>\n",
       "\t<tr><td>BFH10_S128</td><td>BFH10</td><td>28_11_19</td><td>West Africa</td><td>Burkina Faso</td><td>Burkina Faso</td><td>BF HWW F  </td><td>BF HWW F  </td><td>B</td><td>NO</td><td>...</td><td>0.000468235</td><td>5.85294e-04</td><td>0.000819412</td><td>0.01322770</td><td>0.001990000</td><td>1.28765e-03</td><td>0.004448240</td><td>0.00304353</td><td>0.000234118</td><td>0.00913059</td></tr>\n",
       "\t<tr><td>BFH33_S151</td><td>BFH33</td><td>12_12_19</td><td>West Africa</td><td>Burkina Faso</td><td>Burkina Faso</td><td>BF HWW I  </td><td>BF HWW I  </td><td>B</td><td>NO</td><td>...</td><td>0.015412000</td><td>4.65016e-04</td><td>0.000730740</td><td>0.00265724</td><td>0.002059360</td><td>5.97878e-04</td><td>0.001129330</td><td>0.00239151</td><td>0.001328620</td><td>0.00345441</td></tr>\n",
       "\t<tr><td>BH02_S77  </td><td>BH02 </td><td>27_11_19</td><td>West Africa</td><td>Benin       </td><td>Benin       </td><td>BENN HWW A</td><td>BENN HWW A</td><td>A</td><td>NO</td><td>...</td><td>0.070809700</td><td>0.00000e+00</td><td>0.000000000</td><td>0.00434472</td><td>0.009891170</td><td>6.47086e-04</td><td>0.002865670</td><td>0.01580740</td><td>0.005546450</td><td>0.00406740</td></tr>\n",
       "\t<tr><td>BH03_S78  </td><td>BH03 </td><td>27_11_19</td><td>West Africa</td><td>Benin       </td><td>Benin       </td><td>BENN HWW A</td><td>BENN HWW A</td><td>A</td><td>NO</td><td>...</td><td>0.005247770</td><td>1.04955e-04</td><td>0.000000000</td><td>0.00503786</td><td>0.000839644</td><td>1.04955e-04</td><td>0.004827950</td><td>0.00587751</td><td>0.001364420</td><td>0.00703202</td></tr>\n",
       "\t<tr><td>FH1_S162  </td><td>FH1  </td><td>20_01_20</td><td>Europe     </td><td>Finland     </td><td>Finland     </td><td>FI HWW J  </td><td>FI HWW J  </td><td>C</td><td>NO</td><td>...</td><td>0.007964050</td><td>1.42215e-04</td><td>0.000213323</td><td>0.00376870</td><td>0.000711076</td><td>7.11076e-05</td><td>0.000924399</td><td>0.00113772</td><td>0.000426646</td><td>0.00206212</td></tr>\n",
       "\t<tr><td>FH2_S163  </td><td>FH2  </td><td>20_01_20</td><td>Europe     </td><td>Finland     </td><td>Finland     </td><td>FI HWW K  </td><td>FI HWW K  </td><td>C</td><td>NO</td><td>...</td><td>0.002496840</td><td>8.05431e-05</td><td>0.001449780</td><td>0.00837648</td><td>0.002174660</td><td>4.02716e-04</td><td>0.000885974</td><td>0.00177195</td><td>0.001127600</td><td>0.00402716</td></tr>\n",
       "</tbody>\n",
       "</table>\n",
       "</dd>\n",
       "\t<dt>$Genus</dt>\n",
       "\t\t<dd><table class=\"dataframe\">\n",
       "<caption>A tibble: 6 x 1316</caption>\n",
       "<thead>\n",
       "\t<tr><th scope=col>SampleID</th><th scope=col>alias</th><th scope=col>date</th><th scope=col>continent</th><th scope=col>country</th><th scope=col>country2</th><th scope=col>country3</th><th scope=col>name</th><th scope=col>hospital</th><th scope=col>replicate</th><th scope=col>...</th><th scope=col>Nautilia</th><th scope=col>Plesiomonas_shigelloides</th><th scope=col>Phytobacter_sp._SCO41</th><th scope=col>Wenyingzhuangia</th><th scope=col>Weeksella</th><th scope=col>Immundisolibacter</th><th scope=col>Winogradskyella</th><th scope=col>Zunongwangia</th><th scope=col>Flavobacteriaceae_bacterium</th><th scope=col>Zobellia</th></tr>\n",
       "\t<tr><th scope=col>&lt;chr&gt;</th><th scope=col>&lt;chr&gt;</th><th scope=col>&lt;chr&gt;</th><th scope=col>&lt;chr&gt;</th><th scope=col>&lt;chr&gt;</th><th scope=col>&lt;chr&gt;</th><th scope=col>&lt;chr&gt;</th><th scope=col>&lt;chr&gt;</th><th scope=col>&lt;chr&gt;</th><th scope=col>&lt;chr&gt;</th><th scope=col>...</th><th scope=col>&lt;dbl&gt;</th><th scope=col>&lt;dbl&gt;</th><th scope=col>&lt;dbl&gt;</th><th scope=col>&lt;dbl&gt;</th><th scope=col>&lt;dbl&gt;</th><th scope=col>&lt;dbl&gt;</th><th scope=col>&lt;dbl&gt;</th><th scope=col>&lt;dbl&gt;</th><th scope=col>&lt;dbl&gt;</th><th scope=col>&lt;dbl&gt;</th></tr>\n",
       "</thead>\n",
       "<tbody>\n",
       "\t<tr><td>BFH10_S128</td><td>BFH10</td><td>28_11_19</td><td>West Africa</td><td>Burkina Faso</td><td>Burkina Faso</td><td>BF HWW F  </td><td>BF HWW F  </td><td>B</td><td>NO</td><td>...</td><td>0.001521770</td><td>0.000468235</td><td>0.000351177</td><td>0.000936471</td><td>0.000351177</td><td>0.01322770</td><td>0.00292647</td><td>0.001638820</td><td>0.000468235</td><td>5.85294e-04</td></tr>\n",
       "\t<tr><td>BFH33_S151</td><td>BFH33</td><td>12_12_19</td><td>West Africa</td><td>Burkina Faso</td><td>Burkina Faso</td><td>BF HWW I  </td><td>BF HWW I  </td><td>B</td><td>NO</td><td>...</td><td>0.001062890</td><td>0.015412000</td><td>0.002657240</td><td>0.001129330</td><td>0.013551900</td><td>0.00265724</td><td>0.00385299</td><td>0.000930033</td><td>0.001262190</td><td>9.96464e-04</td></tr>\n",
       "\t<tr><td>BH02_S77  </td><td>BH02 </td><td>27_11_19</td><td>West Africa</td><td>Benin       </td><td>Benin       </td><td>BENN HWW A</td><td>BENN HWW A</td><td>A</td><td>NO</td><td>...</td><td>0.000000000</td><td>0.070809700</td><td>0.029673500</td><td>0.000277323</td><td>0.000277323</td><td>0.00434472</td><td>0.00138661</td><td>0.000277323</td><td>0.000000000</td><td>9.24408e-05</td></tr>\n",
       "\t<tr><td>BH03_S78  </td><td>BH03 </td><td>27_11_19</td><td>West Africa</td><td>Benin       </td><td>Benin       </td><td>BENN HWW A</td><td>BENN HWW A</td><td>A</td><td>NO</td><td>...</td><td>0.001364420</td><td>0.005247770</td><td>0.000734688</td><td>0.000104955</td><td>0.000524777</td><td>0.00503786</td><td>0.00419822</td><td>0.000314866</td><td>0.000314866</td><td>3.14866e-04</td></tr>\n",
       "\t<tr><td>FH1_S162  </td><td>FH1  </td><td>20_01_20</td><td>Europe     </td><td>Finland     </td><td>Finland     </td><td>FI HWW J  </td><td>FI HWW J  </td><td>C</td><td>NO</td><td>...</td><td>0.000284430</td><td>0.007964050</td><td>0.002133230</td><td>0.001919910</td><td>0.012728300</td><td>0.00376870</td><td>0.00604415</td><td>0.000568861</td><td>0.001137720</td><td>4.26646e-04</td></tr>\n",
       "\t<tr><td>FH2_S163  </td><td>FH2  </td><td>20_01_20</td><td>Europe     </td><td>Finland     </td><td>Finland     </td><td>FI HWW K  </td><td>FI HWW K  </td><td>C</td><td>NO</td><td>...</td><td>0.000161086</td><td>0.002496840</td><td>0.003543900</td><td>0.002335750</td><td>0.008940290</td><td>0.00837648</td><td>0.00781268</td><td>0.001288690</td><td>0.000966517</td><td>8.85974e-04</td></tr>\n",
       "</tbody>\n",
       "</table>\n",
       "</dd>\n",
       "\t<dt>$Kingdom</dt>\n",
       "\t\t<dd><table class=\"dataframe\">\n",
       "<caption>A tibble: 6 x 29</caption>\n",
       "<thead>\n",
       "\t<tr><th scope=col>SampleID</th><th scope=col>alias</th><th scope=col>date</th><th scope=col>continent</th><th scope=col>country</th><th scope=col>country2</th><th scope=col>country3</th><th scope=col>name</th><th scope=col>hospital</th><th scope=col>replicate</th><th scope=col>...</th><th scope=col>DNA_ng_.l</th><th scope=col>A260_280</th><th scope=col>M_Seqs_trimmed</th><th scope=col>plot_name</th><th scope=col>Taxonomic_Level</th><th scope=col>Taxonomic_Label</th><th scope=col>Archaea</th><th scope=col>Bacteria</th><th scope=col>Eukaryota</th><th scope=col>Viruses</th></tr>\n",
       "\t<tr><th scope=col>&lt;chr&gt;</th><th scope=col>&lt;chr&gt;</th><th scope=col>&lt;chr&gt;</th><th scope=col>&lt;chr&gt;</th><th scope=col>&lt;chr&gt;</th><th scope=col>&lt;chr&gt;</th><th scope=col>&lt;chr&gt;</th><th scope=col>&lt;chr&gt;</th><th scope=col>&lt;chr&gt;</th><th scope=col>&lt;chr&gt;</th><th scope=col>...</th><th scope=col>&lt;dbl&gt;</th><th scope=col>&lt;dbl&gt;</th><th scope=col>&lt;dbl&gt;</th><th scope=col>&lt;chr&gt;</th><th scope=col>&lt;int&gt;</th><th scope=col>&lt;chr&gt;</th><th scope=col>&lt;dbl&gt;</th><th scope=col>&lt;dbl&gt;</th><th scope=col>&lt;dbl&gt;</th><th scope=col>&lt;dbl&gt;</th></tr>\n",
       "</thead>\n",
       "<tbody>\n",
       "\t<tr><td>BFH10_S128</td><td>BFH10</td><td>28_11_19</td><td>West Africa</td><td>Burkina Faso</td><td>Burkina Faso</td><td>BF HWW F  </td><td>BF HWW F  </td><td>B</td><td>NO</td><td>...</td><td>119.477</td><td>1.869</td><td>32.0</td><td>hospital effluent</td><td>1</td><td>Kingdom</td><td>2.5398300</td><td>96.6534</td><td>0.753040</td><td>0.0537300</td></tr>\n",
       "\t<tr><td>BFH33_S151</td><td>BFH33</td><td>12_12_19</td><td>West Africa</td><td>Burkina Faso</td><td>Burkina Faso</td><td>BF HWW I  </td><td>BF HWW I  </td><td>B</td><td>NO</td><td>...</td><td> 72.642</td><td>1.857</td><td>33.7</td><td>hospital effluent</td><td>1</td><td>Kingdom</td><td>0.4268190</td><td>98.4433</td><td>0.803216</td><td>0.3266410</td></tr>\n",
       "\t<tr><td>BH02_S77  </td><td>BH02 </td><td>27_11_19</td><td>West Africa</td><td>Benin       </td><td>Benin       </td><td>BENN HWW A</td><td>BENN HWW A</td><td>A</td><td>NO</td><td>...</td><td> 44.115</td><td>1.863</td><td>30.8</td><td>hospital effluent</td><td>1</td><td>Kingdom</td><td>0.1339470</td><td>98.8584</td><td>0.540871</td><td>0.4668260</td></tr>\n",
       "\t<tr><td>BH03_S78  </td><td>BH03 </td><td>27_11_19</td><td>West Africa</td><td>Benin       </td><td>Benin       </td><td>BENN HWW A</td><td>BENN HWW A</td><td>A</td><td>NO</td><td>...</td><td> 98.572</td><td>1.844</td><td>31.6</td><td>hospital effluent</td><td>1</td><td>Kingdom</td><td>0.3163360</td><td>98.5221</td><td>0.860740</td><td>0.3008020</td></tr>\n",
       "\t<tr><td>FH1_S162  </td><td>FH1  </td><td>20_01_20</td><td>Europe     </td><td>Finland     </td><td>Finland     </td><td>FI HWW J  </td><td>FI HWW J  </td><td>C</td><td>NO</td><td>...</td><td> 49.300</td><td>1.870</td><td>21.2</td><td>hospital effluent</td><td>1</td><td>Kingdom</td><td>0.0479976</td><td>96.4236</td><td>3.098160</td><td>0.4302720</td></tr>\n",
       "\t<tr><td>FH2_S163  </td><td>FH2  </td><td>20_01_20</td><td>Europe     </td><td>Finland     </td><td>Finland     </td><td>FI HWW K  </td><td>FI HWW K  </td><td>C</td><td>NO</td><td>...</td><td> 70.400</td><td>1.880</td><td>37.9</td><td>hospital effluent</td><td>1</td><td>Kingdom</td><td>0.1228280</td><td>97.2917</td><td>2.549590</td><td>0.0358417</td></tr>\n",
       "</tbody>\n",
       "</table>\n",
       "</dd>\n",
       "\t<dt>$Order</dt>\n",
       "\t\t<dd><table class=\"dataframe\">\n",
       "<caption>A tibble: 6 x 523</caption>\n",
       "<thead>\n",
       "\t<tr><th scope=col>SampleID</th><th scope=col>alias</th><th scope=col>date</th><th scope=col>continent</th><th scope=col>country</th><th scope=col>country2</th><th scope=col>country3</th><th scope=col>name</th><th scope=col>hospital</th><th scope=col>replicate</th><th scope=col>...</th><th scope=col>Nautiliales</th><th scope=col>Candidatus_Thioglobus</th><th scope=col>Candidatus_Ruthia</th><th scope=col>Immundisolibacterales</th><th scope=col>Legionellales</th><th scope=col>Pseudohongiella</th><th scope=col>Gallaecimonas</th><th scope=col>Thiohalobacter</th><th scope=col>Sedimenticola</th><th scope=col>Thiolapillus</th></tr>\n",
       "\t<tr><th scope=col>&lt;chr&gt;</th><th scope=col>&lt;chr&gt;</th><th scope=col>&lt;chr&gt;</th><th scope=col>&lt;chr&gt;</th><th scope=col>&lt;chr&gt;</th><th scope=col>&lt;chr&gt;</th><th scope=col>&lt;chr&gt;</th><th scope=col>&lt;chr&gt;</th><th scope=col>&lt;chr&gt;</th><th scope=col>&lt;chr&gt;</th><th scope=col>...</th><th scope=col>&lt;dbl&gt;</th><th scope=col>&lt;dbl&gt;</th><th scope=col>&lt;dbl&gt;</th><th scope=col>&lt;dbl&gt;</th><th scope=col>&lt;dbl&gt;</th><th scope=col>&lt;dbl&gt;</th><th scope=col>&lt;dbl&gt;</th><th scope=col>&lt;dbl&gt;</th><th scope=col>&lt;dbl&gt;</th><th scope=col>&lt;dbl&gt;</th></tr>\n",
       "</thead>\n",
       "<tbody>\n",
       "\t<tr><td>BFH10_S128</td><td>BFH10</td><td>28_11_19</td><td>West Africa</td><td>Burkina Faso</td><td>Burkina Faso</td><td>BF HWW F  </td><td>BF HWW F  </td><td>B</td><td>NO</td><td>...</td><td>0.001521770</td><td>0.001872940</td><td>0.000819412</td><td>0.01322770</td><td>0.01053530</td><td>0.000234118</td><td>0.001990000</td><td>0.00913059</td><td>0.00304353</td><td>0.004448240</td></tr>\n",
       "\t<tr><td>BFH33_S151</td><td>BFH33</td><td>12_12_19</td><td>West Africa</td><td>Burkina Faso</td><td>Burkina Faso</td><td>BF HWW I  </td><td>BF HWW I  </td><td>B</td><td>NO</td><td>...</td><td>0.001062890</td><td>0.001195760</td><td>0.000730740</td><td>0.00265724</td><td>0.00843673</td><td>0.001328620</td><td>0.002059360</td><td>0.00345441</td><td>0.00239151</td><td>0.001129330</td></tr>\n",
       "\t<tr><td>BH02_S77  </td><td>BH02 </td><td>27_11_19</td><td>West Africa</td><td>Benin       </td><td>Benin       </td><td>BENN HWW A</td><td>BENN HWW A</td><td>A</td><td>NO</td><td>...</td><td>0.000000000</td><td>0.000647086</td><td>0.000000000</td><td>0.00434472</td><td>0.04797680</td><td>0.005546450</td><td>0.009891170</td><td>0.00406740</td><td>0.01580740</td><td>0.002865670</td></tr>\n",
       "\t<tr><td>BH03_S78  </td><td>BH03 </td><td>27_11_19</td><td>West Africa</td><td>Benin       </td><td>Benin       </td><td>BENN HWW A</td><td>BENN HWW A</td><td>A</td><td>NO</td><td>...</td><td>0.001364420</td><td>0.000209911</td><td>0.000000000</td><td>0.00503786</td><td>0.00808157</td><td>0.001364420</td><td>0.000839644</td><td>0.00703202</td><td>0.00587751</td><td>0.004827950</td></tr>\n",
       "\t<tr><td>FH1_S162  </td><td>FH1  </td><td>20_01_20</td><td>Europe     </td><td>Finland     </td><td>Finland     </td><td>FI HWW J  </td><td>FI HWW J  </td><td>C</td><td>NO</td><td>...</td><td>0.000284430</td><td>0.000213323</td><td>0.000213323</td><td>0.00376870</td><td>0.00533307</td><td>0.000426646</td><td>0.000711076</td><td>0.00206212</td><td>0.00113772</td><td>0.000924399</td></tr>\n",
       "\t<tr><td>FH2_S163  </td><td>FH2  </td><td>20_01_20</td><td>Europe     </td><td>Finland     </td><td>Finland     </td><td>FI HWW K  </td><td>FI HWW K  </td><td>C</td><td>NO</td><td>...</td><td>0.000161086</td><td>0.000483259</td><td>0.001449780</td><td>0.00837648</td><td>0.00732942</td><td>0.001127600</td><td>0.002174660</td><td>0.00402716</td><td>0.00177195</td><td>0.000885974</td></tr>\n",
       "</tbody>\n",
       "</table>\n",
       "</dd>\n",
       "\t<dt>$Phylum</dt>\n",
       "\t\t<dd><table class=\"dataframe\">\n",
       "<caption>A tibble: 6 x 96</caption>\n",
       "<thead>\n",
       "\t<tr><th scope=col>SampleID</th><th scope=col>alias</th><th scope=col>date</th><th scope=col>continent</th><th scope=col>country</th><th scope=col>country2</th><th scope=col>country3</th><th scope=col>name</th><th scope=col>hospital</th><th scope=col>replicate</th><th scope=col>...</th><th scope=col>Tectiviridae</th><th scope=col>Beihai_rhabdo-like_virus_2</th><th scope=col>Hubei_picorna-like_virus_45</th><th scope=col>Hubei_sobemo-like_virus_38</th><th scope=col>Pandoravirus</th><th scope=col>Pseudomonas_phage_vB_PaeP_Tr60_Ab31</th><th scope=col>Wenling_nido-like_virus_1</th><th scope=col>uncultured_crAssphage</th><th scope=col>Bunyavirales</th><th scope=col>Caudovirales</th></tr>\n",
       "\t<tr><th scope=col>&lt;chr&gt;</th><th scope=col>&lt;chr&gt;</th><th scope=col>&lt;chr&gt;</th><th scope=col>&lt;chr&gt;</th><th scope=col>&lt;chr&gt;</th><th scope=col>&lt;chr&gt;</th><th scope=col>&lt;chr&gt;</th><th scope=col>&lt;chr&gt;</th><th scope=col>&lt;chr&gt;</th><th scope=col>&lt;chr&gt;</th><th scope=col>...</th><th scope=col>&lt;dbl&gt;</th><th scope=col>&lt;dbl&gt;</th><th scope=col>&lt;dbl&gt;</th><th scope=col>&lt;dbl&gt;</th><th scope=col>&lt;dbl&gt;</th><th scope=col>&lt;dbl&gt;</th><th scope=col>&lt;dbl&gt;</th><th scope=col>&lt;dbl&gt;</th><th scope=col>&lt;dbl&gt;</th><th scope=col>&lt;dbl&gt;</th></tr>\n",
       "</thead>\n",
       "<tbody>\n",
       "\t<tr><td>BFH10_S128</td><td>BFH10</td><td>28_11_19</td><td>West Africa</td><td>Burkina Faso</td><td>Burkina Faso</td><td>BF HWW F  </td><td>BF HWW F  </td><td>B</td><td>NO</td><td>...</td><td>0.00000e+00</td><td>0.00000e+00</td><td>0.000117059</td><td>0.00000e+00</td><td>8.19412e-04</td><td>0.00000e+00</td><td>0.000000000</td><td>0.00971589</td><td>0.00000e+00</td><td>0.0420241</td></tr>\n",
       "\t<tr><td>BFH33_S151</td><td>BFH33</td><td>12_12_19</td><td>West Africa</td><td>Burkina Faso</td><td>Burkina Faso</td><td>BF HWW I  </td><td>BF HWW I  </td><td>B</td><td>NO</td><td>...</td><td>6.64309e-05</td><td>6.64309e-05</td><td>0.000000000</td><td>6.64309e-05</td><td>0.00000e+00</td><td>0.00000e+00</td><td>0.000000000</td><td>0.00717454</td><td>3.32155e-04</td><td>0.3184030</td></tr>\n",
       "\t<tr><td>BH02_S77  </td><td>BH02 </td><td>27_11_19</td><td>West Africa</td><td>Benin       </td><td>Benin       </td><td>BENN HWW A</td><td>BENN HWW A</td><td>A</td><td>NO</td><td>...</td><td>0.00000e+00</td><td>0.00000e+00</td><td>0.000000000</td><td>0.00000e+00</td><td>9.24408e-05</td><td>0.00000e+00</td><td>0.000000000</td><td>0.00000000</td><td>0.00000e+00</td><td>0.4659020</td></tr>\n",
       "\t<tr><td>BH03_S78  </td><td>BH03 </td><td>27_11_19</td><td>West Africa</td><td>Benin       </td><td>Benin       </td><td>BENN HWW A</td><td>BENN HWW A</td><td>A</td><td>NO</td><td>...</td><td>4.19822e-04</td><td>0.00000e+00</td><td>0.000000000</td><td>0.00000e+00</td><td>1.04955e-04</td><td>0.00000e+00</td><td>0.000209911</td><td>0.19091400</td><td>0.00000e+00</td><td>0.1085240</td></tr>\n",
       "\t<tr><td>FH1_S162  </td><td>FH1  </td><td>20_01_20</td><td>Europe     </td><td>Finland     </td><td>Finland     </td><td>FI HWW J  </td><td>FI HWW J  </td><td>C</td><td>NO</td><td>...</td><td>0.00000e+00</td><td>0.00000e+00</td><td>0.000000000</td><td>0.00000e+00</td><td>0.00000e+00</td><td>7.11076e-05</td><td>0.000000000</td><td>0.13467800</td><td>7.11076e-05</td><td>0.2921810</td></tr>\n",
       "\t<tr><td>FH2_S163  </td><td>FH2  </td><td>20_01_20</td><td>Europe     </td><td>Finland     </td><td>Finland     </td><td>FI HWW K  </td><td>FI HWW K  </td><td>C</td><td>NO</td><td>...</td><td>8.05431e-05</td><td>0.00000e+00</td><td>0.000000000</td><td>0.00000e+00</td><td>0.00000e+00</td><td>0.00000e+00</td><td>0.000000000</td><td>0.01111500</td><td>4.02716e-04</td><td>0.0222299</td></tr>\n",
       "</tbody>\n",
       "</table>\n",
       "</dd>\n",
       "</dl>\n"
      ],
      "text/latex": [
       "\\begin{description}\n",
       "\\item[\\$Class] A tibble: 6 x 180\n",
       "\\begin{tabular}{lllllllllllllllllllll}\n",
       " SampleID & alias & date & continent & country & country2 & country3 & name & hospital & replicate & ... & BeAn\\_58058\\_virus & Tectivirus & Pandoravirus\\_dulcis & Pandoravirus\\_inopinatum & Pandoravirus\\_salinus & Tospoviridae & Ackermannviridae & Myoviridae & Epsilonproteobacteria & Gammaproteobacteria\\\\\n",
       " <chr> & <chr> & <chr> & <chr> & <chr> & <chr> & <chr> & <chr> & <chr> & <chr> & ... & <dbl> & <dbl> & <dbl> & <dbl> & <dbl> & <dbl> & <dbl> & <dbl> & <dbl> & <dbl>\\\\\n",
       "\\hline\n",
       "\t BFH10\\_S128 & BFH10 & 28\\_11\\_19 & West Africa & Burkina Faso & Burkina Faso & BF HWW F   & BF HWW F   & B & NO & ... & 0.00000e+00 & 0.00000e+00 & 0.000117059 & 3.51177e-04 & 0.000351177 & 0.00000e+00 & 0.000000000 & 0.00608706 & 2.125440 &  5.82602\\\\\n",
       "\t BFH33\\_S151 & BFH33 & 12\\_12\\_19 & West Africa & Burkina Faso & Burkina Faso & BF HWW I   & BF HWW I   & B & NO & ... & 0.00000e+00 & 6.64309e-05 & 0.000000000 & 0.00000e+00 & 0.000000000 & 3.32155e-04 & 0.000000000 & 0.23955000 & 6.686070 & 41.71240\\\\\n",
       "\t BH02\\_S77   & BH02  & 27\\_11\\_19 & West Africa & Benin        & Benin        & BENN HWW A & BENN HWW A & A & NO & ... & 0.00000e+00 & 0.00000e+00 & 0.000000000 & 9.24408e-05 & 0.000000000 & 0.00000e+00 & 0.000739527 & 0.01063070 & 0.210210 & 58.55210\\\\\n",
       "\t BH03\\_S78   & BH03  & 27\\_11\\_19 & West Africa & Benin        & Benin        & BENN HWW A & BENN HWW A & A & NO & ... & 0.00000e+00 & 4.19822e-04 & 0.000000000 & 0.00000e+00 & 0.000104955 & 0.00000e+00 & 0.005877510 & 0.02907270 & 0.220302 &  5.78578\\\\\n",
       "\t FH1\\_S162   & FH1   & 20\\_01\\_20 & Europe      & Finland      & Finland      & FI HWW J   & FI HWW J   & C & NO & ... & 0.00000e+00 & 0.00000e+00 & 0.000000000 & 0.00000e+00 & 0.000000000 & 7.11076e-05 & 0.000000000 & 0.16575200 & 2.765230 & 52.31220\\\\\n",
       "\t FH2\\_S163   & FH2   & 20\\_01\\_20 & Europe      & Finland      & Finland      & FI HWW K   & FI HWW K   & C & NO & ... & 8.05431e-05 & 8.05431e-05 & 0.000000000 & 0.00000e+00 & 0.000000000 & 4.02716e-04 & 0.000241629 & 0.00757105 & 5.820050 & 26.62020\\\\\n",
       "\\end{tabular}\n",
       "\n",
       "\\item[\\$Family] A tibble: 6 x 787\n",
       "\\begin{tabular}{lllllllllllllllllllll}\n",
       " SampleID & alias & date & continent & country & country2 & country3 & name & hospital & replicate & ... & Plesiomonas & Candidatus\\_Thioglobus\\_autotrophicus & Candidatus\\_Ruthia\\_magnifica & Immundisolibacteraceae & Gallaecimonas\\_sp.\\_HK-28 & Candidatus\\_Thioglobus\\_singularis & Thiolapillus\\_brandeum & Sedimenticola\\_thiotaurini & Pseudohongiella\\_spirulinae & Thiohalobacter\\_thiocyanaticus\\\\\n",
       " <chr> & <chr> & <chr> & <chr> & <chr> & <chr> & <chr> & <chr> & <chr> & <chr> & ... & <dbl> & <dbl> & <dbl> & <dbl> & <dbl> & <dbl> & <dbl> & <dbl> & <dbl> & <dbl>\\\\\n",
       "\\hline\n",
       "\t BFH10\\_S128 & BFH10 & 28\\_11\\_19 & West Africa & Burkina Faso & Burkina Faso & BF HWW F   & BF HWW F   & B & NO & ... & 0.000468235 & 5.85294e-04 & 0.000819412 & 0.01322770 & 0.001990000 & 1.28765e-03 & 0.004448240 & 0.00304353 & 0.000234118 & 0.00913059\\\\\n",
       "\t BFH33\\_S151 & BFH33 & 12\\_12\\_19 & West Africa & Burkina Faso & Burkina Faso & BF HWW I   & BF HWW I   & B & NO & ... & 0.015412000 & 4.65016e-04 & 0.000730740 & 0.00265724 & 0.002059360 & 5.97878e-04 & 0.001129330 & 0.00239151 & 0.001328620 & 0.00345441\\\\\n",
       "\t BH02\\_S77   & BH02  & 27\\_11\\_19 & West Africa & Benin        & Benin        & BENN HWW A & BENN HWW A & A & NO & ... & 0.070809700 & 0.00000e+00 & 0.000000000 & 0.00434472 & 0.009891170 & 6.47086e-04 & 0.002865670 & 0.01580740 & 0.005546450 & 0.00406740\\\\\n",
       "\t BH03\\_S78   & BH03  & 27\\_11\\_19 & West Africa & Benin        & Benin        & BENN HWW A & BENN HWW A & A & NO & ... & 0.005247770 & 1.04955e-04 & 0.000000000 & 0.00503786 & 0.000839644 & 1.04955e-04 & 0.004827950 & 0.00587751 & 0.001364420 & 0.00703202\\\\\n",
       "\t FH1\\_S162   & FH1   & 20\\_01\\_20 & Europe      & Finland      & Finland      & FI HWW J   & FI HWW J   & C & NO & ... & 0.007964050 & 1.42215e-04 & 0.000213323 & 0.00376870 & 0.000711076 & 7.11076e-05 & 0.000924399 & 0.00113772 & 0.000426646 & 0.00206212\\\\\n",
       "\t FH2\\_S163   & FH2   & 20\\_01\\_20 & Europe      & Finland      & Finland      & FI HWW K   & FI HWW K   & C & NO & ... & 0.002496840 & 8.05431e-05 & 0.001449780 & 0.00837648 & 0.002174660 & 4.02716e-04 & 0.000885974 & 0.00177195 & 0.001127600 & 0.00402716\\\\\n",
       "\\end{tabular}\n",
       "\n",
       "\\item[\\$Genus] A tibble: 6 x 1316\n",
       "\\begin{tabular}{lllllllllllllllllllll}\n",
       " SampleID & alias & date & continent & country & country2 & country3 & name & hospital & replicate & ... & Nautilia & Plesiomonas\\_shigelloides & Phytobacter\\_sp.\\_SCO41 & Wenyingzhuangia & Weeksella & Immundisolibacter & Winogradskyella & Zunongwangia & Flavobacteriaceae\\_bacterium & Zobellia\\\\\n",
       " <chr> & <chr> & <chr> & <chr> & <chr> & <chr> & <chr> & <chr> & <chr> & <chr> & ... & <dbl> & <dbl> & <dbl> & <dbl> & <dbl> & <dbl> & <dbl> & <dbl> & <dbl> & <dbl>\\\\\n",
       "\\hline\n",
       "\t BFH10\\_S128 & BFH10 & 28\\_11\\_19 & West Africa & Burkina Faso & Burkina Faso & BF HWW F   & BF HWW F   & B & NO & ... & 0.001521770 & 0.000468235 & 0.000351177 & 0.000936471 & 0.000351177 & 0.01322770 & 0.00292647 & 0.001638820 & 0.000468235 & 5.85294e-04\\\\\n",
       "\t BFH33\\_S151 & BFH33 & 12\\_12\\_19 & West Africa & Burkina Faso & Burkina Faso & BF HWW I   & BF HWW I   & B & NO & ... & 0.001062890 & 0.015412000 & 0.002657240 & 0.001129330 & 0.013551900 & 0.00265724 & 0.00385299 & 0.000930033 & 0.001262190 & 9.96464e-04\\\\\n",
       "\t BH02\\_S77   & BH02  & 27\\_11\\_19 & West Africa & Benin        & Benin        & BENN HWW A & BENN HWW A & A & NO & ... & 0.000000000 & 0.070809700 & 0.029673500 & 0.000277323 & 0.000277323 & 0.00434472 & 0.00138661 & 0.000277323 & 0.000000000 & 9.24408e-05\\\\\n",
       "\t BH03\\_S78   & BH03  & 27\\_11\\_19 & West Africa & Benin        & Benin        & BENN HWW A & BENN HWW A & A & NO & ... & 0.001364420 & 0.005247770 & 0.000734688 & 0.000104955 & 0.000524777 & 0.00503786 & 0.00419822 & 0.000314866 & 0.000314866 & 3.14866e-04\\\\\n",
       "\t FH1\\_S162   & FH1   & 20\\_01\\_20 & Europe      & Finland      & Finland      & FI HWW J   & FI HWW J   & C & NO & ... & 0.000284430 & 0.007964050 & 0.002133230 & 0.001919910 & 0.012728300 & 0.00376870 & 0.00604415 & 0.000568861 & 0.001137720 & 4.26646e-04\\\\\n",
       "\t FH2\\_S163   & FH2   & 20\\_01\\_20 & Europe      & Finland      & Finland      & FI HWW K   & FI HWW K   & C & NO & ... & 0.000161086 & 0.002496840 & 0.003543900 & 0.002335750 & 0.008940290 & 0.00837648 & 0.00781268 & 0.001288690 & 0.000966517 & 8.85974e-04\\\\\n",
       "\\end{tabular}\n",
       "\n",
       "\\item[\\$Kingdom] A tibble: 6 x 29\n",
       "\\begin{tabular}{lllllllllllllllllllll}\n",
       " SampleID & alias & date & continent & country & country2 & country3 & name & hospital & replicate & ... & DNA\\_ng\\_.l & A260\\_280 & M\\_Seqs\\_trimmed & plot\\_name & Taxonomic\\_Level & Taxonomic\\_Label & Archaea & Bacteria & Eukaryota & Viruses\\\\\n",
       " <chr> & <chr> & <chr> & <chr> & <chr> & <chr> & <chr> & <chr> & <chr> & <chr> & ... & <dbl> & <dbl> & <dbl> & <chr> & <int> & <chr> & <dbl> & <dbl> & <dbl> & <dbl>\\\\\n",
       "\\hline\n",
       "\t BFH10\\_S128 & BFH10 & 28\\_11\\_19 & West Africa & Burkina Faso & Burkina Faso & BF HWW F   & BF HWW F   & B & NO & ... & 119.477 & 1.869 & 32.0 & hospital effluent & 1 & Kingdom & 2.5398300 & 96.6534 & 0.753040 & 0.0537300\\\\\n",
       "\t BFH33\\_S151 & BFH33 & 12\\_12\\_19 & West Africa & Burkina Faso & Burkina Faso & BF HWW I   & BF HWW I   & B & NO & ... &  72.642 & 1.857 & 33.7 & hospital effluent & 1 & Kingdom & 0.4268190 & 98.4433 & 0.803216 & 0.3266410\\\\\n",
       "\t BH02\\_S77   & BH02  & 27\\_11\\_19 & West Africa & Benin        & Benin        & BENN HWW A & BENN HWW A & A & NO & ... &  44.115 & 1.863 & 30.8 & hospital effluent & 1 & Kingdom & 0.1339470 & 98.8584 & 0.540871 & 0.4668260\\\\\n",
       "\t BH03\\_S78   & BH03  & 27\\_11\\_19 & West Africa & Benin        & Benin        & BENN HWW A & BENN HWW A & A & NO & ... &  98.572 & 1.844 & 31.6 & hospital effluent & 1 & Kingdom & 0.3163360 & 98.5221 & 0.860740 & 0.3008020\\\\\n",
       "\t FH1\\_S162   & FH1   & 20\\_01\\_20 & Europe      & Finland      & Finland      & FI HWW J   & FI HWW J   & C & NO & ... &  49.300 & 1.870 & 21.2 & hospital effluent & 1 & Kingdom & 0.0479976 & 96.4236 & 3.098160 & 0.4302720\\\\\n",
       "\t FH2\\_S163   & FH2   & 20\\_01\\_20 & Europe      & Finland      & Finland      & FI HWW K   & FI HWW K   & C & NO & ... &  70.400 & 1.880 & 37.9 & hospital effluent & 1 & Kingdom & 0.1228280 & 97.2917 & 2.549590 & 0.0358417\\\\\n",
       "\\end{tabular}\n",
       "\n",
       "\\item[\\$Order] A tibble: 6 x 523\n",
       "\\begin{tabular}{lllllllllllllllllllll}\n",
       " SampleID & alias & date & continent & country & country2 & country3 & name & hospital & replicate & ... & Nautiliales & Candidatus\\_Thioglobus & Candidatus\\_Ruthia & Immundisolibacterales & Legionellales & Pseudohongiella & Gallaecimonas & Thiohalobacter & Sedimenticola & Thiolapillus\\\\\n",
       " <chr> & <chr> & <chr> & <chr> & <chr> & <chr> & <chr> & <chr> & <chr> & <chr> & ... & <dbl> & <dbl> & <dbl> & <dbl> & <dbl> & <dbl> & <dbl> & <dbl> & <dbl> & <dbl>\\\\\n",
       "\\hline\n",
       "\t BFH10\\_S128 & BFH10 & 28\\_11\\_19 & West Africa & Burkina Faso & Burkina Faso & BF HWW F   & BF HWW F   & B & NO & ... & 0.001521770 & 0.001872940 & 0.000819412 & 0.01322770 & 0.01053530 & 0.000234118 & 0.001990000 & 0.00913059 & 0.00304353 & 0.004448240\\\\\n",
       "\t BFH33\\_S151 & BFH33 & 12\\_12\\_19 & West Africa & Burkina Faso & Burkina Faso & BF HWW I   & BF HWW I   & B & NO & ... & 0.001062890 & 0.001195760 & 0.000730740 & 0.00265724 & 0.00843673 & 0.001328620 & 0.002059360 & 0.00345441 & 0.00239151 & 0.001129330\\\\\n",
       "\t BH02\\_S77   & BH02  & 27\\_11\\_19 & West Africa & Benin        & Benin        & BENN HWW A & BENN HWW A & A & NO & ... & 0.000000000 & 0.000647086 & 0.000000000 & 0.00434472 & 0.04797680 & 0.005546450 & 0.009891170 & 0.00406740 & 0.01580740 & 0.002865670\\\\\n",
       "\t BH03\\_S78   & BH03  & 27\\_11\\_19 & West Africa & Benin        & Benin        & BENN HWW A & BENN HWW A & A & NO & ... & 0.001364420 & 0.000209911 & 0.000000000 & 0.00503786 & 0.00808157 & 0.001364420 & 0.000839644 & 0.00703202 & 0.00587751 & 0.004827950\\\\\n",
       "\t FH1\\_S162   & FH1   & 20\\_01\\_20 & Europe      & Finland      & Finland      & FI HWW J   & FI HWW J   & C & NO & ... & 0.000284430 & 0.000213323 & 0.000213323 & 0.00376870 & 0.00533307 & 0.000426646 & 0.000711076 & 0.00206212 & 0.00113772 & 0.000924399\\\\\n",
       "\t FH2\\_S163   & FH2   & 20\\_01\\_20 & Europe      & Finland      & Finland      & FI HWW K   & FI HWW K   & C & NO & ... & 0.000161086 & 0.000483259 & 0.001449780 & 0.00837648 & 0.00732942 & 0.001127600 & 0.002174660 & 0.00402716 & 0.00177195 & 0.000885974\\\\\n",
       "\\end{tabular}\n",
       "\n",
       "\\item[\\$Phylum] A tibble: 6 x 96\n",
       "\\begin{tabular}{lllllllllllllllllllll}\n",
       " SampleID & alias & date & continent & country & country2 & country3 & name & hospital & replicate & ... & Tectiviridae & Beihai\\_rhabdo-like\\_virus\\_2 & Hubei\\_picorna-like\\_virus\\_45 & Hubei\\_sobemo-like\\_virus\\_38 & Pandoravirus & Pseudomonas\\_phage\\_vB\\_PaeP\\_Tr60\\_Ab31 & Wenling\\_nido-like\\_virus\\_1 & uncultured\\_crAssphage & Bunyavirales & Caudovirales\\\\\n",
       " <chr> & <chr> & <chr> & <chr> & <chr> & <chr> & <chr> & <chr> & <chr> & <chr> & ... & <dbl> & <dbl> & <dbl> & <dbl> & <dbl> & <dbl> & <dbl> & <dbl> & <dbl> & <dbl>\\\\\n",
       "\\hline\n",
       "\t BFH10\\_S128 & BFH10 & 28\\_11\\_19 & West Africa & Burkina Faso & Burkina Faso & BF HWW F   & BF HWW F   & B & NO & ... & 0.00000e+00 & 0.00000e+00 & 0.000117059 & 0.00000e+00 & 8.19412e-04 & 0.00000e+00 & 0.000000000 & 0.00971589 & 0.00000e+00 & 0.0420241\\\\\n",
       "\t BFH33\\_S151 & BFH33 & 12\\_12\\_19 & West Africa & Burkina Faso & Burkina Faso & BF HWW I   & BF HWW I   & B & NO & ... & 6.64309e-05 & 6.64309e-05 & 0.000000000 & 6.64309e-05 & 0.00000e+00 & 0.00000e+00 & 0.000000000 & 0.00717454 & 3.32155e-04 & 0.3184030\\\\\n",
       "\t BH02\\_S77   & BH02  & 27\\_11\\_19 & West Africa & Benin        & Benin        & BENN HWW A & BENN HWW A & A & NO & ... & 0.00000e+00 & 0.00000e+00 & 0.000000000 & 0.00000e+00 & 9.24408e-05 & 0.00000e+00 & 0.000000000 & 0.00000000 & 0.00000e+00 & 0.4659020\\\\\n",
       "\t BH03\\_S78   & BH03  & 27\\_11\\_19 & West Africa & Benin        & Benin        & BENN HWW A & BENN HWW A & A & NO & ... & 4.19822e-04 & 0.00000e+00 & 0.000000000 & 0.00000e+00 & 1.04955e-04 & 0.00000e+00 & 0.000209911 & 0.19091400 & 0.00000e+00 & 0.1085240\\\\\n",
       "\t FH1\\_S162   & FH1   & 20\\_01\\_20 & Europe      & Finland      & Finland      & FI HWW J   & FI HWW J   & C & NO & ... & 0.00000e+00 & 0.00000e+00 & 0.000000000 & 0.00000e+00 & 0.00000e+00 & 7.11076e-05 & 0.000000000 & 0.13467800 & 7.11076e-05 & 0.2921810\\\\\n",
       "\t FH2\\_S163   & FH2   & 20\\_01\\_20 & Europe      & Finland      & Finland      & FI HWW K   & FI HWW K   & C & NO & ... & 8.05431e-05 & 0.00000e+00 & 0.000000000 & 0.00000e+00 & 0.00000e+00 & 0.00000e+00 & 0.000000000 & 0.01111500 & 4.02716e-04 & 0.0222299\\\\\n",
       "\\end{tabular}\n",
       "\n",
       "\\end{description}\n"
      ],
      "text/markdown": [
       "$Class\n",
       ":   \n",
       "A tibble: 6 x 180\n",
       "\n",
       "| SampleID &lt;chr&gt; | alias &lt;chr&gt; | date &lt;chr&gt; | continent &lt;chr&gt; | country &lt;chr&gt; | country2 &lt;chr&gt; | country3 &lt;chr&gt; | name &lt;chr&gt; | hospital &lt;chr&gt; | replicate &lt;chr&gt; | ... ... | BeAn_58058_virus &lt;dbl&gt; | Tectivirus &lt;dbl&gt; | Pandoravirus_dulcis &lt;dbl&gt; | Pandoravirus_inopinatum &lt;dbl&gt; | Pandoravirus_salinus &lt;dbl&gt; | Tospoviridae &lt;dbl&gt; | Ackermannviridae &lt;dbl&gt; | Myoviridae &lt;dbl&gt; | Epsilonproteobacteria &lt;dbl&gt; | Gammaproteobacteria &lt;dbl&gt; |\n",
       "|---|---|---|---|---|---|---|---|---|---|---|---|---|---|---|---|---|---|---|---|---|\n",
       "| BFH10_S128 | BFH10 | 28_11_19 | West Africa | Burkina Faso | Burkina Faso | BF HWW F   | BF HWW F   | B | NO | ... | 0.00000e+00 | 0.00000e+00 | 0.000117059 | 3.51177e-04 | 0.000351177 | 0.00000e+00 | 0.000000000 | 0.00608706 | 2.125440 |  5.82602 |\n",
       "| BFH33_S151 | BFH33 | 12_12_19 | West Africa | Burkina Faso | Burkina Faso | BF HWW I   | BF HWW I   | B | NO | ... | 0.00000e+00 | 6.64309e-05 | 0.000000000 | 0.00000e+00 | 0.000000000 | 3.32155e-04 | 0.000000000 | 0.23955000 | 6.686070 | 41.71240 |\n",
       "| BH02_S77   | BH02  | 27_11_19 | West Africa | Benin        | Benin        | BENN HWW A | BENN HWW A | A | NO | ... | 0.00000e+00 | 0.00000e+00 | 0.000000000 | 9.24408e-05 | 0.000000000 | 0.00000e+00 | 0.000739527 | 0.01063070 | 0.210210 | 58.55210 |\n",
       "| BH03_S78   | BH03  | 27_11_19 | West Africa | Benin        | Benin        | BENN HWW A | BENN HWW A | A | NO | ... | 0.00000e+00 | 4.19822e-04 | 0.000000000 | 0.00000e+00 | 0.000104955 | 0.00000e+00 | 0.005877510 | 0.02907270 | 0.220302 |  5.78578 |\n",
       "| FH1_S162   | FH1   | 20_01_20 | Europe      | Finland      | Finland      | FI HWW J   | FI HWW J   | C | NO | ... | 0.00000e+00 | 0.00000e+00 | 0.000000000 | 0.00000e+00 | 0.000000000 | 7.11076e-05 | 0.000000000 | 0.16575200 | 2.765230 | 52.31220 |\n",
       "| FH2_S163   | FH2   | 20_01_20 | Europe      | Finland      | Finland      | FI HWW K   | FI HWW K   | C | NO | ... | 8.05431e-05 | 8.05431e-05 | 0.000000000 | 0.00000e+00 | 0.000000000 | 4.02716e-04 | 0.000241629 | 0.00757105 | 5.820050 | 26.62020 |\n",
       "\n",
       "\n",
       "$Family\n",
       ":   \n",
       "A tibble: 6 x 787\n",
       "\n",
       "| SampleID &lt;chr&gt; | alias &lt;chr&gt; | date &lt;chr&gt; | continent &lt;chr&gt; | country &lt;chr&gt; | country2 &lt;chr&gt; | country3 &lt;chr&gt; | name &lt;chr&gt; | hospital &lt;chr&gt; | replicate &lt;chr&gt; | ... ... | Plesiomonas &lt;dbl&gt; | Candidatus_Thioglobus_autotrophicus &lt;dbl&gt; | Candidatus_Ruthia_magnifica &lt;dbl&gt; | Immundisolibacteraceae &lt;dbl&gt; | Gallaecimonas_sp._HK-28 &lt;dbl&gt; | Candidatus_Thioglobus_singularis &lt;dbl&gt; | Thiolapillus_brandeum &lt;dbl&gt; | Sedimenticola_thiotaurini &lt;dbl&gt; | Pseudohongiella_spirulinae &lt;dbl&gt; | Thiohalobacter_thiocyanaticus &lt;dbl&gt; |\n",
       "|---|---|---|---|---|---|---|---|---|---|---|---|---|---|---|---|---|---|---|---|---|\n",
       "| BFH10_S128 | BFH10 | 28_11_19 | West Africa | Burkina Faso | Burkina Faso | BF HWW F   | BF HWW F   | B | NO | ... | 0.000468235 | 5.85294e-04 | 0.000819412 | 0.01322770 | 0.001990000 | 1.28765e-03 | 0.004448240 | 0.00304353 | 0.000234118 | 0.00913059 |\n",
       "| BFH33_S151 | BFH33 | 12_12_19 | West Africa | Burkina Faso | Burkina Faso | BF HWW I   | BF HWW I   | B | NO | ... | 0.015412000 | 4.65016e-04 | 0.000730740 | 0.00265724 | 0.002059360 | 5.97878e-04 | 0.001129330 | 0.00239151 | 0.001328620 | 0.00345441 |\n",
       "| BH02_S77   | BH02  | 27_11_19 | West Africa | Benin        | Benin        | BENN HWW A | BENN HWW A | A | NO | ... | 0.070809700 | 0.00000e+00 | 0.000000000 | 0.00434472 | 0.009891170 | 6.47086e-04 | 0.002865670 | 0.01580740 | 0.005546450 | 0.00406740 |\n",
       "| BH03_S78   | BH03  | 27_11_19 | West Africa | Benin        | Benin        | BENN HWW A | BENN HWW A | A | NO | ... | 0.005247770 | 1.04955e-04 | 0.000000000 | 0.00503786 | 0.000839644 | 1.04955e-04 | 0.004827950 | 0.00587751 | 0.001364420 | 0.00703202 |\n",
       "| FH1_S162   | FH1   | 20_01_20 | Europe      | Finland      | Finland      | FI HWW J   | FI HWW J   | C | NO | ... | 0.007964050 | 1.42215e-04 | 0.000213323 | 0.00376870 | 0.000711076 | 7.11076e-05 | 0.000924399 | 0.00113772 | 0.000426646 | 0.00206212 |\n",
       "| FH2_S163   | FH2   | 20_01_20 | Europe      | Finland      | Finland      | FI HWW K   | FI HWW K   | C | NO | ... | 0.002496840 | 8.05431e-05 | 0.001449780 | 0.00837648 | 0.002174660 | 4.02716e-04 | 0.000885974 | 0.00177195 | 0.001127600 | 0.00402716 |\n",
       "\n",
       "\n",
       "$Genus\n",
       ":   \n",
       "A tibble: 6 x 1316\n",
       "\n",
       "| SampleID &lt;chr&gt; | alias &lt;chr&gt; | date &lt;chr&gt; | continent &lt;chr&gt; | country &lt;chr&gt; | country2 &lt;chr&gt; | country3 &lt;chr&gt; | name &lt;chr&gt; | hospital &lt;chr&gt; | replicate &lt;chr&gt; | ... ... | Nautilia &lt;dbl&gt; | Plesiomonas_shigelloides &lt;dbl&gt; | Phytobacter_sp._SCO41 &lt;dbl&gt; | Wenyingzhuangia &lt;dbl&gt; | Weeksella &lt;dbl&gt; | Immundisolibacter &lt;dbl&gt; | Winogradskyella &lt;dbl&gt; | Zunongwangia &lt;dbl&gt; | Flavobacteriaceae_bacterium &lt;dbl&gt; | Zobellia &lt;dbl&gt; |\n",
       "|---|---|---|---|---|---|---|---|---|---|---|---|---|---|---|---|---|---|---|---|---|\n",
       "| BFH10_S128 | BFH10 | 28_11_19 | West Africa | Burkina Faso | Burkina Faso | BF HWW F   | BF HWW F   | B | NO | ... | 0.001521770 | 0.000468235 | 0.000351177 | 0.000936471 | 0.000351177 | 0.01322770 | 0.00292647 | 0.001638820 | 0.000468235 | 5.85294e-04 |\n",
       "| BFH33_S151 | BFH33 | 12_12_19 | West Africa | Burkina Faso | Burkina Faso | BF HWW I   | BF HWW I   | B | NO | ... | 0.001062890 | 0.015412000 | 0.002657240 | 0.001129330 | 0.013551900 | 0.00265724 | 0.00385299 | 0.000930033 | 0.001262190 | 9.96464e-04 |\n",
       "| BH02_S77   | BH02  | 27_11_19 | West Africa | Benin        | Benin        | BENN HWW A | BENN HWW A | A | NO | ... | 0.000000000 | 0.070809700 | 0.029673500 | 0.000277323 | 0.000277323 | 0.00434472 | 0.00138661 | 0.000277323 | 0.000000000 | 9.24408e-05 |\n",
       "| BH03_S78   | BH03  | 27_11_19 | West Africa | Benin        | Benin        | BENN HWW A | BENN HWW A | A | NO | ... | 0.001364420 | 0.005247770 | 0.000734688 | 0.000104955 | 0.000524777 | 0.00503786 | 0.00419822 | 0.000314866 | 0.000314866 | 3.14866e-04 |\n",
       "| FH1_S162   | FH1   | 20_01_20 | Europe      | Finland      | Finland      | FI HWW J   | FI HWW J   | C | NO | ... | 0.000284430 | 0.007964050 | 0.002133230 | 0.001919910 | 0.012728300 | 0.00376870 | 0.00604415 | 0.000568861 | 0.001137720 | 4.26646e-04 |\n",
       "| FH2_S163   | FH2   | 20_01_20 | Europe      | Finland      | Finland      | FI HWW K   | FI HWW K   | C | NO | ... | 0.000161086 | 0.002496840 | 0.003543900 | 0.002335750 | 0.008940290 | 0.00837648 | 0.00781268 | 0.001288690 | 0.000966517 | 8.85974e-04 |\n",
       "\n",
       "\n",
       "$Kingdom\n",
       ":   \n",
       "A tibble: 6 x 29\n",
       "\n",
       "| SampleID &lt;chr&gt; | alias &lt;chr&gt; | date &lt;chr&gt; | continent &lt;chr&gt; | country &lt;chr&gt; | country2 &lt;chr&gt; | country3 &lt;chr&gt; | name &lt;chr&gt; | hospital &lt;chr&gt; | replicate &lt;chr&gt; | ... ... | DNA_ng_.l &lt;dbl&gt; | A260_280 &lt;dbl&gt; | M_Seqs_trimmed &lt;dbl&gt; | plot_name &lt;chr&gt; | Taxonomic_Level &lt;int&gt; | Taxonomic_Label &lt;chr&gt; | Archaea &lt;dbl&gt; | Bacteria &lt;dbl&gt; | Eukaryota &lt;dbl&gt; | Viruses &lt;dbl&gt; |\n",
       "|---|---|---|---|---|---|---|---|---|---|---|---|---|---|---|---|---|---|---|---|---|\n",
       "| BFH10_S128 | BFH10 | 28_11_19 | West Africa | Burkina Faso | Burkina Faso | BF HWW F   | BF HWW F   | B | NO | ... | 119.477 | 1.869 | 32.0 | hospital effluent | 1 | Kingdom | 2.5398300 | 96.6534 | 0.753040 | 0.0537300 |\n",
       "| BFH33_S151 | BFH33 | 12_12_19 | West Africa | Burkina Faso | Burkina Faso | BF HWW I   | BF HWW I   | B | NO | ... |  72.642 | 1.857 | 33.7 | hospital effluent | 1 | Kingdom | 0.4268190 | 98.4433 | 0.803216 | 0.3266410 |\n",
       "| BH02_S77   | BH02  | 27_11_19 | West Africa | Benin        | Benin        | BENN HWW A | BENN HWW A | A | NO | ... |  44.115 | 1.863 | 30.8 | hospital effluent | 1 | Kingdom | 0.1339470 | 98.8584 | 0.540871 | 0.4668260 |\n",
       "| BH03_S78   | BH03  | 27_11_19 | West Africa | Benin        | Benin        | BENN HWW A | BENN HWW A | A | NO | ... |  98.572 | 1.844 | 31.6 | hospital effluent | 1 | Kingdom | 0.3163360 | 98.5221 | 0.860740 | 0.3008020 |\n",
       "| FH1_S162   | FH1   | 20_01_20 | Europe      | Finland      | Finland      | FI HWW J   | FI HWW J   | C | NO | ... |  49.300 | 1.870 | 21.2 | hospital effluent | 1 | Kingdom | 0.0479976 | 96.4236 | 3.098160 | 0.4302720 |\n",
       "| FH2_S163   | FH2   | 20_01_20 | Europe      | Finland      | Finland      | FI HWW K   | FI HWW K   | C | NO | ... |  70.400 | 1.880 | 37.9 | hospital effluent | 1 | Kingdom | 0.1228280 | 97.2917 | 2.549590 | 0.0358417 |\n",
       "\n",
       "\n",
       "$Order\n",
       ":   \n",
       "A tibble: 6 x 523\n",
       "\n",
       "| SampleID &lt;chr&gt; | alias &lt;chr&gt; | date &lt;chr&gt; | continent &lt;chr&gt; | country &lt;chr&gt; | country2 &lt;chr&gt; | country3 &lt;chr&gt; | name &lt;chr&gt; | hospital &lt;chr&gt; | replicate &lt;chr&gt; | ... ... | Nautiliales &lt;dbl&gt; | Candidatus_Thioglobus &lt;dbl&gt; | Candidatus_Ruthia &lt;dbl&gt; | Immundisolibacterales &lt;dbl&gt; | Legionellales &lt;dbl&gt; | Pseudohongiella &lt;dbl&gt; | Gallaecimonas &lt;dbl&gt; | Thiohalobacter &lt;dbl&gt; | Sedimenticola &lt;dbl&gt; | Thiolapillus &lt;dbl&gt; |\n",
       "|---|---|---|---|---|---|---|---|---|---|---|---|---|---|---|---|---|---|---|---|---|\n",
       "| BFH10_S128 | BFH10 | 28_11_19 | West Africa | Burkina Faso | Burkina Faso | BF HWW F   | BF HWW F   | B | NO | ... | 0.001521770 | 0.001872940 | 0.000819412 | 0.01322770 | 0.01053530 | 0.000234118 | 0.001990000 | 0.00913059 | 0.00304353 | 0.004448240 |\n",
       "| BFH33_S151 | BFH33 | 12_12_19 | West Africa | Burkina Faso | Burkina Faso | BF HWW I   | BF HWW I   | B | NO | ... | 0.001062890 | 0.001195760 | 0.000730740 | 0.00265724 | 0.00843673 | 0.001328620 | 0.002059360 | 0.00345441 | 0.00239151 | 0.001129330 |\n",
       "| BH02_S77   | BH02  | 27_11_19 | West Africa | Benin        | Benin        | BENN HWW A | BENN HWW A | A | NO | ... | 0.000000000 | 0.000647086 | 0.000000000 | 0.00434472 | 0.04797680 | 0.005546450 | 0.009891170 | 0.00406740 | 0.01580740 | 0.002865670 |\n",
       "| BH03_S78   | BH03  | 27_11_19 | West Africa | Benin        | Benin        | BENN HWW A | BENN HWW A | A | NO | ... | 0.001364420 | 0.000209911 | 0.000000000 | 0.00503786 | 0.00808157 | 0.001364420 | 0.000839644 | 0.00703202 | 0.00587751 | 0.004827950 |\n",
       "| FH1_S162   | FH1   | 20_01_20 | Europe      | Finland      | Finland      | FI HWW J   | FI HWW J   | C | NO | ... | 0.000284430 | 0.000213323 | 0.000213323 | 0.00376870 | 0.00533307 | 0.000426646 | 0.000711076 | 0.00206212 | 0.00113772 | 0.000924399 |\n",
       "| FH2_S163   | FH2   | 20_01_20 | Europe      | Finland      | Finland      | FI HWW K   | FI HWW K   | C | NO | ... | 0.000161086 | 0.000483259 | 0.001449780 | 0.00837648 | 0.00732942 | 0.001127600 | 0.002174660 | 0.00402716 | 0.00177195 | 0.000885974 |\n",
       "\n",
       "\n",
       "$Phylum\n",
       ":   \n",
       "A tibble: 6 x 96\n",
       "\n",
       "| SampleID &lt;chr&gt; | alias &lt;chr&gt; | date &lt;chr&gt; | continent &lt;chr&gt; | country &lt;chr&gt; | country2 &lt;chr&gt; | country3 &lt;chr&gt; | name &lt;chr&gt; | hospital &lt;chr&gt; | replicate &lt;chr&gt; | ... ... | Tectiviridae &lt;dbl&gt; | Beihai_rhabdo-like_virus_2 &lt;dbl&gt; | Hubei_picorna-like_virus_45 &lt;dbl&gt; | Hubei_sobemo-like_virus_38 &lt;dbl&gt; | Pandoravirus &lt;dbl&gt; | Pseudomonas_phage_vB_PaeP_Tr60_Ab31 &lt;dbl&gt; | Wenling_nido-like_virus_1 &lt;dbl&gt; | uncultured_crAssphage &lt;dbl&gt; | Bunyavirales &lt;dbl&gt; | Caudovirales &lt;dbl&gt; |\n",
       "|---|---|---|---|---|---|---|---|---|---|---|---|---|---|---|---|---|---|---|---|---|\n",
       "| BFH10_S128 | BFH10 | 28_11_19 | West Africa | Burkina Faso | Burkina Faso | BF HWW F   | BF HWW F   | B | NO | ... | 0.00000e+00 | 0.00000e+00 | 0.000117059 | 0.00000e+00 | 8.19412e-04 | 0.00000e+00 | 0.000000000 | 0.00971589 | 0.00000e+00 | 0.0420241 |\n",
       "| BFH33_S151 | BFH33 | 12_12_19 | West Africa | Burkina Faso | Burkina Faso | BF HWW I   | BF HWW I   | B | NO | ... | 6.64309e-05 | 6.64309e-05 | 0.000000000 | 6.64309e-05 | 0.00000e+00 | 0.00000e+00 | 0.000000000 | 0.00717454 | 3.32155e-04 | 0.3184030 |\n",
       "| BH02_S77   | BH02  | 27_11_19 | West Africa | Benin        | Benin        | BENN HWW A | BENN HWW A | A | NO | ... | 0.00000e+00 | 0.00000e+00 | 0.000000000 | 0.00000e+00 | 9.24408e-05 | 0.00000e+00 | 0.000000000 | 0.00000000 | 0.00000e+00 | 0.4659020 |\n",
       "| BH03_S78   | BH03  | 27_11_19 | West Africa | Benin        | Benin        | BENN HWW A | BENN HWW A | A | NO | ... | 4.19822e-04 | 0.00000e+00 | 0.000000000 | 0.00000e+00 | 1.04955e-04 | 0.00000e+00 | 0.000209911 | 0.19091400 | 0.00000e+00 | 0.1085240 |\n",
       "| FH1_S162   | FH1   | 20_01_20 | Europe      | Finland      | Finland      | FI HWW J   | FI HWW J   | C | NO | ... | 0.00000e+00 | 0.00000e+00 | 0.000000000 | 0.00000e+00 | 0.00000e+00 | 7.11076e-05 | 0.000000000 | 0.13467800 | 7.11076e-05 | 0.2921810 |\n",
       "| FH2_S163   | FH2   | 20_01_20 | Europe      | Finland      | Finland      | FI HWW K   | FI HWW K   | C | NO | ... | 8.05431e-05 | 0.00000e+00 | 0.000000000 | 0.00000e+00 | 0.00000e+00 | 0.00000e+00 | 0.000000000 | 0.01111500 | 4.02716e-04 | 0.0222299 |\n",
       "\n",
       "\n",
       "\n",
       "\n"
      ],
      "text/plain": [
       "$Class\n",
       "\u001b[90m# A tibble: 6 x 180\u001b[39m\n",
       "  SampleID   alias date     continent   country country2 country3 name  hospital\n",
       "  \u001b[3m\u001b[90m<chr>\u001b[39m\u001b[23m      \u001b[3m\u001b[90m<chr>\u001b[39m\u001b[23m \u001b[3m\u001b[90m<chr>\u001b[39m\u001b[23m    \u001b[3m\u001b[90m<chr>\u001b[39m\u001b[23m       \u001b[3m\u001b[90m<chr>\u001b[39m\u001b[23m   \u001b[3m\u001b[90m<chr>\u001b[39m\u001b[23m    \u001b[3m\u001b[90m<chr>\u001b[39m\u001b[23m    \u001b[3m\u001b[90m<chr>\u001b[39m\u001b[23m \u001b[3m\u001b[90m<chr>\u001b[39m\u001b[23m   \n",
       "\u001b[90m1\u001b[39m BFH10_S128 BFH10 28_11_19 West Africa Burkin~ Burkina~ BF HWW F BF H~ B       \n",
       "\u001b[90m2\u001b[39m BFH33_S151 BFH33 12_12_19 West Africa Burkin~ Burkina~ BF HWW I BF H~ B       \n",
       "\u001b[90m3\u001b[39m BH02_S77   BH02  27_11_19 West Africa Benin   Benin    BENN HW~ BENN~ A       \n",
       "\u001b[90m4\u001b[39m BH03_S78   BH03  27_11_19 West Africa Benin   Benin    BENN HW~ BENN~ A       \n",
       "\u001b[90m5\u001b[39m FH1_S162   FH1   20_01_20 Europe      Finland Finland  FI HWW J FI H~ C       \n",
       "\u001b[90m6\u001b[39m FH2_S163   FH2   20_01_20 Europe      Finland Finland  FI HWW K FI H~ C       \n",
       "\u001b[90m# i 171 more variables: replicate <chr>, HWW <chr>, most_used_ab. <chr>,\u001b[39m\n",
       "\u001b[90m#   description <chr>, hospital_section <chr>, hospital_description <chr>,\u001b[39m\n",
       "\u001b[90m#   no_of_beds <chr>, lat <dbl>, long <dbl>, sample_material <chr>,\u001b[39m\n",
       "\u001b[90m#   DNA_ng_.l <dbl>, A260_280 <dbl>, M_Seqs_trimmed <dbl>, plot_name <chr>,\u001b[39m\n",
       "\u001b[90m#   Taxonomic_Level <int>, Taxonomic_Label <chr>, Candidatus_Korarchaeum <dbl>,\u001b[39m\n",
       "\u001b[90m#   Candidatus_Micrarchaeota_archaeon_Mia14 <dbl>, Thermoprotei <dbl>,\u001b[39m\n",
       "\u001b[90m#   Saprospiria <dbl>, Sphingobacteriia <dbl>, ...\u001b[39m\n",
       "\n",
       "$Family\n",
       "\u001b[90m# A tibble: 6 x 787\u001b[39m\n",
       "  SampleID   alias date     continent   country country2 country3 name  hospital\n",
       "  \u001b[3m\u001b[90m<chr>\u001b[39m\u001b[23m      \u001b[3m\u001b[90m<chr>\u001b[39m\u001b[23m \u001b[3m\u001b[90m<chr>\u001b[39m\u001b[23m    \u001b[3m\u001b[90m<chr>\u001b[39m\u001b[23m       \u001b[3m\u001b[90m<chr>\u001b[39m\u001b[23m   \u001b[3m\u001b[90m<chr>\u001b[39m\u001b[23m    \u001b[3m\u001b[90m<chr>\u001b[39m\u001b[23m    \u001b[3m\u001b[90m<chr>\u001b[39m\u001b[23m \u001b[3m\u001b[90m<chr>\u001b[39m\u001b[23m   \n",
       "\u001b[90m1\u001b[39m BFH10_S128 BFH10 28_11_19 West Africa Burkin~ Burkina~ BF HWW F BF H~ B       \n",
       "\u001b[90m2\u001b[39m BFH33_S151 BFH33 12_12_19 West Africa Burkin~ Burkina~ BF HWW I BF H~ B       \n",
       "\u001b[90m3\u001b[39m BH02_S77   BH02  27_11_19 West Africa Benin   Benin    BENN HW~ BENN~ A       \n",
       "\u001b[90m4\u001b[39m BH03_S78   BH03  27_11_19 West Africa Benin   Benin    BENN HW~ BENN~ A       \n",
       "\u001b[90m5\u001b[39m FH1_S162   FH1   20_01_20 Europe      Finland Finland  FI HWW J FI H~ C       \n",
       "\u001b[90m6\u001b[39m FH2_S163   FH2   20_01_20 Europe      Finland Finland  FI HWW K FI H~ C       \n",
       "\u001b[90m# i 778 more variables: replicate <chr>, HWW <chr>, most_used_ab. <chr>,\u001b[39m\n",
       "\u001b[90m#   description <chr>, hospital_section <chr>, hospital_description <chr>,\u001b[39m\n",
       "\u001b[90m#   no_of_beds <chr>, lat <dbl>, long <dbl>, sample_material <chr>,\u001b[39m\n",
       "\u001b[90m#   DNA_ng_.l <dbl>, A260_280 <dbl>, M_Seqs_trimmed <dbl>, plot_name <chr>,\u001b[39m\n",
       "\u001b[90m#   Taxonomic_Level <int>, Taxonomic_Label <chr>, Mycobacteriaceae <dbl>,\u001b[39m\n",
       "\u001b[90m#   Ichthyobacteriaceae <dbl>, Candidatus_Sulcia <dbl>,\u001b[39m\n",
       "\u001b[90m#   Candidatus_Walczuchella <dbl>, Acidilobaceae <dbl>, ...\u001b[39m\n",
       "\n",
       "$Genus\n",
       "\u001b[90m# A tibble: 6 x 1,316\u001b[39m\n",
       "  SampleID   alias date     continent   country country2 country3 name  hospital\n",
       "  \u001b[3m\u001b[90m<chr>\u001b[39m\u001b[23m      \u001b[3m\u001b[90m<chr>\u001b[39m\u001b[23m \u001b[3m\u001b[90m<chr>\u001b[39m\u001b[23m    \u001b[3m\u001b[90m<chr>\u001b[39m\u001b[23m       \u001b[3m\u001b[90m<chr>\u001b[39m\u001b[23m   \u001b[3m\u001b[90m<chr>\u001b[39m\u001b[23m    \u001b[3m\u001b[90m<chr>\u001b[39m\u001b[23m    \u001b[3m\u001b[90m<chr>\u001b[39m\u001b[23m \u001b[3m\u001b[90m<chr>\u001b[39m\u001b[23m   \n",
       "\u001b[90m1\u001b[39m BFH10_S128 BFH10 28_11_19 West Africa Burkin~ Burkina~ BF HWW F BF H~ B       \n",
       "\u001b[90m2\u001b[39m BFH33_S151 BFH33 12_12_19 West Africa Burkin~ Burkina~ BF HWW I BF H~ B       \n",
       "\u001b[90m3\u001b[39m BH02_S77   BH02  27_11_19 West Africa Benin   Benin    BENN HW~ BENN~ A       \n",
       "\u001b[90m4\u001b[39m BH03_S78   BH03  27_11_19 West Africa Benin   Benin    BENN HW~ BENN~ A       \n",
       "\u001b[90m5\u001b[39m FH1_S162   FH1   20_01_20 Europe      Finland Finland  FI HWW J FI H~ C       \n",
       "\u001b[90m6\u001b[39m FH2_S163   FH2   20_01_20 Europe      Finland Finland  FI HWW K FI H~ C       \n",
       "\u001b[90m# i 1,307 more variables: replicate <chr>, HWW <chr>, most_used_ab. <chr>,\u001b[39m\n",
       "\u001b[90m#   description <chr>, hospital_section <chr>, hospital_description <chr>,\u001b[39m\n",
       "\u001b[90m#   no_of_beds <chr>, lat <dbl>, long <dbl>, sample_material <chr>,\u001b[39m\n",
       "\u001b[90m#   DNA_ng_.l <dbl>, A260_280 <dbl>, M_Seqs_trimmed <dbl>, plot_name <chr>,\u001b[39m\n",
       "\u001b[90m#   Taxonomic_Level <int>, Taxonomic_Label <chr>,\u001b[39m\n",
       "\u001b[90m#   Flavobacteriaceae_bacterium_MAR_2010_188 <dbl>, Legionella <dbl>,\u001b[39m\n",
       "\u001b[90m#   Flavobacteriaceae_bacterium_UJ101 <dbl>, Rhizobium <dbl>, ...\u001b[39m\n",
       "\n",
       "$Kingdom\n",
       "\u001b[90m# A tibble: 6 x 29\u001b[39m\n",
       "  SampleID   alias date     continent   country country2 country3 name  hospital\n",
       "  \u001b[3m\u001b[90m<chr>\u001b[39m\u001b[23m      \u001b[3m\u001b[90m<chr>\u001b[39m\u001b[23m \u001b[3m\u001b[90m<chr>\u001b[39m\u001b[23m    \u001b[3m\u001b[90m<chr>\u001b[39m\u001b[23m       \u001b[3m\u001b[90m<chr>\u001b[39m\u001b[23m   \u001b[3m\u001b[90m<chr>\u001b[39m\u001b[23m    \u001b[3m\u001b[90m<chr>\u001b[39m\u001b[23m    \u001b[3m\u001b[90m<chr>\u001b[39m\u001b[23m \u001b[3m\u001b[90m<chr>\u001b[39m\u001b[23m   \n",
       "\u001b[90m1\u001b[39m BFH10_S128 BFH10 28_11_19 West Africa Burkin~ Burkina~ BF HWW F BF H~ B       \n",
       "\u001b[90m2\u001b[39m BFH33_S151 BFH33 12_12_19 West Africa Burkin~ Burkina~ BF HWW I BF H~ B       \n",
       "\u001b[90m3\u001b[39m BH02_S77   BH02  27_11_19 West Africa Benin   Benin    BENN HW~ BENN~ A       \n",
       "\u001b[90m4\u001b[39m BH03_S78   BH03  27_11_19 West Africa Benin   Benin    BENN HW~ BENN~ A       \n",
       "\u001b[90m5\u001b[39m FH1_S162   FH1   20_01_20 Europe      Finland Finland  FI HWW J FI H~ C       \n",
       "\u001b[90m6\u001b[39m FH2_S163   FH2   20_01_20 Europe      Finland Finland  FI HWW K FI H~ C       \n",
       "\u001b[90m# i 20 more variables: replicate <chr>, HWW <chr>, most_used_ab. <chr>,\u001b[39m\n",
       "\u001b[90m#   description <chr>, hospital_section <chr>, hospital_description <chr>,\u001b[39m\n",
       "\u001b[90m#   no_of_beds <chr>, lat <dbl>, long <dbl>, sample_material <chr>,\u001b[39m\n",
       "\u001b[90m#   DNA_ng_.l <dbl>, A260_280 <dbl>, M_Seqs_trimmed <dbl>, plot_name <chr>,\u001b[39m\n",
       "\u001b[90m#   Taxonomic_Level <int>, Taxonomic_Label <chr>, Archaea <dbl>,\u001b[39m\n",
       "\u001b[90m#   Bacteria <dbl>, Eukaryota <dbl>, Viruses <dbl>\u001b[39m\n",
       "\n",
       "$Order\n",
       "\u001b[90m# A tibble: 6 x 523\u001b[39m\n",
       "  SampleID   alias date     continent   country country2 country3 name  hospital\n",
       "  \u001b[3m\u001b[90m<chr>\u001b[39m\u001b[23m      \u001b[3m\u001b[90m<chr>\u001b[39m\u001b[23m \u001b[3m\u001b[90m<chr>\u001b[39m\u001b[23m    \u001b[3m\u001b[90m<chr>\u001b[39m\u001b[23m       \u001b[3m\u001b[90m<chr>\u001b[39m\u001b[23m   \u001b[3m\u001b[90m<chr>\u001b[39m\u001b[23m    \u001b[3m\u001b[90m<chr>\u001b[39m\u001b[23m    \u001b[3m\u001b[90m<chr>\u001b[39m\u001b[23m \u001b[3m\u001b[90m<chr>\u001b[39m\u001b[23m   \n",
       "\u001b[90m1\u001b[39m BFH10_S128 BFH10 28_11_19 West Africa Burkin~ Burkina~ BF HWW F BF H~ B       \n",
       "\u001b[90m2\u001b[39m BFH33_S151 BFH33 12_12_19 West Africa Burkin~ Burkina~ BF HWW I BF H~ B       \n",
       "\u001b[90m3\u001b[39m BH02_S77   BH02  27_11_19 West Africa Benin   Benin    BENN HW~ BENN~ A       \n",
       "\u001b[90m4\u001b[39m BH03_S78   BH03  27_11_19 West Africa Benin   Benin    BENN HW~ BENN~ A       \n",
       "\u001b[90m5\u001b[39m FH1_S162   FH1   20_01_20 Europe      Finland Finland  FI HWW J FI H~ C       \n",
       "\u001b[90m6\u001b[39m FH2_S163   FH2   20_01_20 Europe      Finland Finland  FI HWW K FI H~ C       \n",
       "\u001b[90m# i 514 more variables: replicate <chr>, HWW <chr>, most_used_ab. <chr>,\u001b[39m\n",
       "\u001b[90m#   description <chr>, hospital_section <chr>, hospital_description <chr>,\u001b[39m\n",
       "\u001b[90m#   no_of_beds <chr>, lat <dbl>, long <dbl>, sample_material <chr>,\u001b[39m\n",
       "\u001b[90m#   DNA_ng_.l <dbl>, A260_280 <dbl>, M_Seqs_trimmed <dbl>, plot_name <chr>,\u001b[39m\n",
       "\u001b[90m#   Taxonomic_Level <int>, Taxonomic_Label <chr>,\u001b[39m\n",
       "\u001b[90m#   Candidatus_Korarchaeum_cryptofilum <dbl>, Acidilobales <dbl>,\u001b[39m\n",
       "\u001b[90m#   Saprospirales <dbl>, Desulfurococcales <dbl>, Methylococcales <dbl>, ...\u001b[39m\n",
       "\n",
       "$Phylum\n",
       "\u001b[90m# A tibble: 6 x 96\u001b[39m\n",
       "  SampleID   alias date     continent   country country2 country3 name  hospital\n",
       "  \u001b[3m\u001b[90m<chr>\u001b[39m\u001b[23m      \u001b[3m\u001b[90m<chr>\u001b[39m\u001b[23m \u001b[3m\u001b[90m<chr>\u001b[39m\u001b[23m    \u001b[3m\u001b[90m<chr>\u001b[39m\u001b[23m       \u001b[3m\u001b[90m<chr>\u001b[39m\u001b[23m   \u001b[3m\u001b[90m<chr>\u001b[39m\u001b[23m    \u001b[3m\u001b[90m<chr>\u001b[39m\u001b[23m    \u001b[3m\u001b[90m<chr>\u001b[39m\u001b[23m \u001b[3m\u001b[90m<chr>\u001b[39m\u001b[23m   \n",
       "\u001b[90m1\u001b[39m BFH10_S128 BFH10 28_11_19 West Africa Burkin~ Burkina~ BF HWW F BF H~ B       \n",
       "\u001b[90m2\u001b[39m BFH33_S151 BFH33 12_12_19 West Africa Burkin~ Burkina~ BF HWW I BF H~ B       \n",
       "\u001b[90m3\u001b[39m BH02_S77   BH02  27_11_19 West Africa Benin   Benin    BENN HW~ BENN~ A       \n",
       "\u001b[90m4\u001b[39m BH03_S78   BH03  27_11_19 West Africa Benin   Benin    BENN HW~ BENN~ A       \n",
       "\u001b[90m5\u001b[39m FH1_S162   FH1   20_01_20 Europe      Finland Finland  FI HWW J FI H~ C       \n",
       "\u001b[90m6\u001b[39m FH2_S163   FH2   20_01_20 Europe      Finland Finland  FI HWW K FI H~ C       \n",
       "\u001b[90m# i 87 more variables: replicate <chr>, HWW <chr>, most_used_ab. <chr>,\u001b[39m\n",
       "\u001b[90m#   description <chr>, hospital_section <chr>, hospital_description <chr>,\u001b[39m\n",
       "\u001b[90m#   no_of_beds <chr>, lat <dbl>, long <dbl>, sample_material <chr>,\u001b[39m\n",
       "\u001b[90m#   DNA_ng_.l <dbl>, A260_280 <dbl>, M_Seqs_trimmed <dbl>, plot_name <chr>,\u001b[39m\n",
       "\u001b[90m#   Taxonomic_Level <int>, Taxonomic_Label <chr>,\u001b[39m\n",
       "\u001b[90m#   Candidatus_Korarchaeota <dbl>, Candidatus_Micrarchaeota <dbl>,\u001b[39m\n",
       "\u001b[90m#   Crenarchaeota <dbl>, Caldiserica <dbl>, Euryarchaeota <dbl>, ...\u001b[39m\n"
      ]
     },
     "metadata": {},
     "output_type": "display_data"
    }
   ],
   "source": [
    "# Add taxonomic information (level and label)\n",
    "kraken_with_metadata$Taxonomic_Level <- sapply(strsplit(as.character(kraken_with_metadata$ID), \"\\\\|\"), length)\n",
    "kraken_with_metadata$Taxonomic_Label <- sapply(kraken_with_metadata$ID, function(x) {\n",
    "  labels <- c(\"Kingdom\", \"Phylum\", \"Class\", \"Order\", \"Family\", \"Genus\", \"Species\")\n",
    "  level <- length(strsplit(x, \"\\\\|\")[[1]])\n",
    "  if (level <= 7) labels[level] else \"Other\"\n",
    "})\n",
    "\n",
    "# Extract descriptive ID and remove \"Other\" labels\n",
    "kraken_with_metadata$ID <- sapply(kraken_with_metadata$ID, function(x) sub(\".*__\", \"\", tail(strsplit(x, \"\\\\|\")[[1]], 1)))\n",
    "kraken_with_metadata <- kraken_with_metadata[kraken_with_metadata$Taxonomic_Label != \"Other\", ]\n",
    "\n",
    "# Split data by taxonomic label and reshape into wide format\n",
    "wide_data <- kraken_with_metadata %>%\n",
    "  split(.$Taxonomic_Label) %>%\n",
    "  purrr::map(~ pivot_wider(.x, names_from = ID, values_from = RelativeAbundance))\n",
    "  \n",
    "\n",
    "wide_genus_data <- wide_data$Genus\n",
    "wide_species_data <- wide_data$Species\n",
    "wide_phylum_data <- wide_data$Phylum\n",
    "\n",
    "# View the reshaped wide data\n",
    "head(wide_data)\n"
   ]
  },
  {
   "cell_type": "markdown",
   "metadata": {},
   "source": [
    "#### Principal Component Analysis (PCA) on Genus Data\n",
    "In this section, we will perform Principal Component Analysis (PCA) on the wide genus data and visualize the results. PCA is a technique used to reduce the dimensionality of data while retaining as much variability as possible. This will allow us to identify patterns in the data based on the first two principal components."
   ]
  },
  {
   "cell_type": "markdown",
   "metadata": {},
   "source": [
    "`select(c(18: ncol(wide_genus_data)))`: This selects columns starting from the 18th column to the last column in the wide_genus_data dataset. These columns represent the numerical data (i.e., the relative abundances of different genera)."
   ]
  },
  {
   "cell_type": "code",
   "execution_count": 8,
   "metadata": {
    "vscode": {
     "languageId": "r"
    }
   },
   "outputs": [],
   "source": [
    "numerical <- wide_genus_data%>% select(c(18: ncol(wide_genus_data)))"
   ]
  },
  {
   "cell_type": "markdown",
   "metadata": {},
   "source": [
    "The `clr()` function is applied to the numerical data. CLR transformation converts the relative abundances into log-transformed values, accounting for compositional data and improving the performance of PCA."
   ]
  },
  {
   "cell_type": "code",
   "execution_count": 9,
   "metadata": {
    "vscode": {
     "languageId": "r"
    }
   },
   "outputs": [],
   "source": [
    "numerical <- clr(numerical)"
   ]
  },
  {
   "cell_type": "markdown",
   "metadata": {},
   "source": [
    "We perform PCA using the `rda()` function from the vegan package. The result will be a set of principal components that explain the variance in the genus data."
   ]
  },
  {
   "cell_type": "code",
   "execution_count": 10,
   "metadata": {
    "vscode": {
     "languageId": "r"
    }
   },
   "outputs": [],
   "source": [
    "pca_result <- rda(numerical)"
   ]
  },
  {
   "cell_type": "markdown",
   "metadata": {},
   "source": [
    "Once the PCA has been computed, we extract the PCA scores for the samples (also known as sites). These scores represent the projections of each sample along the principal components."
   ]
  },
  {
   "cell_type": "code",
   "execution_count": 11,
   "metadata": {
    "vscode": {
     "languageId": "r"
    }
   },
   "outputs": [],
   "source": [
    "# Extract PCA scores for the samples (sites)\n",
    "pca_scores <- scores(pca_result, display = \"sites\")\n",
    "pca_data <- as.data.frame(pca_scores)"
   ]
  },
  {
   "cell_type": "markdown",
   "metadata": {},
   "source": [
    "##### Add Metadata to PCA Data\n",
    "We now add additional metadata, such as the hospital and SampleID, to the PCA scores data frame. This will allow us to visualize how these variables relate to the PCA results."
   ]
  },
  {
   "cell_type": "code",
   "execution_count": 12,
   "metadata": {
    "vscode": {
     "languageId": "r"
    }
   },
   "outputs": [],
   "source": [
    "pca_data$hospital <- wide_genus_data$hospital\n",
    "pca_data$SampleID <- wide_genus_data$SampleID"
   ]
  },
  {
   "cell_type": "markdown",
   "metadata": {},
   "source": [
    "##### Visualize PCA Results\n",
    "\n",
    "Finally, we visualize the PCA results using ggplot2. We plot the first two principal components (PC1 and PC2) and color the points by the hospital variable. We also add labels for each sample using SampleID."
   ]
  },
  {
   "cell_type": "code",
   "execution_count": 13,
   "metadata": {
    "vscode": {
     "languageId": "r"
    }
   },
   "outputs": [
    {
     "data": {
      "image/png": "[encoded data removed]",
      "text/plain": [
       "plot without title"
      ]
     },
     "metadata": {
      "image/png": {
       "height": 420,
       "width": 420
      }
     },
     "output_type": "display_data"
    }
   ],
   "source": [
    "p <- ggplot(pca_data, aes(x = PC1, y = PC2, label = SampleID, group = hospital)) +\n",
    "  geom_point(aes(color = hospital), size = 4, alpha = 0.8) + \n",
    "  geom_text(size = 4) +  \n",
    "  coord_fixed(ratio = 1) +  # Ensures equal scaling for x and y axes\n",
    "  theme(text = element_text(family = \"Palatino\"),\n",
    "        legend.title = element_blank(),\n",
    "        legend.text = element_text(size = 16),\n",
    "        legend.key.size = unit(1, 'cm'),\n",
    "        legend.position = \"bottom\",\n",
    "        legend.background = element_rect(color = \"#ffffff\"),\n",
    "        legend.direction = \"horizontal\",\n",
    "        axis.text.x = element_text(size = 26, angle = 0, hjust = 0.5),\n",
    "        axis.text.y = element_text(size = 26),\n",
    "        axis.title.x = element_text(size = 26),                       \n",
    "        axis.title.y = element_text(size = 26),  \n",
    "        plot.margin = unit(c(0.5, 0.5, 0.5, 0.5), \"cm\")) +\n",
    "  scale_x_continuous(expand = expansion(mult = c(0.1, 0.1))) +  # Adds 10% padding\n",
    "  scale_y_continuous(expand = expansion(mult = c(0.1, 0.1)))    # Adds 10% padding\n",
    "\n",
    "print(p)"
   ]
  },
  {
   "cell_type": "markdown",
   "metadata": {},
   "source": [
    "## Metaphlan"
   ]
  },
  {
   "cell_type": "markdown",
   "metadata": {},
   "source": [
    "Reading File for Metadata\n",
    "\n",
    "Metadata contains information on the samples and hospital names. The hospitals are labelled as A, B and C respectively. This is provided in the data folder."
   ]
  },
  {
   "cell_type": "code",
   "execution_count": null,
   "metadata": {
    "vscode": {
     "languageId": "r"
    }
   },
   "outputs": [],
   "source": [
    "metadata <- read.table(\"/home/jovyan/data/metadata.txt\", sep = \"\\t\", header = TRUE)"
   ]
  },
  {
   "cell_type": "code",
   "execution_count": null,
   "metadata": {
    "vscode": {
     "languageId": "r"
    }
   },
   "outputs": [
    {
     "data": {
      "text/html": [
       "<table class=\"dataframe\">\n",
       "<caption>A data.frame: 6 x 23</caption>\n",
       "<thead>\n",
       "\t<tr><th></th><th scope=col>SampleID</th><th scope=col>alias</th><th scope=col>date</th><th scope=col>continent</th><th scope=col>country</th><th scope=col>country2</th><th scope=col>country3</th><th scope=col>name</th><th scope=col>hospital</th><th scope=col>replicate</th><th scope=col>...</th><th scope=col>hospital_section</th><th scope=col>hospital_description</th><th scope=col>no_of_beds</th><th scope=col>lat</th><th scope=col>long</th><th scope=col>sample_material</th><th scope=col>DNA_ng_.l</th><th scope=col>A260_280</th><th scope=col>M_Seqs_trimmed</th><th scope=col>plot_name</th></tr>\n",
       "\t<tr><th></th><th scope=col>&lt;chr&gt;</th><th scope=col>&lt;chr&gt;</th><th scope=col>&lt;chr&gt;</th><th scope=col>&lt;chr&gt;</th><th scope=col>&lt;chr&gt;</th><th scope=col>&lt;chr&gt;</th><th scope=col>&lt;chr&gt;</th><th scope=col>&lt;chr&gt;</th><th scope=col>&lt;chr&gt;</th><th scope=col>&lt;chr&gt;</th><th scope=col>...</th><th scope=col>&lt;chr&gt;</th><th scope=col>&lt;chr&gt;</th><th scope=col>&lt;chr&gt;</th><th scope=col>&lt;dbl&gt;</th><th scope=col>&lt;dbl&gt;</th><th scope=col>&lt;chr&gt;</th><th scope=col>&lt;dbl&gt;</th><th scope=col>&lt;dbl&gt;</th><th scope=col>&lt;dbl&gt;</th><th scope=col>&lt;chr&gt;</th></tr>\n",
       "</thead>\n",
       "<tbody>\n",
       "\t<tr><th scope=row>1</th><td>BH02_S77  </td><td>BH02 </td><td>27_11_19</td><td>West Africa</td><td>Benin       </td><td>Benin       </td><td>BENN HWW A</td><td>BENN HWW A</td><td>A</td><td>NO</td><td>...</td><td>pediatry</td><td>Secondary hospital                             </td><td>200</td><td> 6.49245</td><td> 2.40193</td><td>water</td><td> 44.115</td><td>1.863</td><td>30.8</td><td>hospital effluent</td></tr>\n",
       "\t<tr><th scope=row>2</th><td>BH03_S78  </td><td>BH03 </td><td>27_11_19</td><td>West Africa</td><td>Benin       </td><td>Benin       </td><td>BENN HWW A</td><td>BENN HWW A</td><td>A</td><td>NO</td><td>...</td><td>surgery </td><td>Secondary hospital                             </td><td>200</td><td> 6.49245</td><td> 2.40193</td><td>water</td><td> 98.572</td><td>1.844</td><td>31.6</td><td>hospital effluent</td></tr>\n",
       "\t<tr><th scope=row>3</th><td>BFH10_S128</td><td>BFH10</td><td>28_11_19</td><td>West Africa</td><td>Burkina Faso</td><td>Burkina Faso</td><td>BF HWW F  </td><td>BF HWW F  </td><td>B</td><td>NO</td><td>...</td><td>other   </td><td>Health clinic                                  </td><td>91 </td><td>12.50000</td><td>-1.66667</td><td>water</td><td>119.477</td><td>1.869</td><td>32.0</td><td>hospital effluent</td></tr>\n",
       "\t<tr><th scope=row>4</th><td>BFH33_S151</td><td>BFH33</td><td>12_12_19</td><td>West Africa</td><td>Burkina Faso</td><td>Burkina Faso</td><td>BF HWW I  </td><td>BF HWW I  </td><td>B</td><td>NO</td><td>...</td><td>other   </td><td>Tertiary hospital, a national refrence hospital</td><td>733</td><td>12.50000</td><td>-1.66667</td><td>water</td><td> 72.642</td><td>1.857</td><td>33.7</td><td>hospital effluent</td></tr>\n",
       "\t<tr><th scope=row>5</th><td>FH1_S162  </td><td>FH1  </td><td>20_01_20</td><td>Europe     </td><td>Finland     </td><td>Finland     </td><td>FI HWW J  </td><td>FI HWW J  </td><td>C</td><td>NO</td><td>...</td><td>other   </td><td>nd                                             </td><td>nd </td><td>60.19845</td><td>24.92737</td><td>water</td><td> 49.300</td><td>1.870</td><td>21.2</td><td>hospital effluent</td></tr>\n",
       "\t<tr><th scope=row>6</th><td>FH2_S163  </td><td>FH2  </td><td>20_01_20</td><td>Europe     </td><td>Finland     </td><td>Finland     </td><td>FI HWW K  </td><td>FI HWW K  </td><td>C</td><td>NO</td><td>...</td><td>other   </td><td>nd                                             </td><td>nd </td><td>60.19845</td><td>24.92737</td><td>water</td><td> 70.400</td><td>1.880</td><td>37.9</td><td>hospital effluent</td></tr>\n",
       "</tbody>\n",
       "</table>\n"
      ],
      "text/latex": [
       "A data.frame: 6 x 23\n",
       "\\begin{tabular}{r|lllllllllllllllllllll}\n",
       "  & SampleID & alias & date & continent & country & country2 & country3 & name & hospital & replicate & ... & hospital\\_section & hospital\\_description & no\\_of\\_beds & lat & long & sample\\_material & DNA\\_ng\\_.l & A260\\_280 & M\\_Seqs\\_trimmed & plot\\_name\\\\\n",
       "  & <chr> & <chr> & <chr> & <chr> & <chr> & <chr> & <chr> & <chr> & <chr> & <chr> & ... & <chr> & <chr> & <chr> & <dbl> & <dbl> & <chr> & <dbl> & <dbl> & <dbl> & <chr>\\\\\n",
       "\\hline\n",
       "\t1 & BH02\\_S77   & BH02  & 27\\_11\\_19 & West Africa & Benin        & Benin        & BENN HWW A & BENN HWW A & A & NO & ... & pediatry & Secondary hospital                              & 200 &  6.49245 &  2.40193 & water &  44.115 & 1.863 & 30.8 & hospital effluent\\\\\n",
       "\t2 & BH03\\_S78   & BH03  & 27\\_11\\_19 & West Africa & Benin        & Benin        & BENN HWW A & BENN HWW A & A & NO & ... & surgery  & Secondary hospital                              & 200 &  6.49245 &  2.40193 & water &  98.572 & 1.844 & 31.6 & hospital effluent\\\\\n",
       "\t3 & BFH10\\_S128 & BFH10 & 28\\_11\\_19 & West Africa & Burkina Faso & Burkina Faso & BF HWW F   & BF HWW F   & B & NO & ... & other    & Health clinic                                   & 91  & 12.50000 & -1.66667 & water & 119.477 & 1.869 & 32.0 & hospital effluent\\\\\n",
       "\t4 & BFH33\\_S151 & BFH33 & 12\\_12\\_19 & West Africa & Burkina Faso & Burkina Faso & BF HWW I   & BF HWW I   & B & NO & ... & other    & Tertiary hospital, a national refrence hospital & 733 & 12.50000 & -1.66667 & water &  72.642 & 1.857 & 33.7 & hospital effluent\\\\\n",
       "\t5 & FH1\\_S162   & FH1   & 20\\_01\\_20 & Europe      & Finland      & Finland      & FI HWW J   & FI HWW J   & C & NO & ... & other    & nd                                              & nd  & 60.19845 & 24.92737 & water &  49.300 & 1.870 & 21.2 & hospital effluent\\\\\n",
       "\t6 & FH2\\_S163   & FH2   & 20\\_01\\_20 & Europe      & Finland      & Finland      & FI HWW K   & FI HWW K   & C & NO & ... & other    & nd                                              & nd  & 60.19845 & 24.92737 & water &  70.400 & 1.880 & 37.9 & hospital effluent\\\\\n",
       "\\end{tabular}\n"
      ],
      "text/markdown": [
       "\n",
       "A data.frame: 6 x 23\n",
       "\n",
       "| <!--/--> | SampleID &lt;chr&gt; | alias &lt;chr&gt; | date &lt;chr&gt; | continent &lt;chr&gt; | country &lt;chr&gt; | country2 &lt;chr&gt; | country3 &lt;chr&gt; | name &lt;chr&gt; | hospital &lt;chr&gt; | replicate &lt;chr&gt; | ... ... | hospital_section &lt;chr&gt; | hospital_description &lt;chr&gt; | no_of_beds &lt;chr&gt; | lat &lt;dbl&gt; | long &lt;dbl&gt; | sample_material &lt;chr&gt; | DNA_ng_.l &lt;dbl&gt; | A260_280 &lt;dbl&gt; | M_Seqs_trimmed &lt;dbl&gt; | plot_name &lt;chr&gt; |\n",
       "|---|---|---|---|---|---|---|---|---|---|---|---|---|---|---|---|---|---|---|---|---|---|\n",
       "| 1 | BH02_S77   | BH02  | 27_11_19 | West Africa | Benin        | Benin        | BENN HWW A | BENN HWW A | A | NO | ... | pediatry | Secondary hospital                              | 200 |  6.49245 |  2.40193 | water |  44.115 | 1.863 | 30.8 | hospital effluent |\n",
       "| 2 | BH03_S78   | BH03  | 27_11_19 | West Africa | Benin        | Benin        | BENN HWW A | BENN HWW A | A | NO | ... | surgery  | Secondary hospital                              | 200 |  6.49245 |  2.40193 | water |  98.572 | 1.844 | 31.6 | hospital effluent |\n",
       "| 3 | BFH10_S128 | BFH10 | 28_11_19 | West Africa | Burkina Faso | Burkina Faso | BF HWW F   | BF HWW F   | B | NO | ... | other    | Health clinic                                   | 91  | 12.50000 | -1.66667 | water | 119.477 | 1.869 | 32.0 | hospital effluent |\n",
       "| 4 | BFH33_S151 | BFH33 | 12_12_19 | West Africa | Burkina Faso | Burkina Faso | BF HWW I   | BF HWW I   | B | NO | ... | other    | Tertiary hospital, a national refrence hospital | 733 | 12.50000 | -1.66667 | water |  72.642 | 1.857 | 33.7 | hospital effluent |\n",
       "| 5 | FH1_S162   | FH1   | 20_01_20 | Europe      | Finland      | Finland      | FI HWW J   | FI HWW J   | C | NO | ... | other    | nd                                              | nd  | 60.19845 | 24.92737 | water |  49.300 | 1.870 | 21.2 | hospital effluent |\n",
       "| 6 | FH2_S163   | FH2   | 20_01_20 | Europe      | Finland      | Finland      | FI HWW K   | FI HWW K   | C | NO | ... | other    | nd                                              | nd  | 60.19845 | 24.92737 | water |  70.400 | 1.880 | 37.9 | hospital effluent |\n",
       "\n"
      ],
      "text/plain": [
       "  SampleID   alias date     continent   country      country2     country3  \n",
       "1 BH02_S77   BH02  27_11_19 West Africa Benin        Benin        BENN HWW A\n",
       "2 BH03_S78   BH03  27_11_19 West Africa Benin        Benin        BENN HWW A\n",
       "3 BFH10_S128 BFH10 28_11_19 West Africa Burkina Faso Burkina Faso BF HWW F  \n",
       "4 BFH33_S151 BFH33 12_12_19 West Africa Burkina Faso Burkina Faso BF HWW I  \n",
       "5 FH1_S162   FH1   20_01_20 Europe      Finland      Finland      FI HWW J  \n",
       "6 FH2_S163   FH2   20_01_20 Europe      Finland      Finland      FI HWW K  \n",
       "  name       hospital replicate ... hospital_section\n",
       "1 BENN HWW A A        NO        ... pediatry        \n",
       "2 BENN HWW A A        NO        ... surgery         \n",
       "3 BF HWW F   B        NO        ... other           \n",
       "4 BF HWW I   B        NO        ... other           \n",
       "5 FI HWW J   C        NO        ... other           \n",
       "6 FI HWW K   C        NO        ... other           \n",
       "  hospital_description                            no_of_beds lat      long    \n",
       "1 Secondary hospital                              200         6.49245  2.40193\n",
       "2 Secondary hospital                              200         6.49245  2.40193\n",
       "3 Health clinic                                   91         12.50000 -1.66667\n",
       "4 Tertiary hospital, a national refrence hospital 733        12.50000 -1.66667\n",
       "5 nd                                              nd         60.19845 24.92737\n",
       "6 nd                                              nd         60.19845 24.92737\n",
       "  sample_material DNA_ng_.l A260_280 M_Seqs_trimmed plot_name        \n",
       "1 water            44.115   1.863    30.8           hospital effluent\n",
       "2 water            98.572   1.844    31.6           hospital effluent\n",
       "3 water           119.477   1.869    32.0           hospital effluent\n",
       "4 water            72.642   1.857    33.7           hospital effluent\n",
       "5 water            49.300   1.870    21.2           hospital effluent\n",
       "6 water            70.400   1.880    37.9           hospital effluent"
      ]
     },
     "metadata": {},
     "output_type": "display_data"
    }
   ],
   "source": [
    "head(metadata)"
   ]
  },
  {
   "cell_type": "markdown",
   "metadata": {},
   "source": [
    "Reading File for Metaphlan Data\n",
    "\n",
    "Metaphlan data contains results from the taxonomic run earlier, retrieving this from the results folder."
   ]
  },
  {
   "cell_type": "code",
   "execution_count": null,
   "metadata": {
    "vscode": {
     "languageId": "r"
    }
   },
   "outputs": [],
   "source": [
    "# Skip first column as it contains the mpa version\n",
    "metaphlan_data <- read.delim(\"merged_abundance_table.txt\", header = TRUE, skip =1)\n",
    "# To make it simpler, we rename clade_name to ID (as clade_name refers to the taxonomic ID)\n",
    "colnames(metaphlan_data)[colnames(metaphlan_data) == \"clade_name\"] <- \"ID\""
   ]
  },
  {
   "cell_type": "markdown",
   "metadata": {},
   "source": [
    "#### Merging Metaphlan Results with Metadata\n",
    "\n",
    "1. Converts a dataset (`metaphlan_data`) from **wide** format to **long** format using `pivot_longer`.\n",
    "\n",
    "From Wide Format (Original Metaphlan Results):\n",
    "| ID   | Sample1 | Sample2 | Sample3 |\n",
    "|------|---------|---------|---------|\n",
    "| Taxa1 | 0.5     | 0.3     | 0.2     |\n",
    "| Taxa2 | 0.2     | 0.1     | 0.4     |\n",
    "| Taxa3 | 0.3     | 0.6     | 0.4     |\n",
    "\n",
    "\n",
    "To Long Format \n",
    "| ID   | SampleID | RelativeAbundance |\n",
    "|------|----------|-------------------|\n",
    "| Taxa1 | Sample1  | 0.5               |\n",
    "| Taxa1 | Sample2  | 0.3               |\n",
    "| Taxa1 | Sample3  | 0.2               |\n",
    "| Taxa2 | Sample1  | 0.2               |\n",
    "| Taxa2 | Sample2  | 0.1               |\n",
    "| Taxa2 | Sample3  | 0.4               |\n",
    "| Taxa3 | Sample1  | 0.3               |\n",
    "| Taxa3 | Sample2  | 0.6               |\n",
    "| Taxa3 | Sample3  | 0.4               |\n",
    "\n",
    "2. Merges the reshaped data with another dataset (`metadata`) based on a common key, `SampleID`."
   ]
  },
  {
   "cell_type": "code",
   "execution_count": null,
   "metadata": {
    "vscode": {
     "languageId": "r"
    }
   },
   "outputs": [],
   "source": [
    "metaphlan_with_metadata <- metaphlan_data %>%\n",
    "  pivot_longer(cols = -ID, names_to = \"SampleID\", values_to = \"RelativeAbundance\") %>%\n",
    "  merge(metadata, by = \"SampleID\", all.x = TRUE)"
   ]
  },
  {
   "cell_type": "markdown",
   "metadata": {},
   "source": [
    "#### Adding Taxonomic Information\n",
    "The taxonomic ID in the dataset typically includes hierarchical information in a format like:\n",
    "\n",
    "`k__Bacteria|p__Firmicutes|c__Clostridia`\n",
    "\n",
    "This is a hierarchical string, where each part represents a taxonomic rank (e.g., Kingdom, Phylum, Class, etc.). \n",
    "\n",
    "For example:\n",
    "\n",
    "- `k__Bacteria`: Represents Kingdom\n",
    "- `p__Firmicutes`: Represents Phylum\n",
    "- `c__Clostridia`: Represents Class\n",
    "\n",
    "\n",
    "However, in many cases, only the most specific taxonomic rank (like Genus or Species) is of interest. To focus on this specific label, we need to extract the last part of the string (the most specific taxonomic level).\n",
    "\n",
    "For example:\n",
    "\n",
    "- Original: `k__Bacteria|p__Firmicutes|c__Clostridia`\n",
    "- Extracted: Clostridia\n",
    "\n",
    "This allows you to work with more meaningful and interpretable taxonomic labels (e.g., species names) rather than the entire hierarchical string."
   ]
  },
  {
   "cell_type": "code",
   "execution_count": null,
   "metadata": {
    "vscode": {
     "languageId": "r"
    }
   },
   "outputs": [
    {
     "data": {
      "text/html": [
       "<dl>\n",
       "\t<dt>$Class</dt>\n",
       "\t\t<dd><table class=\"dataframe\">\n",
       "<caption>A tibble: 6 x 180</caption>\n",
       "<thead>\n",
       "\t<tr><th scope=col>SampleID</th><th scope=col>alias</th><th scope=col>date</th><th scope=col>continent</th><th scope=col>country</th><th scope=col>country2</th><th scope=col>country3</th><th scope=col>name</th><th scope=col>hospital</th><th scope=col>replicate</th><th scope=col>...</th><th scope=col>BeAn_58058_virus</th><th scope=col>Tectivirus</th><th scope=col>Pandoravirus_dulcis</th><th scope=col>Pandoravirus_inopinatum</th><th scope=col>Pandoravirus_salinus</th><th scope=col>Tospoviridae</th><th scope=col>Ackermannviridae</th><th scope=col>Myoviridae</th><th scope=col>Epsilonproteobacteria</th><th scope=col>Gammaproteobacteria</th></tr>\n",
       "\t<tr><th scope=col>&lt;chr&gt;</th><th scope=col>&lt;chr&gt;</th><th scope=col>&lt;chr&gt;</th><th scope=col>&lt;chr&gt;</th><th scope=col>&lt;chr&gt;</th><th scope=col>&lt;chr&gt;</th><th scope=col>&lt;chr&gt;</th><th scope=col>&lt;chr&gt;</th><th scope=col>&lt;chr&gt;</th><th scope=col>&lt;chr&gt;</th><th scope=col>...</th><th scope=col>&lt;dbl&gt;</th><th scope=col>&lt;dbl&gt;</th><th scope=col>&lt;dbl&gt;</th><th scope=col>&lt;dbl&gt;</th><th scope=col>&lt;dbl&gt;</th><th scope=col>&lt;dbl&gt;</th><th scope=col>&lt;dbl&gt;</th><th scope=col>&lt;dbl&gt;</th><th scope=col>&lt;dbl&gt;</th><th scope=col>&lt;dbl&gt;</th></tr>\n",
       "</thead>\n",
       "<tbody>\n",
       "\t<tr><td>BFH10_S128</td><td>BFH10</td><td>28_11_19</td><td>West Africa</td><td>Burkina Faso</td><td>Burkina Faso</td><td>BF HWW F  </td><td>BF HWW F  </td><td>B</td><td>NO</td><td>...</td><td>0.00000e+00</td><td>0.00000e+00</td><td>0.000117059</td><td>3.51177e-04</td><td>0.000351177</td><td>0.00000e+00</td><td>0.000000000</td><td>0.00608706</td><td>2.125440</td><td> 5.82602</td></tr>\n",
       "\t<tr><td>BFH33_S151</td><td>BFH33</td><td>12_12_19</td><td>West Africa</td><td>Burkina Faso</td><td>Burkina Faso</td><td>BF HWW I  </td><td>BF HWW I  </td><td>B</td><td>NO</td><td>...</td><td>0.00000e+00</td><td>6.64309e-05</td><td>0.000000000</td><td>0.00000e+00</td><td>0.000000000</td><td>3.32155e-04</td><td>0.000000000</td><td>0.23955000</td><td>6.686070</td><td>41.71240</td></tr>\n",
       "\t<tr><td>BH02_S77  </td><td>BH02 </td><td>27_11_19</td><td>West Africa</td><td>Benin       </td><td>Benin       </td><td>BENN HWW A</td><td>BENN HWW A</td><td>A</td><td>NO</td><td>...</td><td>0.00000e+00</td><td>0.00000e+00</td><td>0.000000000</td><td>9.24408e-05</td><td>0.000000000</td><td>0.00000e+00</td><td>0.000739527</td><td>0.01063070</td><td>0.210210</td><td>58.55210</td></tr>\n",
       "\t<tr><td>BH03_S78  </td><td>BH03 </td><td>27_11_19</td><td>West Africa</td><td>Benin       </td><td>Benin       </td><td>BENN HWW A</td><td>BENN HWW A</td><td>A</td><td>NO</td><td>...</td><td>0.00000e+00</td><td>4.19822e-04</td><td>0.000000000</td><td>0.00000e+00</td><td>0.000104955</td><td>0.00000e+00</td><td>0.005877510</td><td>0.02907270</td><td>0.220302</td><td> 5.78578</td></tr>\n",
       "\t<tr><td>FH1_S162  </td><td>FH1  </td><td>20_01_20</td><td>Europe     </td><td>Finland     </td><td>Finland     </td><td>FI HWW J  </td><td>FI HWW J  </td><td>C</td><td>NO</td><td>...</td><td>0.00000e+00</td><td>0.00000e+00</td><td>0.000000000</td><td>0.00000e+00</td><td>0.000000000</td><td>7.11076e-05</td><td>0.000000000</td><td>0.16575200</td><td>2.765230</td><td>52.31220</td></tr>\n",
       "\t<tr><td>FH2_S163  </td><td>FH2  </td><td>20_01_20</td><td>Europe     </td><td>Finland     </td><td>Finland     </td><td>FI HWW K  </td><td>FI HWW K  </td><td>C</td><td>NO</td><td>...</td><td>8.05431e-05</td><td>8.05431e-05</td><td>0.000000000</td><td>0.00000e+00</td><td>0.000000000</td><td>4.02716e-04</td><td>0.000241629</td><td>0.00757105</td><td>5.820050</td><td>26.62020</td></tr>\n",
       "</tbody>\n",
       "</table>\n",
       "</dd>\n",
       "\t<dt>$Family</dt>\n",
       "\t\t<dd><table class=\"dataframe\">\n",
       "<caption>A tibble: 6 x 787</caption>\n",
       "<thead>\n",
       "\t<tr><th scope=col>SampleID</th><th scope=col>alias</th><th scope=col>date</th><th scope=col>continent</th><th scope=col>country</th><th scope=col>country2</th><th scope=col>country3</th><th scope=col>name</th><th scope=col>hospital</th><th scope=col>replicate</th><th scope=col>...</th><th scope=col>Plesiomonas</th><th scope=col>Candidatus_Thioglobus_autotrophicus</th><th scope=col>Candidatus_Ruthia_magnifica</th><th scope=col>Immundisolibacteraceae</th><th scope=col>Gallaecimonas_sp._HK-28</th><th scope=col>Candidatus_Thioglobus_singularis</th><th scope=col>Thiolapillus_brandeum</th><th scope=col>Sedimenticola_thiotaurini</th><th scope=col>Pseudohongiella_spirulinae</th><th scope=col>Thiohalobacter_thiocyanaticus</th></tr>\n",
       "\t<tr><th scope=col>&lt;chr&gt;</th><th scope=col>&lt;chr&gt;</th><th scope=col>&lt;chr&gt;</th><th scope=col>&lt;chr&gt;</th><th scope=col>&lt;chr&gt;</th><th scope=col>&lt;chr&gt;</th><th scope=col>&lt;chr&gt;</th><th scope=col>&lt;chr&gt;</th><th scope=col>&lt;chr&gt;</th><th scope=col>&lt;chr&gt;</th><th scope=col>...</th><th scope=col>&lt;dbl&gt;</th><th scope=col>&lt;dbl&gt;</th><th scope=col>&lt;dbl&gt;</th><th scope=col>&lt;dbl&gt;</th><th scope=col>&lt;dbl&gt;</th><th scope=col>&lt;dbl&gt;</th><th scope=col>&lt;dbl&gt;</th><th scope=col>&lt;dbl&gt;</th><th scope=col>&lt;dbl&gt;</th><th scope=col>&lt;dbl&gt;</th></tr>\n",
       "</thead>\n",
       "<tbody>\n",
       "\t<tr><td>BFH10_S128</td><td>BFH10</td><td>28_11_19</td><td>West Africa</td><td>Burkina Faso</td><td>Burkina Faso</td><td>BF HWW F  </td><td>BF HWW F  </td><td>B</td><td>NO</td><td>...</td><td>0.000468235</td><td>5.85294e-04</td><td>0.000819412</td><td>0.01322770</td><td>0.001990000</td><td>1.28765e-03</td><td>0.004448240</td><td>0.00304353</td><td>0.000234118</td><td>0.00913059</td></tr>\n",
       "\t<tr><td>BFH33_S151</td><td>BFH33</td><td>12_12_19</td><td>West Africa</td><td>Burkina Faso</td><td>Burkina Faso</td><td>BF HWW I  </td><td>BF HWW I  </td><td>B</td><td>NO</td><td>...</td><td>0.015412000</td><td>4.65016e-04</td><td>0.000730740</td><td>0.00265724</td><td>0.002059360</td><td>5.97878e-04</td><td>0.001129330</td><td>0.00239151</td><td>0.001328620</td><td>0.00345441</td></tr>\n",
       "\t<tr><td>BH02_S77  </td><td>BH02 </td><td>27_11_19</td><td>West Africa</td><td>Benin       </td><td>Benin       </td><td>BENN HWW A</td><td>BENN HWW A</td><td>A</td><td>NO</td><td>...</td><td>0.070809700</td><td>0.00000e+00</td><td>0.000000000</td><td>0.00434472</td><td>0.009891170</td><td>6.47086e-04</td><td>0.002865670</td><td>0.01580740</td><td>0.005546450</td><td>0.00406740</td></tr>\n",
       "\t<tr><td>BH03_S78  </td><td>BH03 </td><td>27_11_19</td><td>West Africa</td><td>Benin       </td><td>Benin       </td><td>BENN HWW A</td><td>BENN HWW A</td><td>A</td><td>NO</td><td>...</td><td>0.005247770</td><td>1.04955e-04</td><td>0.000000000</td><td>0.00503786</td><td>0.000839644</td><td>1.04955e-04</td><td>0.004827950</td><td>0.00587751</td><td>0.001364420</td><td>0.00703202</td></tr>\n",
       "\t<tr><td>FH1_S162  </td><td>FH1  </td><td>20_01_20</td><td>Europe     </td><td>Finland     </td><td>Finland     </td><td>FI HWW J  </td><td>FI HWW J  </td><td>C</td><td>NO</td><td>...</td><td>0.007964050</td><td>1.42215e-04</td><td>0.000213323</td><td>0.00376870</td><td>0.000711076</td><td>7.11076e-05</td><td>0.000924399</td><td>0.00113772</td><td>0.000426646</td><td>0.00206212</td></tr>\n",
       "\t<tr><td>FH2_S163  </td><td>FH2  </td><td>20_01_20</td><td>Europe     </td><td>Finland     </td><td>Finland     </td><td>FI HWW K  </td><td>FI HWW K  </td><td>C</td><td>NO</td><td>...</td><td>0.002496840</td><td>8.05431e-05</td><td>0.001449780</td><td>0.00837648</td><td>0.002174660</td><td>4.02716e-04</td><td>0.000885974</td><td>0.00177195</td><td>0.001127600</td><td>0.00402716</td></tr>\n",
       "</tbody>\n",
       "</table>\n",
       "</dd>\n",
       "\t<dt>$Genus</dt>\n",
       "\t\t<dd><table class=\"dataframe\">\n",
       "<caption>A tibble: 6 x 1316</caption>\n",
       "<thead>\n",
       "\t<tr><th scope=col>SampleID</th><th scope=col>alias</th><th scope=col>date</th><th scope=col>continent</th><th scope=col>country</th><th scope=col>country2</th><th scope=col>country3</th><th scope=col>name</th><th scope=col>hospital</th><th scope=col>replicate</th><th scope=col>...</th><th scope=col>Nautilia</th><th scope=col>Plesiomonas_shigelloides</th><th scope=col>Phytobacter_sp._SCO41</th><th scope=col>Wenyingzhuangia</th><th scope=col>Weeksella</th><th scope=col>Immundisolibacter</th><th scope=col>Winogradskyella</th><th scope=col>Zunongwangia</th><th scope=col>Flavobacteriaceae_bacterium</th><th scope=col>Zobellia</th></tr>\n",
       "\t<tr><th scope=col>&lt;chr&gt;</th><th scope=col>&lt;chr&gt;</th><th scope=col>&lt;chr&gt;</th><th scope=col>&lt;chr&gt;</th><th scope=col>&lt;chr&gt;</th><th scope=col>&lt;chr&gt;</th><th scope=col>&lt;chr&gt;</th><th scope=col>&lt;chr&gt;</th><th scope=col>&lt;chr&gt;</th><th scope=col>&lt;chr&gt;</th><th scope=col>...</th><th scope=col>&lt;dbl&gt;</th><th scope=col>&lt;dbl&gt;</th><th scope=col>&lt;dbl&gt;</th><th scope=col>&lt;dbl&gt;</th><th scope=col>&lt;dbl&gt;</th><th scope=col>&lt;dbl&gt;</th><th scope=col>&lt;dbl&gt;</th><th scope=col>&lt;dbl&gt;</th><th scope=col>&lt;dbl&gt;</th><th scope=col>&lt;dbl&gt;</th></tr>\n",
       "</thead>\n",
       "<tbody>\n",
       "\t<tr><td>BFH10_S128</td><td>BFH10</td><td>28_11_19</td><td>West Africa</td><td>Burkina Faso</td><td>Burkina Faso</td><td>BF HWW F  </td><td>BF HWW F  </td><td>B</td><td>NO</td><td>...</td><td>0.001521770</td><td>0.000468235</td><td>0.000351177</td><td>0.000936471</td><td>0.000351177</td><td>0.01322770</td><td>0.00292647</td><td>0.001638820</td><td>0.000468235</td><td>5.85294e-04</td></tr>\n",
       "\t<tr><td>BFH33_S151</td><td>BFH33</td><td>12_12_19</td><td>West Africa</td><td>Burkina Faso</td><td>Burkina Faso</td><td>BF HWW I  </td><td>BF HWW I  </td><td>B</td><td>NO</td><td>...</td><td>0.001062890</td><td>0.015412000</td><td>0.002657240</td><td>0.001129330</td><td>0.013551900</td><td>0.00265724</td><td>0.00385299</td><td>0.000930033</td><td>0.001262190</td><td>9.96464e-04</td></tr>\n",
       "\t<tr><td>BH02_S77  </td><td>BH02 </td><td>27_11_19</td><td>West Africa</td><td>Benin       </td><td>Benin       </td><td>BENN HWW A</td><td>BENN HWW A</td><td>A</td><td>NO</td><td>...</td><td>0.000000000</td><td>0.070809700</td><td>0.029673500</td><td>0.000277323</td><td>0.000277323</td><td>0.00434472</td><td>0.00138661</td><td>0.000277323</td><td>0.000000000</td><td>9.24408e-05</td></tr>\n",
       "\t<tr><td>BH03_S78  </td><td>BH03 </td><td>27_11_19</td><td>West Africa</td><td>Benin       </td><td>Benin       </td><td>BENN HWW A</td><td>BENN HWW A</td><td>A</td><td>NO</td><td>...</td><td>0.001364420</td><td>0.005247770</td><td>0.000734688</td><td>0.000104955</td><td>0.000524777</td><td>0.00503786</td><td>0.00419822</td><td>0.000314866</td><td>0.000314866</td><td>3.14866e-04</td></tr>\n",
       "\t<tr><td>FH1_S162  </td><td>FH1  </td><td>20_01_20</td><td>Europe     </td><td>Finland     </td><td>Finland     </td><td>FI HWW J  </td><td>FI HWW J  </td><td>C</td><td>NO</td><td>...</td><td>0.000284430</td><td>0.007964050</td><td>0.002133230</td><td>0.001919910</td><td>0.012728300</td><td>0.00376870</td><td>0.00604415</td><td>0.000568861</td><td>0.001137720</td><td>4.26646e-04</td></tr>\n",
       "\t<tr><td>FH2_S163  </td><td>FH2  </td><td>20_01_20</td><td>Europe     </td><td>Finland     </td><td>Finland     </td><td>FI HWW K  </td><td>FI HWW K  </td><td>C</td><td>NO</td><td>...</td><td>0.000161086</td><td>0.002496840</td><td>0.003543900</td><td>0.002335750</td><td>0.008940290</td><td>0.00837648</td><td>0.00781268</td><td>0.001288690</td><td>0.000966517</td><td>8.85974e-04</td></tr>\n",
       "</tbody>\n",
       "</table>\n",
       "</dd>\n",
       "\t<dt>$Kingdom</dt>\n",
       "\t\t<dd><table class=\"dataframe\">\n",
       "<caption>A tibble: 6 x 29</caption>\n",
       "<thead>\n",
       "\t<tr><th scope=col>SampleID</th><th scope=col>alias</th><th scope=col>date</th><th scope=col>continent</th><th scope=col>country</th><th scope=col>country2</th><th scope=col>country3</th><th scope=col>name</th><th scope=col>hospital</th><th scope=col>replicate</th><th scope=col>...</th><th scope=col>DNA_ng_.l</th><th scope=col>A260_280</th><th scope=col>M_Seqs_trimmed</th><th scope=col>plot_name</th><th scope=col>Taxonomic_Level</th><th scope=col>Taxonomic_Label</th><th scope=col>Archaea</th><th scope=col>Bacteria</th><th scope=col>Eukaryota</th><th scope=col>Viruses</th></tr>\n",
       "\t<tr><th scope=col>&lt;chr&gt;</th><th scope=col>&lt;chr&gt;</th><th scope=col>&lt;chr&gt;</th><th scope=col>&lt;chr&gt;</th><th scope=col>&lt;chr&gt;</th><th scope=col>&lt;chr&gt;</th><th scope=col>&lt;chr&gt;</th><th scope=col>&lt;chr&gt;</th><th scope=col>&lt;chr&gt;</th><th scope=col>&lt;chr&gt;</th><th scope=col>...</th><th scope=col>&lt;dbl&gt;</th><th scope=col>&lt;dbl&gt;</th><th scope=col>&lt;dbl&gt;</th><th scope=col>&lt;chr&gt;</th><th scope=col>&lt;int&gt;</th><th scope=col>&lt;chr&gt;</th><th scope=col>&lt;dbl&gt;</th><th scope=col>&lt;dbl&gt;</th><th scope=col>&lt;dbl&gt;</th><th scope=col>&lt;dbl&gt;</th></tr>\n",
       "</thead>\n",
       "<tbody>\n",
       "\t<tr><td>BFH10_S128</td><td>BFH10</td><td>28_11_19</td><td>West Africa</td><td>Burkina Faso</td><td>Burkina Faso</td><td>BF HWW F  </td><td>BF HWW F  </td><td>B</td><td>NO</td><td>...</td><td>119.477</td><td>1.869</td><td>32.0</td><td>hospital effluent</td><td>1</td><td>Kingdom</td><td>2.5398300</td><td>96.6534</td><td>0.753040</td><td>0.0537300</td></tr>\n",
       "\t<tr><td>BFH33_S151</td><td>BFH33</td><td>12_12_19</td><td>West Africa</td><td>Burkina Faso</td><td>Burkina Faso</td><td>BF HWW I  </td><td>BF HWW I  </td><td>B</td><td>NO</td><td>...</td><td> 72.642</td><td>1.857</td><td>33.7</td><td>hospital effluent</td><td>1</td><td>Kingdom</td><td>0.4268190</td><td>98.4433</td><td>0.803216</td><td>0.3266410</td></tr>\n",
       "\t<tr><td>BH02_S77  </td><td>BH02 </td><td>27_11_19</td><td>West Africa</td><td>Benin       </td><td>Benin       </td><td>BENN HWW A</td><td>BENN HWW A</td><td>A</td><td>NO</td><td>...</td><td> 44.115</td><td>1.863</td><td>30.8</td><td>hospital effluent</td><td>1</td><td>Kingdom</td><td>0.1339470</td><td>98.8584</td><td>0.540871</td><td>0.4668260</td></tr>\n",
       "\t<tr><td>BH03_S78  </td><td>BH03 </td><td>27_11_19</td><td>West Africa</td><td>Benin       </td><td>Benin       </td><td>BENN HWW A</td><td>BENN HWW A</td><td>A</td><td>NO</td><td>...</td><td> 98.572</td><td>1.844</td><td>31.6</td><td>hospital effluent</td><td>1</td><td>Kingdom</td><td>0.3163360</td><td>98.5221</td><td>0.860740</td><td>0.3008020</td></tr>\n",
       "\t<tr><td>FH1_S162  </td><td>FH1  </td><td>20_01_20</td><td>Europe     </td><td>Finland     </td><td>Finland     </td><td>FI HWW J  </td><td>FI HWW J  </td><td>C</td><td>NO</td><td>...</td><td> 49.300</td><td>1.870</td><td>21.2</td><td>hospital effluent</td><td>1</td><td>Kingdom</td><td>0.0479976</td><td>96.4236</td><td>3.098160</td><td>0.4302720</td></tr>\n",
       "\t<tr><td>FH2_S163  </td><td>FH2  </td><td>20_01_20</td><td>Europe     </td><td>Finland     </td><td>Finland     </td><td>FI HWW K  </td><td>FI HWW K  </td><td>C</td><td>NO</td><td>...</td><td> 70.400</td><td>1.880</td><td>37.9</td><td>hospital effluent</td><td>1</td><td>Kingdom</td><td>0.1228280</td><td>97.2917</td><td>2.549590</td><td>0.0358417</td></tr>\n",
       "</tbody>\n",
       "</table>\n",
       "</dd>\n",
       "\t<dt>$Order</dt>\n",
       "\t\t<dd><table class=\"dataframe\">\n",
       "<caption>A tibble: 6 x 523</caption>\n",
       "<thead>\n",
       "\t<tr><th scope=col>SampleID</th><th scope=col>alias</th><th scope=col>date</th><th scope=col>continent</th><th scope=col>country</th><th scope=col>country2</th><th scope=col>country3</th><th scope=col>name</th><th scope=col>hospital</th><th scope=col>replicate</th><th scope=col>...</th><th scope=col>Nautiliales</th><th scope=col>Candidatus_Thioglobus</th><th scope=col>Candidatus_Ruthia</th><th scope=col>Immundisolibacterales</th><th scope=col>Legionellales</th><th scope=col>Pseudohongiella</th><th scope=col>Gallaecimonas</th><th scope=col>Thiohalobacter</th><th scope=col>Sedimenticola</th><th scope=col>Thiolapillus</th></tr>\n",
       "\t<tr><th scope=col>&lt;chr&gt;</th><th scope=col>&lt;chr&gt;</th><th scope=col>&lt;chr&gt;</th><th scope=col>&lt;chr&gt;</th><th scope=col>&lt;chr&gt;</th><th scope=col>&lt;chr&gt;</th><th scope=col>&lt;chr&gt;</th><th scope=col>&lt;chr&gt;</th><th scope=col>&lt;chr&gt;</th><th scope=col>&lt;chr&gt;</th><th scope=col>...</th><th scope=col>&lt;dbl&gt;</th><th scope=col>&lt;dbl&gt;</th><th scope=col>&lt;dbl&gt;</th><th scope=col>&lt;dbl&gt;</th><th scope=col>&lt;dbl&gt;</th><th scope=col>&lt;dbl&gt;</th><th scope=col>&lt;dbl&gt;</th><th scope=col>&lt;dbl&gt;</th><th scope=col>&lt;dbl&gt;</th><th scope=col>&lt;dbl&gt;</th></tr>\n",
       "</thead>\n",
       "<tbody>\n",
       "\t<tr><td>BFH10_S128</td><td>BFH10</td><td>28_11_19</td><td>West Africa</td><td>Burkina Faso</td><td>Burkina Faso</td><td>BF HWW F  </td><td>BF HWW F  </td><td>B</td><td>NO</td><td>...</td><td>0.001521770</td><td>0.001872940</td><td>0.000819412</td><td>0.01322770</td><td>0.01053530</td><td>0.000234118</td><td>0.001990000</td><td>0.00913059</td><td>0.00304353</td><td>0.004448240</td></tr>\n",
       "\t<tr><td>BFH33_S151</td><td>BFH33</td><td>12_12_19</td><td>West Africa</td><td>Burkina Faso</td><td>Burkina Faso</td><td>BF HWW I  </td><td>BF HWW I  </td><td>B</td><td>NO</td><td>...</td><td>0.001062890</td><td>0.001195760</td><td>0.000730740</td><td>0.00265724</td><td>0.00843673</td><td>0.001328620</td><td>0.002059360</td><td>0.00345441</td><td>0.00239151</td><td>0.001129330</td></tr>\n",
       "\t<tr><td>BH02_S77  </td><td>BH02 </td><td>27_11_19</td><td>West Africa</td><td>Benin       </td><td>Benin       </td><td>BENN HWW A</td><td>BENN HWW A</td><td>A</td><td>NO</td><td>...</td><td>0.000000000</td><td>0.000647086</td><td>0.000000000</td><td>0.00434472</td><td>0.04797680</td><td>0.005546450</td><td>0.009891170</td><td>0.00406740</td><td>0.01580740</td><td>0.002865670</td></tr>\n",
       "\t<tr><td>BH03_S78  </td><td>BH03 </td><td>27_11_19</td><td>West Africa</td><td>Benin       </td><td>Benin       </td><td>BENN HWW A</td><td>BENN HWW A</td><td>A</td><td>NO</td><td>...</td><td>0.001364420</td><td>0.000209911</td><td>0.000000000</td><td>0.00503786</td><td>0.00808157</td><td>0.001364420</td><td>0.000839644</td><td>0.00703202</td><td>0.00587751</td><td>0.004827950</td></tr>\n",
       "\t<tr><td>FH1_S162  </td><td>FH1  </td><td>20_01_20</td><td>Europe     </td><td>Finland     </td><td>Finland     </td><td>FI HWW J  </td><td>FI HWW J  </td><td>C</td><td>NO</td><td>...</td><td>0.000284430</td><td>0.000213323</td><td>0.000213323</td><td>0.00376870</td><td>0.00533307</td><td>0.000426646</td><td>0.000711076</td><td>0.00206212</td><td>0.00113772</td><td>0.000924399</td></tr>\n",
       "\t<tr><td>FH2_S163  </td><td>FH2  </td><td>20_01_20</td><td>Europe     </td><td>Finland     </td><td>Finland     </td><td>FI HWW K  </td><td>FI HWW K  </td><td>C</td><td>NO</td><td>...</td><td>0.000161086</td><td>0.000483259</td><td>0.001449780</td><td>0.00837648</td><td>0.00732942</td><td>0.001127600</td><td>0.002174660</td><td>0.00402716</td><td>0.00177195</td><td>0.000885974</td></tr>\n",
       "</tbody>\n",
       "</table>\n",
       "</dd>\n",
       "\t<dt>$Phylum</dt>\n",
       "\t\t<dd><table class=\"dataframe\">\n",
       "<caption>A tibble: 6 x 96</caption>\n",
       "<thead>\n",
       "\t<tr><th scope=col>SampleID</th><th scope=col>alias</th><th scope=col>date</th><th scope=col>continent</th><th scope=col>country</th><th scope=col>country2</th><th scope=col>country3</th><th scope=col>name</th><th scope=col>hospital</th><th scope=col>replicate</th><th scope=col>...</th><th scope=col>Tectiviridae</th><th scope=col>Beihai_rhabdo-like_virus_2</th><th scope=col>Hubei_picorna-like_virus_45</th><th scope=col>Hubei_sobemo-like_virus_38</th><th scope=col>Pandoravirus</th><th scope=col>Pseudomonas_phage_vB_PaeP_Tr60_Ab31</th><th scope=col>Wenling_nido-like_virus_1</th><th scope=col>uncultured_crAssphage</th><th scope=col>Bunyavirales</th><th scope=col>Caudovirales</th></tr>\n",
       "\t<tr><th scope=col>&lt;chr&gt;</th><th scope=col>&lt;chr&gt;</th><th scope=col>&lt;chr&gt;</th><th scope=col>&lt;chr&gt;</th><th scope=col>&lt;chr&gt;</th><th scope=col>&lt;chr&gt;</th><th scope=col>&lt;chr&gt;</th><th scope=col>&lt;chr&gt;</th><th scope=col>&lt;chr&gt;</th><th scope=col>&lt;chr&gt;</th><th scope=col>...</th><th scope=col>&lt;dbl&gt;</th><th scope=col>&lt;dbl&gt;</th><th scope=col>&lt;dbl&gt;</th><th scope=col>&lt;dbl&gt;</th><th scope=col>&lt;dbl&gt;</th><th scope=col>&lt;dbl&gt;</th><th scope=col>&lt;dbl&gt;</th><th scope=col>&lt;dbl&gt;</th><th scope=col>&lt;dbl&gt;</th><th scope=col>&lt;dbl&gt;</th></tr>\n",
       "</thead>\n",
       "<tbody>\n",
       "\t<tr><td>BFH10_S128</td><td>BFH10</td><td>28_11_19</td><td>West Africa</td><td>Burkina Faso</td><td>Burkina Faso</td><td>BF HWW F  </td><td>BF HWW F  </td><td>B</td><td>NO</td><td>...</td><td>0.00000e+00</td><td>0.00000e+00</td><td>0.000117059</td><td>0.00000e+00</td><td>8.19412e-04</td><td>0.00000e+00</td><td>0.000000000</td><td>0.00971589</td><td>0.00000e+00</td><td>0.0420241</td></tr>\n",
       "\t<tr><td>BFH33_S151</td><td>BFH33</td><td>12_12_19</td><td>West Africa</td><td>Burkina Faso</td><td>Burkina Faso</td><td>BF HWW I  </td><td>BF HWW I  </td><td>B</td><td>NO</td><td>...</td><td>6.64309e-05</td><td>6.64309e-05</td><td>0.000000000</td><td>6.64309e-05</td><td>0.00000e+00</td><td>0.00000e+00</td><td>0.000000000</td><td>0.00717454</td><td>3.32155e-04</td><td>0.3184030</td></tr>\n",
       "\t<tr><td>BH02_S77  </td><td>BH02 </td><td>27_11_19</td><td>West Africa</td><td>Benin       </td><td>Benin       </td><td>BENN HWW A</td><td>BENN HWW A</td><td>A</td><td>NO</td><td>...</td><td>0.00000e+00</td><td>0.00000e+00</td><td>0.000000000</td><td>0.00000e+00</td><td>9.24408e-05</td><td>0.00000e+00</td><td>0.000000000</td><td>0.00000000</td><td>0.00000e+00</td><td>0.4659020</td></tr>\n",
       "\t<tr><td>BH03_S78  </td><td>BH03 </td><td>27_11_19</td><td>West Africa</td><td>Benin       </td><td>Benin       </td><td>BENN HWW A</td><td>BENN HWW A</td><td>A</td><td>NO</td><td>...</td><td>4.19822e-04</td><td>0.00000e+00</td><td>0.000000000</td><td>0.00000e+00</td><td>1.04955e-04</td><td>0.00000e+00</td><td>0.000209911</td><td>0.19091400</td><td>0.00000e+00</td><td>0.1085240</td></tr>\n",
       "\t<tr><td>FH1_S162  </td><td>FH1  </td><td>20_01_20</td><td>Europe     </td><td>Finland     </td><td>Finland     </td><td>FI HWW J  </td><td>FI HWW J  </td><td>C</td><td>NO</td><td>...</td><td>0.00000e+00</td><td>0.00000e+00</td><td>0.000000000</td><td>0.00000e+00</td><td>0.00000e+00</td><td>7.11076e-05</td><td>0.000000000</td><td>0.13467800</td><td>7.11076e-05</td><td>0.2921810</td></tr>\n",
       "\t<tr><td>FH2_S163  </td><td>FH2  </td><td>20_01_20</td><td>Europe     </td><td>Finland     </td><td>Finland     </td><td>FI HWW K  </td><td>FI HWW K  </td><td>C</td><td>NO</td><td>...</td><td>8.05431e-05</td><td>0.00000e+00</td><td>0.000000000</td><td>0.00000e+00</td><td>0.00000e+00</td><td>0.00000e+00</td><td>0.000000000</td><td>0.01111500</td><td>4.02716e-04</td><td>0.0222299</td></tr>\n",
       "</tbody>\n",
       "</table>\n",
       "</dd>\n",
       "</dl>\n"
      ],
      "text/latex": [
       "\\begin{description}\n",
       "\\item[\\$Class] A tibble: 6 x 180\n",
       "\\begin{tabular}{lllllllllllllllllllll}\n",
       " SampleID & alias & date & continent & country & country2 & country3 & name & hospital & replicate & ... & BeAn\\_58058\\_virus & Tectivirus & Pandoravirus\\_dulcis & Pandoravirus\\_inopinatum & Pandoravirus\\_salinus & Tospoviridae & Ackermannviridae & Myoviridae & Epsilonproteobacteria & Gammaproteobacteria\\\\\n",
       " <chr> & <chr> & <chr> & <chr> & <chr> & <chr> & <chr> & <chr> & <chr> & <chr> & ... & <dbl> & <dbl> & <dbl> & <dbl> & <dbl> & <dbl> & <dbl> & <dbl> & <dbl> & <dbl>\\\\\n",
       "\\hline\n",
       "\t BFH10\\_S128 & BFH10 & 28\\_11\\_19 & West Africa & Burkina Faso & Burkina Faso & BF HWW F   & BF HWW F   & B & NO & ... & 0.00000e+00 & 0.00000e+00 & 0.000117059 & 3.51177e-04 & 0.000351177 & 0.00000e+00 & 0.000000000 & 0.00608706 & 2.125440 &  5.82602\\\\\n",
       "\t BFH33\\_S151 & BFH33 & 12\\_12\\_19 & West Africa & Burkina Faso & Burkina Faso & BF HWW I   & BF HWW I   & B & NO & ... & 0.00000e+00 & 6.64309e-05 & 0.000000000 & 0.00000e+00 & 0.000000000 & 3.32155e-04 & 0.000000000 & 0.23955000 & 6.686070 & 41.71240\\\\\n",
       "\t BH02\\_S77   & BH02  & 27\\_11\\_19 & West Africa & Benin        & Benin        & BENN HWW A & BENN HWW A & A & NO & ... & 0.00000e+00 & 0.00000e+00 & 0.000000000 & 9.24408e-05 & 0.000000000 & 0.00000e+00 & 0.000739527 & 0.01063070 & 0.210210 & 58.55210\\\\\n",
       "\t BH03\\_S78   & BH03  & 27\\_11\\_19 & West Africa & Benin        & Benin        & BENN HWW A & BENN HWW A & A & NO & ... & 0.00000e+00 & 4.19822e-04 & 0.000000000 & 0.00000e+00 & 0.000104955 & 0.00000e+00 & 0.005877510 & 0.02907270 & 0.220302 &  5.78578\\\\\n",
       "\t FH1\\_S162   & FH1   & 20\\_01\\_20 & Europe      & Finland      & Finland      & FI HWW J   & FI HWW J   & C & NO & ... & 0.00000e+00 & 0.00000e+00 & 0.000000000 & 0.00000e+00 & 0.000000000 & 7.11076e-05 & 0.000000000 & 0.16575200 & 2.765230 & 52.31220\\\\\n",
       "\t FH2\\_S163   & FH2   & 20\\_01\\_20 & Europe      & Finland      & Finland      & FI HWW K   & FI HWW K   & C & NO & ... & 8.05431e-05 & 8.05431e-05 & 0.000000000 & 0.00000e+00 & 0.000000000 & 4.02716e-04 & 0.000241629 & 0.00757105 & 5.820050 & 26.62020\\\\\n",
       "\\end{tabular}\n",
       "\n",
       "\\item[\\$Family] A tibble: 6 x 787\n",
       "\\begin{tabular}{lllllllllllllllllllll}\n",
       " SampleID & alias & date & continent & country & country2 & country3 & name & hospital & replicate & ... & Plesiomonas & Candidatus\\_Thioglobus\\_autotrophicus & Candidatus\\_Ruthia\\_magnifica & Immundisolibacteraceae & Gallaecimonas\\_sp.\\_HK-28 & Candidatus\\_Thioglobus\\_singularis & Thiolapillus\\_brandeum & Sedimenticola\\_thiotaurini & Pseudohongiella\\_spirulinae & Thiohalobacter\\_thiocyanaticus\\\\\n",
       " <chr> & <chr> & <chr> & <chr> & <chr> & <chr> & <chr> & <chr> & <chr> & <chr> & ... & <dbl> & <dbl> & <dbl> & <dbl> & <dbl> & <dbl> & <dbl> & <dbl> & <dbl> & <dbl>\\\\\n",
       "\\hline\n",
       "\t BFH10\\_S128 & BFH10 & 28\\_11\\_19 & West Africa & Burkina Faso & Burkina Faso & BF HWW F   & BF HWW F   & B & NO & ... & 0.000468235 & 5.85294e-04 & 0.000819412 & 0.01322770 & 0.001990000 & 1.28765e-03 & 0.004448240 & 0.00304353 & 0.000234118 & 0.00913059\\\\\n",
       "\t BFH33\\_S151 & BFH33 & 12\\_12\\_19 & West Africa & Burkina Faso & Burkina Faso & BF HWW I   & BF HWW I   & B & NO & ... & 0.015412000 & 4.65016e-04 & 0.000730740 & 0.00265724 & 0.002059360 & 5.97878e-04 & 0.001129330 & 0.00239151 & 0.001328620 & 0.00345441\\\\\n",
       "\t BH02\\_S77   & BH02  & 27\\_11\\_19 & West Africa & Benin        & Benin        & BENN HWW A & BENN HWW A & A & NO & ... & 0.070809700 & 0.00000e+00 & 0.000000000 & 0.00434472 & 0.009891170 & 6.47086e-04 & 0.002865670 & 0.01580740 & 0.005546450 & 0.00406740\\\\\n",
       "\t BH03\\_S78   & BH03  & 27\\_11\\_19 & West Africa & Benin        & Benin        & BENN HWW A & BENN HWW A & A & NO & ... & 0.005247770 & 1.04955e-04 & 0.000000000 & 0.00503786 & 0.000839644 & 1.04955e-04 & 0.004827950 & 0.00587751 & 0.001364420 & 0.00703202\\\\\n",
       "\t FH1\\_S162   & FH1   & 20\\_01\\_20 & Europe      & Finland      & Finland      & FI HWW J   & FI HWW J   & C & NO & ... & 0.007964050 & 1.42215e-04 & 0.000213323 & 0.00376870 & 0.000711076 & 7.11076e-05 & 0.000924399 & 0.00113772 & 0.000426646 & 0.00206212\\\\\n",
       "\t FH2\\_S163   & FH2   & 20\\_01\\_20 & Europe      & Finland      & Finland      & FI HWW K   & FI HWW K   & C & NO & ... & 0.002496840 & 8.05431e-05 & 0.001449780 & 0.00837648 & 0.002174660 & 4.02716e-04 & 0.000885974 & 0.00177195 & 0.001127600 & 0.00402716\\\\\n",
       "\\end{tabular}\n",
       "\n",
       "\\item[\\$Genus] A tibble: 6 x 1316\n",
       "\\begin{tabular}{lllllllllllllllllllll}\n",
       " SampleID & alias & date & continent & country & country2 & country3 & name & hospital & replicate & ... & Nautilia & Plesiomonas\\_shigelloides & Phytobacter\\_sp.\\_SCO41 & Wenyingzhuangia & Weeksella & Immundisolibacter & Winogradskyella & Zunongwangia & Flavobacteriaceae\\_bacterium & Zobellia\\\\\n",
       " <chr> & <chr> & <chr> & <chr> & <chr> & <chr> & <chr> & <chr> & <chr> & <chr> & ... & <dbl> & <dbl> & <dbl> & <dbl> & <dbl> & <dbl> & <dbl> & <dbl> & <dbl> & <dbl>\\\\\n",
       "\\hline\n",
       "\t BFH10\\_S128 & BFH10 & 28\\_11\\_19 & West Africa & Burkina Faso & Burkina Faso & BF HWW F   & BF HWW F   & B & NO & ... & 0.001521770 & 0.000468235 & 0.000351177 & 0.000936471 & 0.000351177 & 0.01322770 & 0.00292647 & 0.001638820 & 0.000468235 & 5.85294e-04\\\\\n",
       "\t BFH33\\_S151 & BFH33 & 12\\_12\\_19 & West Africa & Burkina Faso & Burkina Faso & BF HWW I   & BF HWW I   & B & NO & ... & 0.001062890 & 0.015412000 & 0.002657240 & 0.001129330 & 0.013551900 & 0.00265724 & 0.00385299 & 0.000930033 & 0.001262190 & 9.96464e-04\\\\\n",
       "\t BH02\\_S77   & BH02  & 27\\_11\\_19 & West Africa & Benin        & Benin        & BENN HWW A & BENN HWW A & A & NO & ... & 0.000000000 & 0.070809700 & 0.029673500 & 0.000277323 & 0.000277323 & 0.00434472 & 0.00138661 & 0.000277323 & 0.000000000 & 9.24408e-05\\\\\n",
       "\t BH03\\_S78   & BH03  & 27\\_11\\_19 & West Africa & Benin        & Benin        & BENN HWW A & BENN HWW A & A & NO & ... & 0.001364420 & 0.005247770 & 0.000734688 & 0.000104955 & 0.000524777 & 0.00503786 & 0.00419822 & 0.000314866 & 0.000314866 & 3.14866e-04\\\\\n",
       "\t FH1\\_S162   & FH1   & 20\\_01\\_20 & Europe      & Finland      & Finland      & FI HWW J   & FI HWW J   & C & NO & ... & 0.000284430 & 0.007964050 & 0.002133230 & 0.001919910 & 0.012728300 & 0.00376870 & 0.00604415 & 0.000568861 & 0.001137720 & 4.26646e-04\\\\\n",
       "\t FH2\\_S163   & FH2   & 20\\_01\\_20 & Europe      & Finland      & Finland      & FI HWW K   & FI HWW K   & C & NO & ... & 0.000161086 & 0.002496840 & 0.003543900 & 0.002335750 & 0.008940290 & 0.00837648 & 0.00781268 & 0.001288690 & 0.000966517 & 8.85974e-04\\\\\n",
       "\\end{tabular}\n",
       "\n",
       "\\item[\\$Kingdom] A tibble: 6 x 29\n",
       "\\begin{tabular}{lllllllllllllllllllll}\n",
       " SampleID & alias & date & continent & country & country2 & country3 & name & hospital & replicate & ... & DNA\\_ng\\_.l & A260\\_280 & M\\_Seqs\\_trimmed & plot\\_name & Taxonomic\\_Level & Taxonomic\\_Label & Archaea & Bacteria & Eukaryota & Viruses\\\\\n",
       " <chr> & <chr> & <chr> & <chr> & <chr> & <chr> & <chr> & <chr> & <chr> & <chr> & ... & <dbl> & <dbl> & <dbl> & <chr> & <int> & <chr> & <dbl> & <dbl> & <dbl> & <dbl>\\\\\n",
       "\\hline\n",
       "\t BFH10\\_S128 & BFH10 & 28\\_11\\_19 & West Africa & Burkina Faso & Burkina Faso & BF HWW F   & BF HWW F   & B & NO & ... & 119.477 & 1.869 & 32.0 & hospital effluent & 1 & Kingdom & 2.5398300 & 96.6534 & 0.753040 & 0.0537300\\\\\n",
       "\t BFH33\\_S151 & BFH33 & 12\\_12\\_19 & West Africa & Burkina Faso & Burkina Faso & BF HWW I   & BF HWW I   & B & NO & ... &  72.642 & 1.857 & 33.7 & hospital effluent & 1 & Kingdom & 0.4268190 & 98.4433 & 0.803216 & 0.3266410\\\\\n",
       "\t BH02\\_S77   & BH02  & 27\\_11\\_19 & West Africa & Benin        & Benin        & BENN HWW A & BENN HWW A & A & NO & ... &  44.115 & 1.863 & 30.8 & hospital effluent & 1 & Kingdom & 0.1339470 & 98.8584 & 0.540871 & 0.4668260\\\\\n",
       "\t BH03\\_S78   & BH03  & 27\\_11\\_19 & West Africa & Benin        & Benin        & BENN HWW A & BENN HWW A & A & NO & ... &  98.572 & 1.844 & 31.6 & hospital effluent & 1 & Kingdom & 0.3163360 & 98.5221 & 0.860740 & 0.3008020\\\\\n",
       "\t FH1\\_S162   & FH1   & 20\\_01\\_20 & Europe      & Finland      & Finland      & FI HWW J   & FI HWW J   & C & NO & ... &  49.300 & 1.870 & 21.2 & hospital effluent & 1 & Kingdom & 0.0479976 & 96.4236 & 3.098160 & 0.4302720\\\\\n",
       "\t FH2\\_S163   & FH2   & 20\\_01\\_20 & Europe      & Finland      & Finland      & FI HWW K   & FI HWW K   & C & NO & ... &  70.400 & 1.880 & 37.9 & hospital effluent & 1 & Kingdom & 0.1228280 & 97.2917 & 2.549590 & 0.0358417\\\\\n",
       "\\end{tabular}\n",
       "\n",
       "\\item[\\$Order] A tibble: 6 x 523\n",
       "\\begin{tabular}{lllllllllllllllllllll}\n",
       " SampleID & alias & date & continent & country & country2 & country3 & name & hospital & replicate & ... & Nautiliales & Candidatus\\_Thioglobus & Candidatus\\_Ruthia & Immundisolibacterales & Legionellales & Pseudohongiella & Gallaecimonas & Thiohalobacter & Sedimenticola & Thiolapillus\\\\\n",
       " <chr> & <chr> & <chr> & <chr> & <chr> & <chr> & <chr> & <chr> & <chr> & <chr> & ... & <dbl> & <dbl> & <dbl> & <dbl> & <dbl> & <dbl> & <dbl> & <dbl> & <dbl> & <dbl>\\\\\n",
       "\\hline\n",
       "\t BFH10\\_S128 & BFH10 & 28\\_11\\_19 & West Africa & Burkina Faso & Burkina Faso & BF HWW F   & BF HWW F   & B & NO & ... & 0.001521770 & 0.001872940 & 0.000819412 & 0.01322770 & 0.01053530 & 0.000234118 & 0.001990000 & 0.00913059 & 0.00304353 & 0.004448240\\\\\n",
       "\t BFH33\\_S151 & BFH33 & 12\\_12\\_19 & West Africa & Burkina Faso & Burkina Faso & BF HWW I   & BF HWW I   & B & NO & ... & 0.001062890 & 0.001195760 & 0.000730740 & 0.00265724 & 0.00843673 & 0.001328620 & 0.002059360 & 0.00345441 & 0.00239151 & 0.001129330\\\\\n",
       "\t BH02\\_S77   & BH02  & 27\\_11\\_19 & West Africa & Benin        & Benin        & BENN HWW A & BENN HWW A & A & NO & ... & 0.000000000 & 0.000647086 & 0.000000000 & 0.00434472 & 0.04797680 & 0.005546450 & 0.009891170 & 0.00406740 & 0.01580740 & 0.002865670\\\\\n",
       "\t BH03\\_S78   & BH03  & 27\\_11\\_19 & West Africa & Benin        & Benin        & BENN HWW A & BENN HWW A & A & NO & ... & 0.001364420 & 0.000209911 & 0.000000000 & 0.00503786 & 0.00808157 & 0.001364420 & 0.000839644 & 0.00703202 & 0.00587751 & 0.004827950\\\\\n",
       "\t FH1\\_S162   & FH1   & 20\\_01\\_20 & Europe      & Finland      & Finland      & FI HWW J   & FI HWW J   & C & NO & ... & 0.000284430 & 0.000213323 & 0.000213323 & 0.00376870 & 0.00533307 & 0.000426646 & 0.000711076 & 0.00206212 & 0.00113772 & 0.000924399\\\\\n",
       "\t FH2\\_S163   & FH2   & 20\\_01\\_20 & Europe      & Finland      & Finland      & FI HWW K   & FI HWW K   & C & NO & ... & 0.000161086 & 0.000483259 & 0.001449780 & 0.00837648 & 0.00732942 & 0.001127600 & 0.002174660 & 0.00402716 & 0.00177195 & 0.000885974\\\\\n",
       "\\end{tabular}\n",
       "\n",
       "\\item[\\$Phylum] A tibble: 6 x 96\n",
       "\\begin{tabular}{lllllllllllllllllllll}\n",
       " SampleID & alias & date & continent & country & country2 & country3 & name & hospital & replicate & ... & Tectiviridae & Beihai\\_rhabdo-like\\_virus\\_2 & Hubei\\_picorna-like\\_virus\\_45 & Hubei\\_sobemo-like\\_virus\\_38 & Pandoravirus & Pseudomonas\\_phage\\_vB\\_PaeP\\_Tr60\\_Ab31 & Wenling\\_nido-like\\_virus\\_1 & uncultured\\_crAssphage & Bunyavirales & Caudovirales\\\\\n",
       " <chr> & <chr> & <chr> & <chr> & <chr> & <chr> & <chr> & <chr> & <chr> & <chr> & ... & <dbl> & <dbl> & <dbl> & <dbl> & <dbl> & <dbl> & <dbl> & <dbl> & <dbl> & <dbl>\\\\\n",
       "\\hline\n",
       "\t BFH10\\_S128 & BFH10 & 28\\_11\\_19 & West Africa & Burkina Faso & Burkina Faso & BF HWW F   & BF HWW F   & B & NO & ... & 0.00000e+00 & 0.00000e+00 & 0.000117059 & 0.00000e+00 & 8.19412e-04 & 0.00000e+00 & 0.000000000 & 0.00971589 & 0.00000e+00 & 0.0420241\\\\\n",
       "\t BFH33\\_S151 & BFH33 & 12\\_12\\_19 & West Africa & Burkina Faso & Burkina Faso & BF HWW I   & BF HWW I   & B & NO & ... & 6.64309e-05 & 6.64309e-05 & 0.000000000 & 6.64309e-05 & 0.00000e+00 & 0.00000e+00 & 0.000000000 & 0.00717454 & 3.32155e-04 & 0.3184030\\\\\n",
       "\t BH02\\_S77   & BH02  & 27\\_11\\_19 & West Africa & Benin        & Benin        & BENN HWW A & BENN HWW A & A & NO & ... & 0.00000e+00 & 0.00000e+00 & 0.000000000 & 0.00000e+00 & 9.24408e-05 & 0.00000e+00 & 0.000000000 & 0.00000000 & 0.00000e+00 & 0.4659020\\\\\n",
       "\t BH03\\_S78   & BH03  & 27\\_11\\_19 & West Africa & Benin        & Benin        & BENN HWW A & BENN HWW A & A & NO & ... & 4.19822e-04 & 0.00000e+00 & 0.000000000 & 0.00000e+00 & 1.04955e-04 & 0.00000e+00 & 0.000209911 & 0.19091400 & 0.00000e+00 & 0.1085240\\\\\n",
       "\t FH1\\_S162   & FH1   & 20\\_01\\_20 & Europe      & Finland      & Finland      & FI HWW J   & FI HWW J   & C & NO & ... & 0.00000e+00 & 0.00000e+00 & 0.000000000 & 0.00000e+00 & 0.00000e+00 & 7.11076e-05 & 0.000000000 & 0.13467800 & 7.11076e-05 & 0.2921810\\\\\n",
       "\t FH2\\_S163   & FH2   & 20\\_01\\_20 & Europe      & Finland      & Finland      & FI HWW K   & FI HWW K   & C & NO & ... & 8.05431e-05 & 0.00000e+00 & 0.000000000 & 0.00000e+00 & 0.00000e+00 & 0.00000e+00 & 0.000000000 & 0.01111500 & 4.02716e-04 & 0.0222299\\\\\n",
       "\\end{tabular}\n",
       "\n",
       "\\end{description}\n"
      ],
      "text/markdown": [
       "$Class\n",
       ":   \n",
       "A tibble: 6 x 180\n",
       "\n",
       "| SampleID &lt;chr&gt; | alias &lt;chr&gt; | date &lt;chr&gt; | continent &lt;chr&gt; | country &lt;chr&gt; | country2 &lt;chr&gt; | country3 &lt;chr&gt; | name &lt;chr&gt; | hospital &lt;chr&gt; | replicate &lt;chr&gt; | ... ... | BeAn_58058_virus &lt;dbl&gt; | Tectivirus &lt;dbl&gt; | Pandoravirus_dulcis &lt;dbl&gt; | Pandoravirus_inopinatum &lt;dbl&gt; | Pandoravirus_salinus &lt;dbl&gt; | Tospoviridae &lt;dbl&gt; | Ackermannviridae &lt;dbl&gt; | Myoviridae &lt;dbl&gt; | Epsilonproteobacteria &lt;dbl&gt; | Gammaproteobacteria &lt;dbl&gt; |\n",
       "|---|---|---|---|---|---|---|---|---|---|---|---|---|---|---|---|---|---|---|---|---|\n",
       "| BFH10_S128 | BFH10 | 28_11_19 | West Africa | Burkina Faso | Burkina Faso | BF HWW F   | BF HWW F   | B | NO | ... | 0.00000e+00 | 0.00000e+00 | 0.000117059 | 3.51177e-04 | 0.000351177 | 0.00000e+00 | 0.000000000 | 0.00608706 | 2.125440 |  5.82602 |\n",
       "| BFH33_S151 | BFH33 | 12_12_19 | West Africa | Burkina Faso | Burkina Faso | BF HWW I   | BF HWW I   | B | NO | ... | 0.00000e+00 | 6.64309e-05 | 0.000000000 | 0.00000e+00 | 0.000000000 | 3.32155e-04 | 0.000000000 | 0.23955000 | 6.686070 | 41.71240 |\n",
       "| BH02_S77   | BH02  | 27_11_19 | West Africa | Benin        | Benin        | BENN HWW A | BENN HWW A | A | NO | ... | 0.00000e+00 | 0.00000e+00 | 0.000000000 | 9.24408e-05 | 0.000000000 | 0.00000e+00 | 0.000739527 | 0.01063070 | 0.210210 | 58.55210 |\n",
       "| BH03_S78   | BH03  | 27_11_19 | West Africa | Benin        | Benin        | BENN HWW A | BENN HWW A | A | NO | ... | 0.00000e+00 | 4.19822e-04 | 0.000000000 | 0.00000e+00 | 0.000104955 | 0.00000e+00 | 0.005877510 | 0.02907270 | 0.220302 |  5.78578 |\n",
       "| FH1_S162   | FH1   | 20_01_20 | Europe      | Finland      | Finland      | FI HWW J   | FI HWW J   | C | NO | ... | 0.00000e+00 | 0.00000e+00 | 0.000000000 | 0.00000e+00 | 0.000000000 | 7.11076e-05 | 0.000000000 | 0.16575200 | 2.765230 | 52.31220 |\n",
       "| FH2_S163   | FH2   | 20_01_20 | Europe      | Finland      | Finland      | FI HWW K   | FI HWW K   | C | NO | ... | 8.05431e-05 | 8.05431e-05 | 0.000000000 | 0.00000e+00 | 0.000000000 | 4.02716e-04 | 0.000241629 | 0.00757105 | 5.820050 | 26.62020 |\n",
       "\n",
       "\n",
       "$Family\n",
       ":   \n",
       "A tibble: 6 x 787\n",
       "\n",
       "| SampleID &lt;chr&gt; | alias &lt;chr&gt; | date &lt;chr&gt; | continent &lt;chr&gt; | country &lt;chr&gt; | country2 &lt;chr&gt; | country3 &lt;chr&gt; | name &lt;chr&gt; | hospital &lt;chr&gt; | replicate &lt;chr&gt; | ... ... | Plesiomonas &lt;dbl&gt; | Candidatus_Thioglobus_autotrophicus &lt;dbl&gt; | Candidatus_Ruthia_magnifica &lt;dbl&gt; | Immundisolibacteraceae &lt;dbl&gt; | Gallaecimonas_sp._HK-28 &lt;dbl&gt; | Candidatus_Thioglobus_singularis &lt;dbl&gt; | Thiolapillus_brandeum &lt;dbl&gt; | Sedimenticola_thiotaurini &lt;dbl&gt; | Pseudohongiella_spirulinae &lt;dbl&gt; | Thiohalobacter_thiocyanaticus &lt;dbl&gt; |\n",
       "|---|---|---|---|---|---|---|---|---|---|---|---|---|---|---|---|---|---|---|---|---|\n",
       "| BFH10_S128 | BFH10 | 28_11_19 | West Africa | Burkina Faso | Burkina Faso | BF HWW F   | BF HWW F   | B | NO | ... | 0.000468235 | 5.85294e-04 | 0.000819412 | 0.01322770 | 0.001990000 | 1.28765e-03 | 0.004448240 | 0.00304353 | 0.000234118 | 0.00913059 |\n",
       "| BFH33_S151 | BFH33 | 12_12_19 | West Africa | Burkina Faso | Burkina Faso | BF HWW I   | BF HWW I   | B | NO | ... | 0.015412000 | 4.65016e-04 | 0.000730740 | 0.00265724 | 0.002059360 | 5.97878e-04 | 0.001129330 | 0.00239151 | 0.001328620 | 0.00345441 |\n",
       "| BH02_S77   | BH02  | 27_11_19 | West Africa | Benin        | Benin        | BENN HWW A | BENN HWW A | A | NO | ... | 0.070809700 | 0.00000e+00 | 0.000000000 | 0.00434472 | 0.009891170 | 6.47086e-04 | 0.002865670 | 0.01580740 | 0.005546450 | 0.00406740 |\n",
       "| BH03_S78   | BH03  | 27_11_19 | West Africa | Benin        | Benin        | BENN HWW A | BENN HWW A | A | NO | ... | 0.005247770 | 1.04955e-04 | 0.000000000 | 0.00503786 | 0.000839644 | 1.04955e-04 | 0.004827950 | 0.00587751 | 0.001364420 | 0.00703202 |\n",
       "| FH1_S162   | FH1   | 20_01_20 | Europe      | Finland      | Finland      | FI HWW J   | FI HWW J   | C | NO | ... | 0.007964050 | 1.42215e-04 | 0.000213323 | 0.00376870 | 0.000711076 | 7.11076e-05 | 0.000924399 | 0.00113772 | 0.000426646 | 0.00206212 |\n",
       "| FH2_S163   | FH2   | 20_01_20 | Europe      | Finland      | Finland      | FI HWW K   | FI HWW K   | C | NO | ... | 0.002496840 | 8.05431e-05 | 0.001449780 | 0.00837648 | 0.002174660 | 4.02716e-04 | 0.000885974 | 0.00177195 | 0.001127600 | 0.00402716 |\n",
       "\n",
       "\n",
       "$Genus\n",
       ":   \n",
       "A tibble: 6 x 1316\n",
       "\n",
       "| SampleID &lt;chr&gt; | alias &lt;chr&gt; | date &lt;chr&gt; | continent &lt;chr&gt; | country &lt;chr&gt; | country2 &lt;chr&gt; | country3 &lt;chr&gt; | name &lt;chr&gt; | hospital &lt;chr&gt; | replicate &lt;chr&gt; | ... ... | Nautilia &lt;dbl&gt; | Plesiomonas_shigelloides &lt;dbl&gt; | Phytobacter_sp._SCO41 &lt;dbl&gt; | Wenyingzhuangia &lt;dbl&gt; | Weeksella &lt;dbl&gt; | Immundisolibacter &lt;dbl&gt; | Winogradskyella &lt;dbl&gt; | Zunongwangia &lt;dbl&gt; | Flavobacteriaceae_bacterium &lt;dbl&gt; | Zobellia &lt;dbl&gt; |\n",
       "|---|---|---|---|---|---|---|---|---|---|---|---|---|---|---|---|---|---|---|---|---|\n",
       "| BFH10_S128 | BFH10 | 28_11_19 | West Africa | Burkina Faso | Burkina Faso | BF HWW F   | BF HWW F   | B | NO | ... | 0.001521770 | 0.000468235 | 0.000351177 | 0.000936471 | 0.000351177 | 0.01322770 | 0.00292647 | 0.001638820 | 0.000468235 | 5.85294e-04 |\n",
       "| BFH33_S151 | BFH33 | 12_12_19 | West Africa | Burkina Faso | Burkina Faso | BF HWW I   | BF HWW I   | B | NO | ... | 0.001062890 | 0.015412000 | 0.002657240 | 0.001129330 | 0.013551900 | 0.00265724 | 0.00385299 | 0.000930033 | 0.001262190 | 9.96464e-04 |\n",
       "| BH02_S77   | BH02  | 27_11_19 | West Africa | Benin        | Benin        | BENN HWW A | BENN HWW A | A | NO | ... | 0.000000000 | 0.070809700 | 0.029673500 | 0.000277323 | 0.000277323 | 0.00434472 | 0.00138661 | 0.000277323 | 0.000000000 | 9.24408e-05 |\n",
       "| BH03_S78   | BH03  | 27_11_19 | West Africa | Benin        | Benin        | BENN HWW A | BENN HWW A | A | NO | ... | 0.001364420 | 0.005247770 | 0.000734688 | 0.000104955 | 0.000524777 | 0.00503786 | 0.00419822 | 0.000314866 | 0.000314866 | 3.14866e-04 |\n",
       "| FH1_S162   | FH1   | 20_01_20 | Europe      | Finland      | Finland      | FI HWW J   | FI HWW J   | C | NO | ... | 0.000284430 | 0.007964050 | 0.002133230 | 0.001919910 | 0.012728300 | 0.00376870 | 0.00604415 | 0.000568861 | 0.001137720 | 4.26646e-04 |\n",
       "| FH2_S163   | FH2   | 20_01_20 | Europe      | Finland      | Finland      | FI HWW K   | FI HWW K   | C | NO | ... | 0.000161086 | 0.002496840 | 0.003543900 | 0.002335750 | 0.008940290 | 0.00837648 | 0.00781268 | 0.001288690 | 0.000966517 | 8.85974e-04 |\n",
       "\n",
       "\n",
       "$Kingdom\n",
       ":   \n",
       "A tibble: 6 x 29\n",
       "\n",
       "| SampleID &lt;chr&gt; | alias &lt;chr&gt; | date &lt;chr&gt; | continent &lt;chr&gt; | country &lt;chr&gt; | country2 &lt;chr&gt; | country3 &lt;chr&gt; | name &lt;chr&gt; | hospital &lt;chr&gt; | replicate &lt;chr&gt; | ... ... | DNA_ng_.l &lt;dbl&gt; | A260_280 &lt;dbl&gt; | M_Seqs_trimmed &lt;dbl&gt; | plot_name &lt;chr&gt; | Taxonomic_Level &lt;int&gt; | Taxonomic_Label &lt;chr&gt; | Archaea &lt;dbl&gt; | Bacteria &lt;dbl&gt; | Eukaryota &lt;dbl&gt; | Viruses &lt;dbl&gt; |\n",
       "|---|---|---|---|---|---|---|---|---|---|---|---|---|---|---|---|---|---|---|---|---|\n",
       "| BFH10_S128 | BFH10 | 28_11_19 | West Africa | Burkina Faso | Burkina Faso | BF HWW F   | BF HWW F   | B | NO | ... | 119.477 | 1.869 | 32.0 | hospital effluent | 1 | Kingdom | 2.5398300 | 96.6534 | 0.753040 | 0.0537300 |\n",
       "| BFH33_S151 | BFH33 | 12_12_19 | West Africa | Burkina Faso | Burkina Faso | BF HWW I   | BF HWW I   | B | NO | ... |  72.642 | 1.857 | 33.7 | hospital effluent | 1 | Kingdom | 0.4268190 | 98.4433 | 0.803216 | 0.3266410 |\n",
       "| BH02_S77   | BH02  | 27_11_19 | West Africa | Benin        | Benin        | BENN HWW A | BENN HWW A | A | NO | ... |  44.115 | 1.863 | 30.8 | hospital effluent | 1 | Kingdom | 0.1339470 | 98.8584 | 0.540871 | 0.4668260 |\n",
       "| BH03_S78   | BH03  | 27_11_19 | West Africa | Benin        | Benin        | BENN HWW A | BENN HWW A | A | NO | ... |  98.572 | 1.844 | 31.6 | hospital effluent | 1 | Kingdom | 0.3163360 | 98.5221 | 0.860740 | 0.3008020 |\n",
       "| FH1_S162   | FH1   | 20_01_20 | Europe      | Finland      | Finland      | FI HWW J   | FI HWW J   | C | NO | ... |  49.300 | 1.870 | 21.2 | hospital effluent | 1 | Kingdom | 0.0479976 | 96.4236 | 3.098160 | 0.4302720 |\n",
       "| FH2_S163   | FH2   | 20_01_20 | Europe      | Finland      | Finland      | FI HWW K   | FI HWW K   | C | NO | ... |  70.400 | 1.880 | 37.9 | hospital effluent | 1 | Kingdom | 0.1228280 | 97.2917 | 2.549590 | 0.0358417 |\n",
       "\n",
       "\n",
       "$Order\n",
       ":   \n",
       "A tibble: 6 x 523\n",
       "\n",
       "| SampleID &lt;chr&gt; | alias &lt;chr&gt; | date &lt;chr&gt; | continent &lt;chr&gt; | country &lt;chr&gt; | country2 &lt;chr&gt; | country3 &lt;chr&gt; | name &lt;chr&gt; | hospital &lt;chr&gt; | replicate &lt;chr&gt; | ... ... | Nautiliales &lt;dbl&gt; | Candidatus_Thioglobus &lt;dbl&gt; | Candidatus_Ruthia &lt;dbl&gt; | Immundisolibacterales &lt;dbl&gt; | Legionellales &lt;dbl&gt; | Pseudohongiella &lt;dbl&gt; | Gallaecimonas &lt;dbl&gt; | Thiohalobacter &lt;dbl&gt; | Sedimenticola &lt;dbl&gt; | Thiolapillus &lt;dbl&gt; |\n",
       "|---|---|---|---|---|---|---|---|---|---|---|---|---|---|---|---|---|---|---|---|---|\n",
       "| BFH10_S128 | BFH10 | 28_11_19 | West Africa | Burkina Faso | Burkina Faso | BF HWW F   | BF HWW F   | B | NO | ... | 0.001521770 | 0.001872940 | 0.000819412 | 0.01322770 | 0.01053530 | 0.000234118 | 0.001990000 | 0.00913059 | 0.00304353 | 0.004448240 |\n",
       "| BFH33_S151 | BFH33 | 12_12_19 | West Africa | Burkina Faso | Burkina Faso | BF HWW I   | BF HWW I   | B | NO | ... | 0.001062890 | 0.001195760 | 0.000730740 | 0.00265724 | 0.00843673 | 0.001328620 | 0.002059360 | 0.00345441 | 0.00239151 | 0.001129330 |\n",
       "| BH02_S77   | BH02  | 27_11_19 | West Africa | Benin        | Benin        | BENN HWW A | BENN HWW A | A | NO | ... | 0.000000000 | 0.000647086 | 0.000000000 | 0.00434472 | 0.04797680 | 0.005546450 | 0.009891170 | 0.00406740 | 0.01580740 | 0.002865670 |\n",
       "| BH03_S78   | BH03  | 27_11_19 | West Africa | Benin        | Benin        | BENN HWW A | BENN HWW A | A | NO | ... | 0.001364420 | 0.000209911 | 0.000000000 | 0.00503786 | 0.00808157 | 0.001364420 | 0.000839644 | 0.00703202 | 0.00587751 | 0.004827950 |\n",
       "| FH1_S162   | FH1   | 20_01_20 | Europe      | Finland      | Finland      | FI HWW J   | FI HWW J   | C | NO | ... | 0.000284430 | 0.000213323 | 0.000213323 | 0.00376870 | 0.00533307 | 0.000426646 | 0.000711076 | 0.00206212 | 0.00113772 | 0.000924399 |\n",
       "| FH2_S163   | FH2   | 20_01_20 | Europe      | Finland      | Finland      | FI HWW K   | FI HWW K   | C | NO | ... | 0.000161086 | 0.000483259 | 0.001449780 | 0.00837648 | 0.00732942 | 0.001127600 | 0.002174660 | 0.00402716 | 0.00177195 | 0.000885974 |\n",
       "\n",
       "\n",
       "$Phylum\n",
       ":   \n",
       "A tibble: 6 x 96\n",
       "\n",
       "| SampleID &lt;chr&gt; | alias &lt;chr&gt; | date &lt;chr&gt; | continent &lt;chr&gt; | country &lt;chr&gt; | country2 &lt;chr&gt; | country3 &lt;chr&gt; | name &lt;chr&gt; | hospital &lt;chr&gt; | replicate &lt;chr&gt; | ... ... | Tectiviridae &lt;dbl&gt; | Beihai_rhabdo-like_virus_2 &lt;dbl&gt; | Hubei_picorna-like_virus_45 &lt;dbl&gt; | Hubei_sobemo-like_virus_38 &lt;dbl&gt; | Pandoravirus &lt;dbl&gt; | Pseudomonas_phage_vB_PaeP_Tr60_Ab31 &lt;dbl&gt; | Wenling_nido-like_virus_1 &lt;dbl&gt; | uncultured_crAssphage &lt;dbl&gt; | Bunyavirales &lt;dbl&gt; | Caudovirales &lt;dbl&gt; |\n",
       "|---|---|---|---|---|---|---|---|---|---|---|---|---|---|---|---|---|---|---|---|---|\n",
       "| BFH10_S128 | BFH10 | 28_11_19 | West Africa | Burkina Faso | Burkina Faso | BF HWW F   | BF HWW F   | B | NO | ... | 0.00000e+00 | 0.00000e+00 | 0.000117059 | 0.00000e+00 | 8.19412e-04 | 0.00000e+00 | 0.000000000 | 0.00971589 | 0.00000e+00 | 0.0420241 |\n",
       "| BFH33_S151 | BFH33 | 12_12_19 | West Africa | Burkina Faso | Burkina Faso | BF HWW I   | BF HWW I   | B | NO | ... | 6.64309e-05 | 6.64309e-05 | 0.000000000 | 6.64309e-05 | 0.00000e+00 | 0.00000e+00 | 0.000000000 | 0.00717454 | 3.32155e-04 | 0.3184030 |\n",
       "| BH02_S77   | BH02  | 27_11_19 | West Africa | Benin        | Benin        | BENN HWW A | BENN HWW A | A | NO | ... | 0.00000e+00 | 0.00000e+00 | 0.000000000 | 0.00000e+00 | 9.24408e-05 | 0.00000e+00 | 0.000000000 | 0.00000000 | 0.00000e+00 | 0.4659020 |\n",
       "| BH03_S78   | BH03  | 27_11_19 | West Africa | Benin        | Benin        | BENN HWW A | BENN HWW A | A | NO | ... | 4.19822e-04 | 0.00000e+00 | 0.000000000 | 0.00000e+00 | 1.04955e-04 | 0.00000e+00 | 0.000209911 | 0.19091400 | 0.00000e+00 | 0.1085240 |\n",
       "| FH1_S162   | FH1   | 20_01_20 | Europe      | Finland      | Finland      | FI HWW J   | FI HWW J   | C | NO | ... | 0.00000e+00 | 0.00000e+00 | 0.000000000 | 0.00000e+00 | 0.00000e+00 | 7.11076e-05 | 0.000000000 | 0.13467800 | 7.11076e-05 | 0.2921810 |\n",
       "| FH2_S163   | FH2   | 20_01_20 | Europe      | Finland      | Finland      | FI HWW K   | FI HWW K   | C | NO | ... | 8.05431e-05 | 0.00000e+00 | 0.000000000 | 0.00000e+00 | 0.00000e+00 | 0.00000e+00 | 0.000000000 | 0.01111500 | 4.02716e-04 | 0.0222299 |\n",
       "\n",
       "\n",
       "\n",
       "\n"
      ],
      "text/plain": [
       "$Class\n",
       "\u001b[90m# A tibble: 6 x 180\u001b[39m\n",
       "  SampleID   alias date     continent   country country2 country3 name  hospital\n",
       "  \u001b[3m\u001b[90m<chr>\u001b[39m\u001b[23m      \u001b[3m\u001b[90m<chr>\u001b[39m\u001b[23m \u001b[3m\u001b[90m<chr>\u001b[39m\u001b[23m    \u001b[3m\u001b[90m<chr>\u001b[39m\u001b[23m       \u001b[3m\u001b[90m<chr>\u001b[39m\u001b[23m   \u001b[3m\u001b[90m<chr>\u001b[39m\u001b[23m    \u001b[3m\u001b[90m<chr>\u001b[39m\u001b[23m    \u001b[3m\u001b[90m<chr>\u001b[39m\u001b[23m \u001b[3m\u001b[90m<chr>\u001b[39m\u001b[23m   \n",
       "\u001b[90m1\u001b[39m BFH10_S128 BFH10 28_11_19 West Africa Burkin~ Burkina~ BF HWW F BF H~ B       \n",
       "\u001b[90m2\u001b[39m BFH33_S151 BFH33 12_12_19 West Africa Burkin~ Burkina~ BF HWW I BF H~ B       \n",
       "\u001b[90m3\u001b[39m BH02_S77   BH02  27_11_19 West Africa Benin   Benin    BENN HW~ BENN~ A       \n",
       "\u001b[90m4\u001b[39m BH03_S78   BH03  27_11_19 West Africa Benin   Benin    BENN HW~ BENN~ A       \n",
       "\u001b[90m5\u001b[39m FH1_S162   FH1   20_01_20 Europe      Finland Finland  FI HWW J FI H~ C       \n",
       "\u001b[90m6\u001b[39m FH2_S163   FH2   20_01_20 Europe      Finland Finland  FI HWW K FI H~ C       \n",
       "\u001b[90m# i 171 more variables: replicate <chr>, HWW <chr>, most_used_ab. <chr>,\u001b[39m\n",
       "\u001b[90m#   description <chr>, hospital_section <chr>, hospital_description <chr>,\u001b[39m\n",
       "\u001b[90m#   no_of_beds <chr>, lat <dbl>, long <dbl>, sample_material <chr>,\u001b[39m\n",
       "\u001b[90m#   DNA_ng_.l <dbl>, A260_280 <dbl>, M_Seqs_trimmed <dbl>, plot_name <chr>,\u001b[39m\n",
       "\u001b[90m#   Taxonomic_Level <int>, Taxonomic_Label <chr>, Candidatus_Korarchaeum <dbl>,\u001b[39m\n",
       "\u001b[90m#   Candidatus_Micrarchaeota_archaeon_Mia14 <dbl>, Thermoprotei <dbl>,\u001b[39m\n",
       "\u001b[90m#   Saprospiria <dbl>, Sphingobacteriia <dbl>, ...\u001b[39m\n",
       "\n",
       "$Family\n",
       "\u001b[90m# A tibble: 6 x 787\u001b[39m\n",
       "  SampleID   alias date     continent   country country2 country3 name  hospital\n",
       "  \u001b[3m\u001b[90m<chr>\u001b[39m\u001b[23m      \u001b[3m\u001b[90m<chr>\u001b[39m\u001b[23m \u001b[3m\u001b[90m<chr>\u001b[39m\u001b[23m    \u001b[3m\u001b[90m<chr>\u001b[39m\u001b[23m       \u001b[3m\u001b[90m<chr>\u001b[39m\u001b[23m   \u001b[3m\u001b[90m<chr>\u001b[39m\u001b[23m    \u001b[3m\u001b[90m<chr>\u001b[39m\u001b[23m    \u001b[3m\u001b[90m<chr>\u001b[39m\u001b[23m \u001b[3m\u001b[90m<chr>\u001b[39m\u001b[23m   \n",
       "\u001b[90m1\u001b[39m BFH10_S128 BFH10 28_11_19 West Africa Burkin~ Burkina~ BF HWW F BF H~ B       \n",
       "\u001b[90m2\u001b[39m BFH33_S151 BFH33 12_12_19 West Africa Burkin~ Burkina~ BF HWW I BF H~ B       \n",
       "\u001b[90m3\u001b[39m BH02_S77   BH02  27_11_19 West Africa Benin   Benin    BENN HW~ BENN~ A       \n",
       "\u001b[90m4\u001b[39m BH03_S78   BH03  27_11_19 West Africa Benin   Benin    BENN HW~ BENN~ A       \n",
       "\u001b[90m5\u001b[39m FH1_S162   FH1   20_01_20 Europe      Finland Finland  FI HWW J FI H~ C       \n",
       "\u001b[90m6\u001b[39m FH2_S163   FH2   20_01_20 Europe      Finland Finland  FI HWW K FI H~ C       \n",
       "\u001b[90m# i 778 more variables: replicate <chr>, HWW <chr>, most_used_ab. <chr>,\u001b[39m\n",
       "\u001b[90m#   description <chr>, hospital_section <chr>, hospital_description <chr>,\u001b[39m\n",
       "\u001b[90m#   no_of_beds <chr>, lat <dbl>, long <dbl>, sample_material <chr>,\u001b[39m\n",
       "\u001b[90m#   DNA_ng_.l <dbl>, A260_280 <dbl>, M_Seqs_trimmed <dbl>, plot_name <chr>,\u001b[39m\n",
       "\u001b[90m#   Taxonomic_Level <int>, Taxonomic_Label <chr>, Mycobacteriaceae <dbl>,\u001b[39m\n",
       "\u001b[90m#   Ichthyobacteriaceae <dbl>, Candidatus_Sulcia <dbl>,\u001b[39m\n",
       "\u001b[90m#   Candidatus_Walczuchella <dbl>, Acidilobaceae <dbl>, ...\u001b[39m\n",
       "\n",
       "$Genus\n",
       "\u001b[90m# A tibble: 6 x 1,316\u001b[39m\n",
       "  SampleID   alias date     continent   country country2 country3 name  hospital\n",
       "  \u001b[3m\u001b[90m<chr>\u001b[39m\u001b[23m      \u001b[3m\u001b[90m<chr>\u001b[39m\u001b[23m \u001b[3m\u001b[90m<chr>\u001b[39m\u001b[23m    \u001b[3m\u001b[90m<chr>\u001b[39m\u001b[23m       \u001b[3m\u001b[90m<chr>\u001b[39m\u001b[23m   \u001b[3m\u001b[90m<chr>\u001b[39m\u001b[23m    \u001b[3m\u001b[90m<chr>\u001b[39m\u001b[23m    \u001b[3m\u001b[90m<chr>\u001b[39m\u001b[23m \u001b[3m\u001b[90m<chr>\u001b[39m\u001b[23m   \n",
       "\u001b[90m1\u001b[39m BFH10_S128 BFH10 28_11_19 West Africa Burkin~ Burkina~ BF HWW F BF H~ B       \n",
       "\u001b[90m2\u001b[39m BFH33_S151 BFH33 12_12_19 West Africa Burkin~ Burkina~ BF HWW I BF H~ B       \n",
       "\u001b[90m3\u001b[39m BH02_S77   BH02  27_11_19 West Africa Benin   Benin    BENN HW~ BENN~ A       \n",
       "\u001b[90m4\u001b[39m BH03_S78   BH03  27_11_19 West Africa Benin   Benin    BENN HW~ BENN~ A       \n",
       "\u001b[90m5\u001b[39m FH1_S162   FH1   20_01_20 Europe      Finland Finland  FI HWW J FI H~ C       \n",
       "\u001b[90m6\u001b[39m FH2_S163   FH2   20_01_20 Europe      Finland Finland  FI HWW K FI H~ C       \n",
       "\u001b[90m# i 1,307 more variables: replicate <chr>, HWW <chr>, most_used_ab. <chr>,\u001b[39m\n",
       "\u001b[90m#   description <chr>, hospital_section <chr>, hospital_description <chr>,\u001b[39m\n",
       "\u001b[90m#   no_of_beds <chr>, lat <dbl>, long <dbl>, sample_material <chr>,\u001b[39m\n",
       "\u001b[90m#   DNA_ng_.l <dbl>, A260_280 <dbl>, M_Seqs_trimmed <dbl>, plot_name <chr>,\u001b[39m\n",
       "\u001b[90m#   Taxonomic_Level <int>, Taxonomic_Label <chr>,\u001b[39m\n",
       "\u001b[90m#   Flavobacteriaceae_bacterium_MAR_2010_188 <dbl>, Legionella <dbl>,\u001b[39m\n",
       "\u001b[90m#   Flavobacteriaceae_bacterium_UJ101 <dbl>, Rhizobium <dbl>, ...\u001b[39m\n",
       "\n",
       "$Kingdom\n",
       "\u001b[90m# A tibble: 6 x 29\u001b[39m\n",
       "  SampleID   alias date     continent   country country2 country3 name  hospital\n",
       "  \u001b[3m\u001b[90m<chr>\u001b[39m\u001b[23m      \u001b[3m\u001b[90m<chr>\u001b[39m\u001b[23m \u001b[3m\u001b[90m<chr>\u001b[39m\u001b[23m    \u001b[3m\u001b[90m<chr>\u001b[39m\u001b[23m       \u001b[3m\u001b[90m<chr>\u001b[39m\u001b[23m   \u001b[3m\u001b[90m<chr>\u001b[39m\u001b[23m    \u001b[3m\u001b[90m<chr>\u001b[39m\u001b[23m    \u001b[3m\u001b[90m<chr>\u001b[39m\u001b[23m \u001b[3m\u001b[90m<chr>\u001b[39m\u001b[23m   \n",
       "\u001b[90m1\u001b[39m BFH10_S128 BFH10 28_11_19 West Africa Burkin~ Burkina~ BF HWW F BF H~ B       \n",
       "\u001b[90m2\u001b[39m BFH33_S151 BFH33 12_12_19 West Africa Burkin~ Burkina~ BF HWW I BF H~ B       \n",
       "\u001b[90m3\u001b[39m BH02_S77   BH02  27_11_19 West Africa Benin   Benin    BENN HW~ BENN~ A       \n",
       "\u001b[90m4\u001b[39m BH03_S78   BH03  27_11_19 West Africa Benin   Benin    BENN HW~ BENN~ A       \n",
       "\u001b[90m5\u001b[39m FH1_S162   FH1   20_01_20 Europe      Finland Finland  FI HWW J FI H~ C       \n",
       "\u001b[90m6\u001b[39m FH2_S163   FH2   20_01_20 Europe      Finland Finland  FI HWW K FI H~ C       \n",
       "\u001b[90m# i 20 more variables: replicate <chr>, HWW <chr>, most_used_ab. <chr>,\u001b[39m\n",
       "\u001b[90m#   description <chr>, hospital_section <chr>, hospital_description <chr>,\u001b[39m\n",
       "\u001b[90m#   no_of_beds <chr>, lat <dbl>, long <dbl>, sample_material <chr>,\u001b[39m\n",
       "\u001b[90m#   DNA_ng_.l <dbl>, A260_280 <dbl>, M_Seqs_trimmed <dbl>, plot_name <chr>,\u001b[39m\n",
       "\u001b[90m#   Taxonomic_Level <int>, Taxonomic_Label <chr>, Archaea <dbl>,\u001b[39m\n",
       "\u001b[90m#   Bacteria <dbl>, Eukaryota <dbl>, Viruses <dbl>\u001b[39m\n",
       "\n",
       "$Order\n",
       "\u001b[90m# A tibble: 6 x 523\u001b[39m\n",
       "  SampleID   alias date     continent   country country2 country3 name  hospital\n",
       "  \u001b[3m\u001b[90m<chr>\u001b[39m\u001b[23m      \u001b[3m\u001b[90m<chr>\u001b[39m\u001b[23m \u001b[3m\u001b[90m<chr>\u001b[39m\u001b[23m    \u001b[3m\u001b[90m<chr>\u001b[39m\u001b[23m       \u001b[3m\u001b[90m<chr>\u001b[39m\u001b[23m   \u001b[3m\u001b[90m<chr>\u001b[39m\u001b[23m    \u001b[3m\u001b[90m<chr>\u001b[39m\u001b[23m    \u001b[3m\u001b[90m<chr>\u001b[39m\u001b[23m \u001b[3m\u001b[90m<chr>\u001b[39m\u001b[23m   \n",
       "\u001b[90m1\u001b[39m BFH10_S128 BFH10 28_11_19 West Africa Burkin~ Burkina~ BF HWW F BF H~ B       \n",
       "\u001b[90m2\u001b[39m BFH33_S151 BFH33 12_12_19 West Africa Burkin~ Burkina~ BF HWW I BF H~ B       \n",
       "\u001b[90m3\u001b[39m BH02_S77   BH02  27_11_19 West Africa Benin   Benin    BENN HW~ BENN~ A       \n",
       "\u001b[90m4\u001b[39m BH03_S78   BH03  27_11_19 West Africa Benin   Benin    BENN HW~ BENN~ A       \n",
       "\u001b[90m5\u001b[39m FH1_S162   FH1   20_01_20 Europe      Finland Finland  FI HWW J FI H~ C       \n",
       "\u001b[90m6\u001b[39m FH2_S163   FH2   20_01_20 Europe      Finland Finland  FI HWW K FI H~ C       \n",
       "\u001b[90m# i 514 more variables: replicate <chr>, HWW <chr>, most_used_ab. <chr>,\u001b[39m\n",
       "\u001b[90m#   description <chr>, hospital_section <chr>, hospital_description <chr>,\u001b[39m\n",
       "\u001b[90m#   no_of_beds <chr>, lat <dbl>, long <dbl>, sample_material <chr>,\u001b[39m\n",
       "\u001b[90m#   DNA_ng_.l <dbl>, A260_280 <dbl>, M_Seqs_trimmed <dbl>, plot_name <chr>,\u001b[39m\n",
       "\u001b[90m#   Taxonomic_Level <int>, Taxonomic_Label <chr>,\u001b[39m\n",
       "\u001b[90m#   Candidatus_Korarchaeum_cryptofilum <dbl>, Acidilobales <dbl>,\u001b[39m\n",
       "\u001b[90m#   Saprospirales <dbl>, Desulfurococcales <dbl>, Methylococcales <dbl>, ...\u001b[39m\n",
       "\n",
       "$Phylum\n",
       "\u001b[90m# A tibble: 6 x 96\u001b[39m\n",
       "  SampleID   alias date     continent   country country2 country3 name  hospital\n",
       "  \u001b[3m\u001b[90m<chr>\u001b[39m\u001b[23m      \u001b[3m\u001b[90m<chr>\u001b[39m\u001b[23m \u001b[3m\u001b[90m<chr>\u001b[39m\u001b[23m    \u001b[3m\u001b[90m<chr>\u001b[39m\u001b[23m       \u001b[3m\u001b[90m<chr>\u001b[39m\u001b[23m   \u001b[3m\u001b[90m<chr>\u001b[39m\u001b[23m    \u001b[3m\u001b[90m<chr>\u001b[39m\u001b[23m    \u001b[3m\u001b[90m<chr>\u001b[39m\u001b[23m \u001b[3m\u001b[90m<chr>\u001b[39m\u001b[23m   \n",
       "\u001b[90m1\u001b[39m BFH10_S128 BFH10 28_11_19 West Africa Burkin~ Burkina~ BF HWW F BF H~ B       \n",
       "\u001b[90m2\u001b[39m BFH33_S151 BFH33 12_12_19 West Africa Burkin~ Burkina~ BF HWW I BF H~ B       \n",
       "\u001b[90m3\u001b[39m BH02_S77   BH02  27_11_19 West Africa Benin   Benin    BENN HW~ BENN~ A       \n",
       "\u001b[90m4\u001b[39m BH03_S78   BH03  27_11_19 West Africa Benin   Benin    BENN HW~ BENN~ A       \n",
       "\u001b[90m5\u001b[39m FH1_S162   FH1   20_01_20 Europe      Finland Finland  FI HWW J FI H~ C       \n",
       "\u001b[90m6\u001b[39m FH2_S163   FH2   20_01_20 Europe      Finland Finland  FI HWW K FI H~ C       \n",
       "\u001b[90m# i 87 more variables: replicate <chr>, HWW <chr>, most_used_ab. <chr>,\u001b[39m\n",
       "\u001b[90m#   description <chr>, hospital_section <chr>, hospital_description <chr>,\u001b[39m\n",
       "\u001b[90m#   no_of_beds <chr>, lat <dbl>, long <dbl>, sample_material <chr>,\u001b[39m\n",
       "\u001b[90m#   DNA_ng_.l <dbl>, A260_280 <dbl>, M_Seqs_trimmed <dbl>, plot_name <chr>,\u001b[39m\n",
       "\u001b[90m#   Taxonomic_Level <int>, Taxonomic_Label <chr>,\u001b[39m\n",
       "\u001b[90m#   Candidatus_Korarchaeota <dbl>, Candidatus_Micrarchaeota <dbl>,\u001b[39m\n",
       "\u001b[90m#   Crenarchaeota <dbl>, Caldiserica <dbl>, Euryarchaeota <dbl>, ...\u001b[39m\n"
      ]
     },
     "metadata": {},
     "output_type": "display_data"
    }
   ],
   "source": [
    "# Add taxonomic information (level and label)\n",
    "metaphlan_with_metadata$Taxonomic_Level <- sapply(strsplit(as.character(metaphlan_with_metadata$ID), \"\\\\|\"), length)\n",
    "metaphlan_with_metadata$Taxonomic_Label <- sapply(metaphlan_with_metadata$ID, function(x) {\n",
    "  labels <- c(\"Kingdom\", \"Phylum\", \"Class\", \"Order\", \"Family\", \"Genus\", \"Species\")\n",
    "  level <- length(strsplit(x, \"\\\\|\")[[1]])\n",
    "  if (level <= 7) labels[level] else \"Other\"\n",
    "})\n",
    "\n",
    "# Extract descriptive ID and remove \"Other\" labels\n",
    "metaphlan_with_metadata$ID <- sapply(metaphlan_with_metadata$ID, function(x) sub(\".*__\", \"\", tail(strsplit(x, \"\\\\|\")[[1]], 1)))\n",
    "metaphlan_with_metadata <- metaphlan_with_metadata[metaphlan_with_metadata$Taxonomic_Label != \"Other\", ]\n",
    "\n",
    "# Split data by taxonomic label and reshape into wide format\n",
    "wide_data <- metaphlan_with_metadata %>%\n",
    "  split(.$Taxonomic_Label) %>%\n",
    "  purrr::map(~ pivot_wider(.x, names_from = ID, values_from = RelativeAbundance))\n",
    "  \n",
    "\n",
    "wide_genus_data <- wide_data$Genus\n",
    "wide_species_data <- wide_data$Species\n",
    "wide_phylum_data <- wide_data$Phylum\n",
    "\n",
    "# View the reshaped wide data\n",
    "head(wide_data)\n"
   ]
  },
  {
   "cell_type": "markdown",
   "metadata": {},
   "source": [
    "#### Principal Component Analysis (PCA) on Genus Data\n",
    "In this section, we will perform Principal Component Analysis (PCA) on the wide genus data and visualize the results. PCA is a technique used to reduce the dimensionality of data while retaining as much variability as possible. This will allow us to identify patterns in the data based on the first two principal components."
   ]
  },
  {
   "cell_type": "markdown",
   "metadata": {},
   "source": [
    "`select(c(18: ncol(wide_genus_data)))`: This selects columns starting from the 18th column to the last column in the wide_genus_data dataset. These columns represent the numerical data (i.e., the relative abundances of different genera)."
   ]
  },
  {
   "cell_type": "code",
   "execution_count": null,
   "metadata": {
    "vscode": {
     "languageId": "r"
    }
   },
   "outputs": [],
   "source": [
    "numerical <- wide_genus_data%>% select(c(18: ncol(wide_genus_data)))"
   ]
  },
  {
   "cell_type": "markdown",
   "metadata": {},
   "source": [
    "The `clr()` function is applied to the numerical data. CLR transformation converts the relative abundances into log-transformed values, accounting for compositional data and improving the performance of PCA."
   ]
  },
  {
   "cell_type": "code",
   "execution_count": null,
   "metadata": {
    "vscode": {
     "languageId": "r"
    }
   },
   "outputs": [],
   "source": [
    "numerical <- clr(numerical)"
   ]
  },
  {
   "cell_type": "markdown",
   "metadata": {},
   "source": [
    "We perform PCA using the `rda()` function from the vegan package. The result will be a set of principal components that explain the variance in the genus data."
   ]
  },
  {
   "cell_type": "code",
   "execution_count": null,
   "metadata": {
    "vscode": {
     "languageId": "r"
    }
   },
   "outputs": [],
   "source": [
    "pca_result <- rda(numerical)"
   ]
  },
  {
   "cell_type": "markdown",
   "metadata": {},
   "source": [
    "Once the PCA has been computed, we extract the PCA scores for the samples (also known as sites). These scores represent the projections of each sample along the principal components."
   ]
  },
  {
   "cell_type": "code",
   "execution_count": null,
   "metadata": {
    "vscode": {
     "languageId": "r"
    }
   },
   "outputs": [],
   "source": [
    "# Extract PCA scores for the samples (sites)\n",
    "pca_scores <- scores(pca_result, display = \"sites\")\n",
    "pca_data <- as.data.frame(pca_scores)"
   ]
  },
  {
   "cell_type": "markdown",
   "metadata": {},
   "source": [
    "##### Add Metadata to PCA Data\n",
    "We now add additional metadata, such as the hospital and SampleID, to the PCA scores data frame. This will allow us to visualize how these variables relate to the PCA results."
   ]
  },
  {
   "cell_type": "code",
   "execution_count": null,
   "metadata": {
    "vscode": {
     "languageId": "r"
    }
   },
   "outputs": [],
   "source": [
    "pca_data$hospital <- wide_genus_data$hospital\n",
    "pca_data$SampleID <- wide_genus_data$SampleID"
   ]
  },
  {
   "cell_type": "markdown",
   "metadata": {},
   "source": [
    "##### Visualize PCA Results\n",
    "\n",
    "Finally, we visualize the PCA results using ggplot2. We plot the first two principal components (PC1 and PC2) and color the points by the hospital variable. We also add labels for each sample using SampleID."
   ]
  },
  {
   "cell_type": "code",
   "execution_count": null,
   "metadata": {
    "vscode": {
     "languageId": "r"
    }
   },
   "outputs": [
    {
     "data": {
      "image/png": "[encoded data removed]",
      "text/plain": [
       "plot without title"
      ]
     },
     "metadata": {},
     "output_type": "display_data"
    }
   ],
   "source": [
    "p <- ggplot(pca_data, aes(x = PC1, y = PC2, label = SampleID, group = hospital)) +\n",
    "  geom_point(aes(color = hospital), size = 4, alpha = 0.8) + \n",
    "  geom_text(size = 4) +  \n",
    "  coord_fixed(ratio = 1) +  # Ensures equal scaling for x and y axes\n",
    "  theme(text = element_text(family = \"Palatino\"),\n",
    "        legend.title = element_blank(),\n",
    "        legend.text = element_text(size = 16),\n",
    "        legend.key.size = unit(1, 'cm'),\n",
    "        legend.position = \"bottom\",\n",
    "        legend.background = element_rect(color = \"#ffffff\"),\n",
    "        legend.direction = \"horizontal\",\n",
    "        axis.text.x = element_text(size = 26, angle = 0, hjust = 0.5),\n",
    "        axis.text.y = element_text(size = 26),\n",
    "        axis.title.x = element_text(size = 26),                       \n",
    "        axis.title.y = element_text(size = 26),  \n",
    "        plot.margin = unit(c(0.5, 0.5, 0.5, 0.5), \"cm\")) +\n",
    "  scale_x_continuous(expand = expansion(mult = c(0.1, 0.1))) +  # Adds 10% padding\n",
    "  scale_y_continuous(expand = expansion(mult = c(0.1, 0.1)))    # Adds 10% padding\n",
    "\n",
    "print(p)"
   ]
  },
  {
   "cell_type": "markdown",
   "metadata": {},
   "source": [
    "## ARG"
   ]
  },
  {
   "cell_type": "markdown",
   "metadata": {},
   "source": [
    "#### Importing All Files from ARG Run\n",
    "\n",
    "Note: The file for the lengths of the Resfinder reference genes is already PROVIDED in the data folder."
   ]
  },
  {
   "cell_type": "code",
   "execution_count": 25,
   "metadata": {
    "vscode": {
     "languageId": "r"
    }
   },
   "outputs": [],
   "source": [
    "# using the same metadata as earlier\n",
    "metaxa_data <- read.delim(\"/home/jovyan/results/metaxa_genus.txt\", header = TRUE)\n",
    "arg_data <- read.delim(\"/home/jovyan/results/ARG_genemat.txt\", header = TRUE)\n",
    "resfinder_lengths<- read.delim(\"/home/jovyan/data/resfinder_lengths.txt\", header = TRUE)"
   ]
  },
  {
   "cell_type": "markdown",
   "metadata": {},
   "source": [
    "We start by converting the Metaxa data from a wide format to a long format."
   ]
  },
  {
   "cell_type": "code",
   "execution_count": 26,
   "metadata": {
    "vscode": {
     "languageId": "r"
    }
   },
   "outputs": [],
   "source": [
    "# Transform Metaxa data to long format\n",
    "long_metaxa <- metaxa_data %>%\n",
    "  pivot_longer(cols = -Taxa, names_to = \"SampleID\", values_to = \"Count\")"
   ]
  },
  {
   "cell_type": "markdown",
   "metadata": {},
   "source": [
    "##### Merge Metaxa Data with Metadata\n",
    "Once the Metaxa data is in the long format, we can merge it with additional metadata to provide more context for each sample"
   ]
  },
  {
   "cell_type": "code",
   "execution_count": 27,
   "metadata": {
    "vscode": {
     "languageId": "r"
    }
   },
   "outputs": [],
   "source": [
    "combined_metaxa <- merge(long_metaxa, metadata, by = \"SampleID\", all.x = TRUE)"
   ]
  },
  {
   "cell_type": "markdown",
   "metadata": {},
   "source": [
    "##### Merge ARG Data with Gene Length Information\n",
    "\n",
    "Next, we transform and merge additional ARG data with gene length information. "
   ]
  },
  {
   "cell_type": "code",
   "execution_count": 28,
   "metadata": {
    "vscode": {
     "languageId": "r"
    }
   },
   "outputs": [],
   "source": [
    "combined_length <- merge (arg_data, resfinder_lengths, by = \"GENE\", all.x = TRUE)"
   ]
  },
  {
   "cell_type": "markdown",
   "metadata": {},
   "source": [
    " Metaxa counts refer to the number of reads associated with various taxa (microbial species or groups) derived from the 16S rRNA gene sequences processed by Metaxa2. \n",
    "\n",
    " By using group_by(SampleID), we are aggregating the counts per sample, so each SampleID will have a total number of 16S rRNA reads across all taxa, which is stored in the new column Metaxa_Counts."
   ]
  },
  {
   "cell_type": "code",
   "execution_count": 29,
   "metadata": {
    "vscode": {
     "languageId": "r"
    }
   },
   "outputs": [],
   "source": [
    "metaxa_counts <- combined_metaxa %>%\n",
    "  group_by(SampleID) %>%\n",
    "  summarize(Metaxa_Counts = sum(Count))"
   ]
  },
  {
   "cell_type": "markdown",
   "metadata": {},
   "source": [
    "Normalization by Metaxa Counts\n",
    "\n",
    "After obtaining the Metaxa counts for each sample, we can use these counts to normalize other data, like ARG data, to account for the varying microbial abundance across samples. \n",
    "\n",
    "Metaxa counts are used to adjust the ARG counts by dividing the ARG values by the Metaxa counts (microbial abundance). For normalization, a factor of 1540 bp was used, representing the average length of the 16S rRNA gene in *Escherichia. coli*.\n"
   ]
  },
  {
   "cell_type": "markdown",
   "metadata": {},
   "source": [
    "The first line assigns the GENE column as the row names of the combined_length dataset. This means that the gene names will now be used as identifiers for each row, rather than being stored as a regular column.\n",
    "\n",
    "The second line removes the GENE column from the data frame since its information is now encoded in the row names."
   ]
  },
  {
   "cell_type": "code",
   "execution_count": 30,
   "metadata": {
    "vscode": {
     "languageId": "r"
    }
   },
   "outputs": [],
   "source": [
    "# Make GENE column into row names\n",
    "rownames(combined_length) <- combined_length$GENE\n",
    "\n",
    "# Remove GENE column\n",
    "combined_length <- combined_length %>% select(-GENE)"
   ]
  },
  {
   "cell_type": "markdown",
   "metadata": {},
   "source": [
    "Divides the counts for each gene by its respective gene length (found in the length column). This is then sorted alphabentically according to the ARG names."
   ]
  },
  {
   "cell_type": "code",
   "execution_count": 31,
   "metadata": {
    "vscode": {
     "languageId": "r"
    }
   },
   "outputs": [],
   "source": [
    "# Normalize reads by gene lengths\n",
    "arg_length_norm <- combined_length[, 1:(ncol(combined_length)-1)]  / combined_length$length\n",
    "\n",
    "# Sort columns alphabetically to match with ssu_counts\n",
    "arg_length_norm <- arg_length_norm[ , order(names(arg_length_norm))]"
   ]
  },
  {
   "cell_type": "markdown",
   "metadata": {},
   "source": [
    "1. The first line transposes (`t()`) the arg_length_norm dataset, so that samples are now represented by rows and genes by columns.\n",
    "\n",
    "2. The sweep() function is used to perform an element-wise operation (in this case, division) across the rows of the transposed arg_length_norm data using the transposed metaxa_counts data. \n",
    "\n",
    "3. Finally, the transposed matrix is multiplied by a scaling factor (1540)."
   ]
  },
  {
   "cell_type": "code",
   "execution_count": 32,
   "metadata": {
    "vscode": {
     "languageId": "r"
    }
   },
   "outputs": [],
   "source": [
    "# Normalize reads by gene lengths\n",
    "arg_length_norm <- combined_length[, 1:(ncol(combined_length)-1)]  / combined_length$length\n",
    "\n",
    "# Sort columns alphabetically to match with ssu_counts\n",
    "arg_length_norm <- arg_length_norm[ , order(names(arg_length_norm))]\n",
    "\n",
    "# Normalization with Metaxa2 SSU counts\n",
    "arg_length_norm_t <- t(arg_length_norm)\n",
    "metaxa_counts <- metaxa_counts %>% select(-SampleID)\n",
    "arg_length_norm_t <- sweep(arg_length_norm_t, 1, t(metaxa_counts), FUN = \"/\")\n",
    "arg_length_metaxa_norm <- t(arg_length_norm_t) * 1540\n",
    "\n",
    "\n",
    "# Replace counts in card_data with normalized values\n",
    "normalized_arg_data <- as.data.frame(arg_length_metaxa_norm) %>%\n",
    "  mutate(GENE = rownames(arg_length_metaxa_norm)) %>%\n",
    "  select(GENE, everything())"
   ]
  },
  {
   "cell_type": "markdown",
   "metadata": {},
   "source": [
    "##### Reshaping data\n",
    "\n",
    "This is needed for merging the normalized ARG data with metadata.\n",
    "\n",
    "Before transformation:\n",
    "| **GENE** | **Sample1** | **Sample2** | **Sample3** |\n",
    "|----------|-------------|-------------|-------------|\n",
    "| GENE1    | 0.12        | 0.34        | 0.22        |\n",
    "| GENE2    | 0.45        | 0.67        | 0.59        |\n",
    "| GENE3    | 0.78        | 0.56        | 0.49        |\n",
    "\n",
    "After transformation:\n",
    "| **GENE** | **SampleID** | **Count** |\n",
    "|----------|--------------|-----------|\n",
    "| GENE1    | Sample1      | 0.12      |\n",
    "| GENE2    | Sample1      | 0.45      |\n",
    "| GENE3    | Sample1      | 0.78      |\n",
    "| GENE1    | Sample2      | 0.34      |\n",
    "| GENE2    | Sample2      | 0.67      |\n",
    "| GENE3    | Sample2      | 0.56      |\n",
    "| GENE1    | Sample3      | 0.22      |\n",
    "| GENE2    | Sample3      | 0.59      |\n",
    "| GENE3    | Sample3      | 0.49      |"
   ]
  },
  {
   "cell_type": "code",
   "execution_count": 35,
   "metadata": {
    "vscode": {
     "languageId": "r"
    }
   },
   "outputs": [],
   "source": [
    "long_arg <- normalized_arg_data %>%\n",
    "  pivot_longer(cols = -GENE, names_to = \"SampleID\", values_to = \"Count\")"
   ]
  },
  {
   "cell_type": "markdown",
   "metadata": {},
   "source": [
    "#### Merging Normalized data with Metadata"
   ]
  },
  {
   "cell_type": "code",
   "execution_count": 39,
   "metadata": {
    "vscode": {
     "languageId": "r"
    }
   },
   "outputs": [],
   "source": [
    "combined_data <- merge(long_arg, metadata, by = \"SampleID\", all.x = TRUE)\n"
   ]
  },
  {
   "cell_type": "markdown",
   "metadata": {},
   "source": [
    "This reshapes the combined_data into a wide format using pivot_wider(). In the resulting dataset:\n",
    "- Each SampleID will have one row.\n",
    "- Each GENE will have its own column.\n",
    "- The Count for each gene in each sample is placed in the corresponding cell."
   ]
  },
  {
   "cell_type": "code",
   "execution_count": 40,
   "metadata": {
    "vscode": {
     "languageId": "r"
    }
   },
   "outputs": [
    {
     "data": {
      "text/html": [
       "<table class=\"dataframe\">\n",
       "<caption>A tibble: 6 x 3221</caption>\n",
       "<thead>\n",
       "\t<tr><th scope=col>SampleID</th><th scope=col>alias</th><th scope=col>date</th><th scope=col>continent</th><th scope=col>country</th><th scope=col>country2</th><th scope=col>country3</th><th scope=col>name</th><th scope=col>hospital</th><th scope=col>replicate</th><th scope=col>...</th><th scope=col>blaTEM-45_1_X95401</th><th scope=col>fosA_2_AGDM01000012</th><th scope=col>fosA7_1_LAPJ01000014</th><th scope=col>blaTEM-36_1_KY305958</th><th scope=col>blaTEM-34_1_KC292503</th><th scope=col>blaTEM-49_1_Y10281</th><th scope=col>blaTEM-47_1_Y10279</th><th scope=col>blaTEM-4_1_LK391770</th><th scope=col>fosA_1_M85195</th><th scope=col>blaTEM-3_1_X64523</th></tr>\n",
       "\t<tr><th scope=col>&lt;chr&gt;</th><th scope=col>&lt;chr&gt;</th><th scope=col>&lt;chr&gt;</th><th scope=col>&lt;chr&gt;</th><th scope=col>&lt;chr&gt;</th><th scope=col>&lt;chr&gt;</th><th scope=col>&lt;chr&gt;</th><th scope=col>&lt;chr&gt;</th><th scope=col>&lt;chr&gt;</th><th scope=col>&lt;chr&gt;</th><th scope=col>...</th><th scope=col>&lt;dbl&gt;</th><th scope=col>&lt;dbl&gt;</th><th scope=col>&lt;dbl&gt;</th><th scope=col>&lt;dbl&gt;</th><th scope=col>&lt;dbl&gt;</th><th scope=col>&lt;dbl&gt;</th><th scope=col>&lt;dbl&gt;</th><th scope=col>&lt;dbl&gt;</th><th scope=col>&lt;dbl&gt;</th><th scope=col>&lt;dbl&gt;</th></tr>\n",
       "</thead>\n",
       "<tbody>\n",
       "\t<tr><td>BFH10_S128</td><td>BFH10</td><td>28_11_19</td><td>West Africa</td><td>Burkina Faso</td><td>Burkina Faso</td><td>BF HWW F  </td><td>BF HWW F  </td><td>B</td><td>NO</td><td>...</td><td>NA</td><td>NA</td><td>NA</td><td>0.0000000000</td><td>NA</td><td>NA</td><td>NA</td><td>0.0000000000</td><td>NA</td><td>NA</td></tr>\n",
       "\t<tr><td>BFH33_S151</td><td>BFH33</td><td>12_12_19</td><td>West Africa</td><td>Burkina Faso</td><td>Burkina Faso</td><td>BF HWW I  </td><td>BF HWW I  </td><td>B</td><td>NO</td><td>...</td><td>NA</td><td>NA</td><td>NA</td><td>0.0000000000</td><td>NA</td><td>NA</td><td>NA</td><td>0.0000000000</td><td>NA</td><td>NA</td></tr>\n",
       "\t<tr><td>BH02_S77  </td><td>BH02 </td><td>27_11_19</td><td>West Africa</td><td>Benin       </td><td>Benin       </td><td>BENN HWW A</td><td>BENN HWW A</td><td>A</td><td>NO</td><td>...</td><td>NA</td><td>NA</td><td>NA</td><td>0.0005152291</td><td>NA</td><td>NA</td><td>NA</td><td>0.0005152291</td><td>NA</td><td>NA</td></tr>\n",
       "\t<tr><td>BH03_S78  </td><td>BH03 </td><td>27_11_19</td><td>West Africa</td><td>Benin       </td><td>Benin       </td><td>BENN HWW A</td><td>BENN HWW A</td><td>A</td><td>NO</td><td>...</td><td>NA</td><td>NA</td><td>NA</td><td>0.0000000000</td><td>NA</td><td>NA</td><td>NA</td><td>0.0000000000</td><td>NA</td><td>NA</td></tr>\n",
       "\t<tr><td>FH1_S162  </td><td>FH1  </td><td>20_01_20</td><td>Europe     </td><td>Finland     </td><td>Finland     </td><td>FI HWW J  </td><td>FI HWW J  </td><td>C</td><td>NO</td><td>...</td><td>NA</td><td>NA</td><td>NA</td><td>0.0012951614</td><td>NA</td><td>NA</td><td>NA</td><td>0.0000000000</td><td>NA</td><td>NA</td></tr>\n",
       "\t<tr><td>FH2_S163  </td><td>FH2  </td><td>20_01_20</td><td>Europe     </td><td>Finland     </td><td>Finland     </td><td>FI HWW K  </td><td>FI HWW K  </td><td>C</td><td>NO</td><td>...</td><td>NA</td><td>NA</td><td>NA</td><td>0.0000000000</td><td>NA</td><td>NA</td><td>NA</td><td>0.0000000000</td><td>NA</td><td>NA</td></tr>\n",
       "</tbody>\n",
       "</table>\n"
      ],
      "text/latex": [
       "A tibble: 6 x 3221\n",
       "\\begin{tabular}{lllllllllllllllllllll}\n",
       " SampleID & alias & date & continent & country & country2 & country3 & name & hospital & replicate & ... & blaTEM-45\\_1\\_X95401 & fosA\\_2\\_AGDM01000012 & fosA7\\_1\\_LAPJ01000014 & blaTEM-36\\_1\\_KY305958 & blaTEM-34\\_1\\_KC292503 & blaTEM-49\\_1\\_Y10281 & blaTEM-47\\_1\\_Y10279 & blaTEM-4\\_1\\_LK391770 & fosA\\_1\\_M85195 & blaTEM-3\\_1\\_X64523\\\\\n",
       " <chr> & <chr> & <chr> & <chr> & <chr> & <chr> & <chr> & <chr> & <chr> & <chr> & ... & <dbl> & <dbl> & <dbl> & <dbl> & <dbl> & <dbl> & <dbl> & <dbl> & <dbl> & <dbl>\\\\\n",
       "\\hline\n",
       "\t BFH10\\_S128 & BFH10 & 28\\_11\\_19 & West Africa & Burkina Faso & Burkina Faso & BF HWW F   & BF HWW F   & B & NO & ... & NA & NA & NA & 0.0000000000 & NA & NA & NA & 0.0000000000 & NA & NA\\\\\n",
       "\t BFH33\\_S151 & BFH33 & 12\\_12\\_19 & West Africa & Burkina Faso & Burkina Faso & BF HWW I   & BF HWW I   & B & NO & ... & NA & NA & NA & 0.0000000000 & NA & NA & NA & 0.0000000000 & NA & NA\\\\\n",
       "\t BH02\\_S77   & BH02  & 27\\_11\\_19 & West Africa & Benin        & Benin        & BENN HWW A & BENN HWW A & A & NO & ... & NA & NA & NA & 0.0005152291 & NA & NA & NA & 0.0005152291 & NA & NA\\\\\n",
       "\t BH03\\_S78   & BH03  & 27\\_11\\_19 & West Africa & Benin        & Benin        & BENN HWW A & BENN HWW A & A & NO & ... & NA & NA & NA & 0.0000000000 & NA & NA & NA & 0.0000000000 & NA & NA\\\\\n",
       "\t FH1\\_S162   & FH1   & 20\\_01\\_20 & Europe      & Finland      & Finland      & FI HWW J   & FI HWW J   & C & NO & ... & NA & NA & NA & 0.0012951614 & NA & NA & NA & 0.0000000000 & NA & NA\\\\\n",
       "\t FH2\\_S163   & FH2   & 20\\_01\\_20 & Europe      & Finland      & Finland      & FI HWW K   & FI HWW K   & C & NO & ... & NA & NA & NA & 0.0000000000 & NA & NA & NA & 0.0000000000 & NA & NA\\\\\n",
       "\\end{tabular}\n"
      ],
      "text/markdown": [
       "\n",
       "A tibble: 6 x 3221\n",
       "\n",
       "| SampleID &lt;chr&gt; | alias &lt;chr&gt; | date &lt;chr&gt; | continent &lt;chr&gt; | country &lt;chr&gt; | country2 &lt;chr&gt; | country3 &lt;chr&gt; | name &lt;chr&gt; | hospital &lt;chr&gt; | replicate &lt;chr&gt; | ... ... | blaTEM-45_1_X95401 &lt;dbl&gt; | fosA_2_AGDM01000012 &lt;dbl&gt; | fosA7_1_LAPJ01000014 &lt;dbl&gt; | blaTEM-36_1_KY305958 &lt;dbl&gt; | blaTEM-34_1_KC292503 &lt;dbl&gt; | blaTEM-49_1_Y10281 &lt;dbl&gt; | blaTEM-47_1_Y10279 &lt;dbl&gt; | blaTEM-4_1_LK391770 &lt;dbl&gt; | fosA_1_M85195 &lt;dbl&gt; | blaTEM-3_1_X64523 &lt;dbl&gt; |\n",
       "|---|---|---|---|---|---|---|---|---|---|---|---|---|---|---|---|---|---|---|---|---|\n",
       "| BFH10_S128 | BFH10 | 28_11_19 | West Africa | Burkina Faso | Burkina Faso | BF HWW F   | BF HWW F   | B | NO | ... | NA | NA | NA | 0.0000000000 | NA | NA | NA | 0.0000000000 | NA | NA |\n",
       "| BFH33_S151 | BFH33 | 12_12_19 | West Africa | Burkina Faso | Burkina Faso | BF HWW I   | BF HWW I   | B | NO | ... | NA | NA | NA | 0.0000000000 | NA | NA | NA | 0.0000000000 | NA | NA |\n",
       "| BH02_S77   | BH02  | 27_11_19 | West Africa | Benin        | Benin        | BENN HWW A | BENN HWW A | A | NO | ... | NA | NA | NA | 0.0005152291 | NA | NA | NA | 0.0005152291 | NA | NA |\n",
       "| BH03_S78   | BH03  | 27_11_19 | West Africa | Benin        | Benin        | BENN HWW A | BENN HWW A | A | NO | ... | NA | NA | NA | 0.0000000000 | NA | NA | NA | 0.0000000000 | NA | NA |\n",
       "| FH1_S162   | FH1   | 20_01_20 | Europe      | Finland      | Finland      | FI HWW J   | FI HWW J   | C | NO | ... | NA | NA | NA | 0.0012951614 | NA | NA | NA | 0.0000000000 | NA | NA |\n",
       "| FH2_S163   | FH2   | 20_01_20 | Europe      | Finland      | Finland      | FI HWW K   | FI HWW K   | C | NO | ... | NA | NA | NA | 0.0000000000 | NA | NA | NA | 0.0000000000 | NA | NA |\n",
       "\n"
      ],
      "text/plain": [
       "  SampleID   alias date     continent   country      country2     country3  \n",
       "1 BFH10_S128 BFH10 28_11_19 West Africa Burkina Faso Burkina Faso BF HWW F  \n",
       "2 BFH33_S151 BFH33 12_12_19 West Africa Burkina Faso Burkina Faso BF HWW I  \n",
       "3 BH02_S77   BH02  27_11_19 West Africa Benin        Benin        BENN HWW A\n",
       "4 BH03_S78   BH03  27_11_19 West Africa Benin        Benin        BENN HWW A\n",
       "5 FH1_S162   FH1   20_01_20 Europe      Finland      Finland      FI HWW J  \n",
       "6 FH2_S163   FH2   20_01_20 Europe      Finland      Finland      FI HWW K  \n",
       "  name       hospital replicate ... blaTEM-45_1_X95401 fosA_2_AGDM01000012\n",
       "1 BF HWW F   B        NO        ... NA                 NA                 \n",
       "2 BF HWW I   B        NO        ... NA                 NA                 \n",
       "3 BENN HWW A A        NO        ... NA                 NA                 \n",
       "4 BENN HWW A A        NO        ... NA                 NA                 \n",
       "5 FI HWW J   C        NO        ... NA                 NA                 \n",
       "6 FI HWW K   C        NO        ... NA                 NA                 \n",
       "  fosA7_1_LAPJ01000014 blaTEM-36_1_KY305958 blaTEM-34_1_KC292503\n",
       "1 NA                   0.0000000000         NA                  \n",
       "2 NA                   0.0000000000         NA                  \n",
       "3 NA                   0.0005152291         NA                  \n",
       "4 NA                   0.0000000000         NA                  \n",
       "5 NA                   0.0012951614         NA                  \n",
       "6 NA                   0.0000000000         NA                  \n",
       "  blaTEM-49_1_Y10281 blaTEM-47_1_Y10279 blaTEM-4_1_LK391770 fosA_1_M85195\n",
       "1 NA                 NA                 0.0000000000        NA           \n",
       "2 NA                 NA                 0.0000000000        NA           \n",
       "3 NA                 NA                 0.0005152291        NA           \n",
       "4 NA                 NA                 0.0000000000        NA           \n",
       "5 NA                 NA                 0.0000000000        NA           \n",
       "6 NA                 NA                 0.0000000000        NA           \n",
       "  blaTEM-3_1_X64523\n",
       "1 NA               \n",
       "2 NA               \n",
       "3 NA               \n",
       "4 NA               \n",
       "5 NA               \n",
       "6 NA               "
      ]
     },
     "metadata": {},
     "output_type": "display_data"
    }
   ],
   "source": [
    "\n",
    "# Reshape the data so that one row is one sample using pivot_wider\n",
    "arg_df <- combined_data %>%\n",
    "  pivot_wider(names_from = GENE, values_from = Count)\n",
    "\n",
    "head(arg_df)\n"
   ]
  },
  {
   "cell_type": "markdown",
   "metadata": {},
   "source": [
    "#### Principal Component Analysis (PCA) on Genus Data\n",
    "In this section, we will perform Principal Component Analysis (PCA) on the ARG data and visualize the results."
   ]
  },
  {
   "cell_type": "markdown",
   "metadata": {},
   "source": [
    "`select(c(18: ncol(wide_genus_data)))`: This selects columns starting from the 16th column to the last column in the wide_genus_data dataset. These columns represent the numerical data."
   ]
  },
  {
   "cell_type": "code",
   "execution_count": 41,
   "metadata": {
    "vscode": {
     "languageId": "r"
    }
   },
   "outputs": [],
   "source": [
    "arg_numerical <- arg_df %>% select(c(16:ncol(arg_df)))"
   ]
  },
  {
   "cell_type": "markdown",
   "metadata": {},
   "source": [
    "The `clr()` function is applied to the numerical data. CLR transformation converts the counts into log-transformed values, accounting for compositional data and improving the performance of PCA."
   ]
  },
  {
   "cell_type": "code",
   "execution_count": 42,
   "metadata": {
    "vscode": {
     "languageId": "r"
    }
   },
   "outputs": [],
   "source": [
    "arg_numerical <- clr(arg_numerical)\n"
   ]
  },
  {
   "cell_type": "markdown",
   "metadata": {},
   "source": [
    "We perform PCA using the `rda()` function from the vegan package."
   ]
  },
  {
   "cell_type": "code",
   "execution_count": 43,
   "metadata": {
    "vscode": {
     "languageId": "r"
    }
   },
   "outputs": [],
   "source": [
    "pca_result <- rda(arg_numerical)"
   ]
  },
  {
   "cell_type": "markdown",
   "metadata": {},
   "source": [
    "Once the PCA has been computed, we extract the PCA scores for the samples (also known as sites). These scores represent the projections of each sample along the principal components."
   ]
  },
  {
   "cell_type": "code",
   "execution_count": 44,
   "metadata": {
    "vscode": {
     "languageId": "r"
    }
   },
   "outputs": [],
   "source": [
    "pca_scores <- scores(pca_result, display = \"sites\")\n",
    "pca_data <- as.data.frame(pca_scores)"
   ]
  },
  {
   "cell_type": "markdown",
   "metadata": {},
   "source": [
    "##### Add Metadata to PCA Data\n",
    "We now add additional metadata, such as the hospital and SampleID, to the PCA scores data frame. This will allow us to visualize how these variables relate to the PCA results."
   ]
  },
  {
   "cell_type": "code",
   "execution_count": 45,
   "metadata": {
    "vscode": {
     "languageId": "r"
    }
   },
   "outputs": [],
   "source": [
    "pca_data$hospital <- arg_df$hospital\n",
    "pca_data$SampleID <- arg_df$SampleID"
   ]
  },
  {
   "cell_type": "markdown",
   "metadata": {},
   "source": [
    "##### Visualize PCA Results\n",
    "\n",
    "Finally, we visualize the PCA results using ggplot2. We plot the first two principal components (PC1 and PC2) and color the points by the hospital variable. We also add labels for each sample using SampleID."
   ]
  },
  {
   "cell_type": "code",
   "execution_count": 46,
   "metadata": {
    "vscode": {
     "languageId": "r"
    }
   },
   "outputs": [
    {
     "data": {
      "image/png": "[encoded data removed]",
      "text/plain": [
       "plot without title"
      ]
     },
     "metadata": {
      "image/png": {
       "height": 420,
       "width": 420
      }
     },
     "output_type": "display_data"
    }
   ],
   "source": [
    "p <- ggplot(pca_data, aes(x = PC1, y = PC2, label = SampleID, group = hospital)) +\n",
    "  geom_point(aes(color = hospital), size = 4, alpha = 0.8) + \n",
    "  geom_text_repel(aes(label = SampleID), size = 4, max.overlaps = Inf) +  # Avoid overlap\n",
    "  coord_fixed(ratio = 1) +  # Ensures equal scaling for x and y axes\n",
    "  theme(text = element_text(family = \"Palatino\"),\n",
    "        legend.title = element_blank(),\n",
    "        legend.text = element_text(size = 16),\n",
    "        legend.key.size = unit(1.5, 'cm'),\n",
    "        legend.position = \"bottom\",\n",
    "        legend.background = element_rect(color = \"#ffffff\"),\n",
    "        legend.direction = \"horizontal\",\n",
    "        axis.text.x = element_text(size = 26, angle = 0, hjust = 0.5),\n",
    "        axis.text.y = element_text(size = 26),\n",
    "        axis.title.x = element_text(size = 26),                       \n",
    "        axis.title.y = element_text(size = 26),  \n",
    "        plot.margin = unit(c(0.5, 0.5, 0.5, 0.5), \"cm\")) +\n",
    "  scale_x_continuous(expand = expansion(mult = c(0.1, 0.1))) +  # Adds 10% padding\n",
    "  scale_y_continuous(expand = expansion(mult = c(0.1, 0.1)))    # Adds 10% padding\n",
    "\n",
    "print(p)"
   ]
  }
 ],
 "metadata": {
  "kernelspec": {
   "display_name": "R",
   "language": "R",
   "name": "ir"
  },
  "language_info": {
   "codemirror_mode": "r",
   "file_extension": ".r",
   "mimetype": "text/x-r-source",
   "name": "R",
   "pygments_lexer": "r",
   "version": "4.1.2"
  }
 },
 "nbformat": 4,
 "nbformat_minor": 4
}
