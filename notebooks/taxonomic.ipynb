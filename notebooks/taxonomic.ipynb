{
 "cells": [
  {
   "cell_type": "markdown",
   "metadata": {},
   "source": [
    "# Taxonomic Profiling in Kraken2"
   ]
  },
  {
   "cell_type": "markdown",
   "metadata": {},
   "source": [
    "## Running Kraken2 on Paired-End Sequencing Data\n",
    "Run Kraken2 for Taxonomic Classification: For each sample, it processes the paired-end reads (_R1_trimmed.fastq.gz and _R2_trimmed.fastq.gz) using Kraken2 with the following settings:\n",
    "\n",
    "Database Path: /home/jovyan/kraken2-db is used as the Kraken2 database.\n",
    "Output Files:\n",
    "The detailed classification results for each sample are written to ***/home/jovyan/results/\\${sample}.kraken2***.\n",
    "A summarized report is saved as ***/home/jovyan/results/\\${sample}.tab***."
   ]
  },
  {
   "cell_type": "code",
   "execution_count": 1,
   "metadata": {
    "vscode": {
     "languageId": "plaintext"
    }
   },
   "outputs": [
    {
     "name": "stdout",
     "output_type": "stream",
     "text": [
      "Processing sample: BFH10_S128\n",
      "Loading database information... done.\n",
      "3129692 sequences (945.17 Mbp) processed in 106.034s (1771.0 Kseq/m, 534.83 Mbp/m).\n",
      "  865436 sequences classified (27.65%)\n",
      "  2264256 sequences unclassified (72.35%)\n",
      "Processing sample: BFH33_S151\n",
      "Loading database information... done.\n",
      "3129692 sequences (945.17 Mbp) processed in 62.497s (3004.7 Kseq/m, 907.40 Mbp/m).\n",
      "  1520930 sequences classified (48.60%)\n",
      "  1608762 sequences unclassified (51.40%)\n",
      "Processing sample: BH02_S77\n",
      "Loading database information... done.\n",
      "3129692 sequences (945.17 Mbp) processed in 163.693s (1147.2 Kseq/m, 346.44 Mbp/m).\n",
      "  1090615 sequences classified (34.85%)\n",
      "  2039077 sequences unclassified (65.15%)\n",
      "Processing sample: BH03_S78\n",
      "Loading database information... done.\n",
      "3129692 sequences (945.17 Mbp) processed in 126.404s (1485.6 Kseq/m, 448.64 Mbp/m).\n",
      "  963977 sequences classified (30.80%)\n",
      "  2165715 sequences unclassified (69.20%)\n",
      "Processing sample: FH1_S162\n",
      "Loading database information... done.\n",
      "3129692 sequences (855.69 Mbp) processed in 93.526s (2007.8 Kseq/m, 548.96 Mbp/m).\n",
      "  1409993 sequences classified (45.05%)\n",
      "  1719699 sequences unclassified (54.95%)\n",
      "Processing sample: FH2_S163\n",
      "Loading database information... done.\n",
      "3129692 sequences (945.17 Mbp) processed in 138.389s (1356.9 Kseq/m, 409.79 Mbp/m).\n",
      "  1305174 sequences classified (41.70%)\n",
      "  1824518 sequences unclassified (58.30%)\n"
     ]
    }
   ],
   "source": [
    "!mkdir -p /home/jovyan/results\n",
    "!for sample in $(ls /home/jovyan/data/*_R1_*.fastq.gz | sed 's/.*\\///' | sed 's/_R1_.*//'); do \\\n",
    "    echo \"Processing sample: ${sample}\"; \\\n",
    "    kraken2 --db /home/jovyan/kraken2-db --paired --output /home/jovyan/results/${sample}.kraken2 --report /home/jovyan/results/${sample}.tab \\\n",
    "    /home/jovyan/data/${sample}_R1_trimmed.fastq.gz /home/jovyan/data/${sample}_R2_trimmed.fastq.gz;\\\n",
    "done\n"
   ]
  },
  {
   "cell_type": "markdown",
   "metadata": {},
   "source": [
    "## Generating Abundance Reports with Bracken from Kraken2 Reports\n",
    "This code block processes the Kraken2 output for each sample using Bracken, which estimates species abundance from Kraken2 reports. The read length range (50-150 bp) is based on the prior FASTQC quality check results.\n",
    "\n",
    "Bracken Parameters:\n",
    "\n",
    "- Database Path: -d `/home/jovyan/kraken2-db` points to the Kraken2 database used in the previous step.\n",
    "- Input File: -i `/home/jovyan/results/${sample}.tab` specifies the Kraken2 report for the sample.\n",
    "- Level: -l G sets the taxonomic level to \"Genus.\"\n",
    "- Threshold: -t 150 specifies a threshold of 150 reads to consider species presence.\n",
    "- Read Length: -r 100 indicates an estimated average read length of 100 bp, based on FASTQC results (read lengths ranged between 50-150 bp).\n",
    "- Output File: -o /home/jovyan/results/${sample}.breport specifies the output file path for the abundance report."
   ]
  },
  {
   "cell_type": "code",
   "execution_count": 2,
   "metadata": {},
   "outputs": [
    {
     "name": "stdout",
     "output_type": "stream",
     "text": [
      " >> Checking for Valid Options...\n",
      " >> Running Bracken \n",
      "      >> python src/est_abundance.py -i /home/jovyan/results/BFH10_S128.tab -o /home/jovyan/results/BFH10_S128.breport -k /home/jovyan/kraken2-db/database100mers.kmer_distrib -l G -t 150\n",
      "PROGRAM START TIME: 12-20-2024 00:44:23\n",
      ">> Checking report file: /home/jovyan/results/BFH10_S128.tab\n",
      "BRACKEN SUMMARY (Kraken report: /home/jovyan/results/BFH10_S128.tab)\n",
      "    >>> Threshold: 150 \n",
      "    >>> Number of genuses in sample: 1156 \n",
      "\t  >> Number of genuses with reads > threshold: 164 \n",
      "\t  >> Number of genuses with reads < threshold: 992 \n",
      "    >>> Total reads in sample: 3129692\n",
      "\t  >> Total reads kept at genuses level (reads > threshold): 351634\n",
      "\t  >> Total reads discarded (genuses reads < threshold): 27166\n",
      "\t  >> Reads distributed: 484490\n",
      "\t  >> Reads not distributed (eg. no genuses above threshold): 2146\n",
      "\t  >> Unclassified reads: 2264256\n",
      "BRACKEN OUTPUT PRODUCED: /home/jovyan/results/BFH10_S128.breport\n",
      "PROGRAM END TIME: 12-20-2024 00:44:23\n",
      "  Bracken complete.\n",
      " >> Checking for Valid Options...\n",
      " >> Running Bracken \n",
      "      >> python src/est_abundance.py -i /home/jovyan/results/BFH33_S151.tab -o /home/jovyan/results/BFH33_S151.breport -k /home/jovyan/kraken2-db/database100mers.kmer_distrib -l G -t 150\n",
      "PROGRAM START TIME: 12-20-2024 00:44:23\n",
      ">> Checking report file: /home/jovyan/results/BFH33_S151.tab\n",
      "BRACKEN SUMMARY (Kraken report: /home/jovyan/results/BFH33_S151.tab)\n",
      "    >>> Threshold: 150 \n",
      "    >>> Number of genuses in sample: 1181 \n",
      "\t  >> Number of genuses with reads > threshold: 177 \n",
      "\t  >> Number of genuses with reads < threshold: 1004 \n",
      "    >>> Total reads in sample: 3129692\n",
      "\t  >> Total reads kept at genuses level (reads > threshold): 1009303\n",
      "\t  >> Total reads discarded (genuses reads < threshold): 23680\n",
      "\t  >> Reads distributed: 485466\n",
      "\t  >> Reads not distributed (eg. no genuses above threshold): 2481\n",
      "\t  >> Unclassified reads: 1608762\n",
      "BRACKEN OUTPUT PRODUCED: /home/jovyan/results/BFH33_S151.breport\n",
      "PROGRAM END TIME: 12-20-2024 00:44:23\n",
      "  Bracken complete.\n",
      " >> Checking for Valid Options...\n",
      " >> Running Bracken \n",
      "      >> python src/est_abundance.py -i /home/jovyan/results/BH02_S77.tab -o /home/jovyan/results/BH02_S77.breport -k /home/jovyan/kraken2-db/database100mers.kmer_distrib -l G -t 150\n",
      "PROGRAM START TIME: 12-20-2024 00:44:23\n",
      ">> Checking report file: /home/jovyan/results/BH02_S77.tab\n",
      "BRACKEN SUMMARY (Kraken report: /home/jovyan/results/BH02_S77.tab)\n",
      "    >>> Threshold: 150 \n",
      "    >>> Number of genuses in sample: 1079 \n",
      "\t  >> Number of genuses with reads > threshold: 187 \n",
      "\t  >> Number of genuses with reads < threshold: 892 \n",
      "    >>> Total reads in sample: 3129692\n",
      "\t  >> Total reads kept at genuses level (reads > threshold): 654557\n",
      "\t  >> Total reads discarded (genuses reads < threshold): 22841\n",
      "\t  >> Reads distributed: 411641\n",
      "\t  >> Reads not distributed (eg. no genuses above threshold): 1576\n",
      "\t  >> Unclassified reads: 2039077\n",
      "BRACKEN OUTPUT PRODUCED: /home/jovyan/results/BH02_S77.breport\n",
      "PROGRAM END TIME: 12-20-2024 00:44:24\n",
      "  Bracken complete.\n",
      " >> Checking for Valid Options...\n",
      " >> Running Bracken \n",
      "      >> python src/est_abundance.py -i /home/jovyan/results/BH03_S78.tab -o /home/jovyan/results/BH03_S78.breport -k /home/jovyan/kraken2-db/database100mers.kmer_distrib -l G -t 150\n",
      "PROGRAM START TIME: 12-20-2024 00:44:24\n",
      ">> Checking report file: /home/jovyan/results/BH03_S78.tab\n",
      "BRACKEN SUMMARY (Kraken report: /home/jovyan/results/BH03_S78.tab)\n",
      "    >>> Threshold: 150 \n",
      "    >>> Number of genuses in sample: 1153 \n",
      "\t  >> Number of genuses with reads > threshold: 120 \n",
      "\t  >> Number of genuses with reads < threshold: 1033 \n",
      "    >>> Total reads in sample: 3129692\n",
      "\t  >> Total reads kept at genuses level (reads > threshold): 354881\n",
      "\t  >> Total reads discarded (genuses reads < threshold): 25524\n",
      "\t  >> Reads distributed: 540704\n",
      "\t  >> Reads not distributed (eg. no genuses above threshold): 42868\n",
      "\t  >> Unclassified reads: 2165715\n",
      "BRACKEN OUTPUT PRODUCED: /home/jovyan/results/BH03_S78.breport\n",
      "PROGRAM END TIME: 12-20-2024 00:44:24\n",
      "  Bracken complete.\n",
      " >> Checking for Valid Options...\n",
      " >> Running Bracken \n",
      "      >> python src/est_abundance.py -i /home/jovyan/results/FH1_S162.tab -o /home/jovyan/results/FH1_S162.breport -k /home/jovyan/kraken2-db/database100mers.kmer_distrib -l G -t 150\n",
      "PROGRAM START TIME: 12-20-2024 00:44:24\n",
      ">> Checking report file: /home/jovyan/results/FH1_S162.tab\n",
      "BRACKEN SUMMARY (Kraken report: /home/jovyan/results/FH1_S162.tab)\n",
      "    >>> Threshold: 150 \n",
      "    >>> Number of genuses in sample: 1165 \n",
      "\t  >> Number of genuses with reads > threshold: 208 \n",
      "\t  >> Number of genuses with reads < threshold: 957 \n",
      "    >>> Total reads in sample: 3129692\n",
      "\t  >> Total reads kept at genuses level (reads > threshold): 1183840\n",
      "\t  >> Total reads discarded (genuses reads < threshold): 23070\n",
      "\t  >> Reads distributed: 195558\n",
      "\t  >> Reads not distributed (eg. no genuses above threshold): 7525\n",
      "\t  >> Unclassified reads: 1719699\n",
      "BRACKEN OUTPUT PRODUCED: /home/jovyan/results/FH1_S162.breport\n",
      "PROGRAM END TIME: 12-20-2024 00:44:24\n",
      "  Bracken complete.\n",
      " >> Checking for Valid Options...\n",
      " >> Running Bracken \n",
      "      >> python src/est_abundance.py -i /home/jovyan/results/FH2_S163.tab -o /home/jovyan/results/FH2_S163.breport -k /home/jovyan/kraken2-db/database100mers.kmer_distrib -l G -t 150\n",
      "PROGRAM START TIME: 12-20-2024 00:44:24\n",
      ">> Checking report file: /home/jovyan/results/FH2_S163.tab\n",
      "BRACKEN SUMMARY (Kraken report: /home/jovyan/results/FH2_S163.tab)\n",
      "    >>> Threshold: 150 \n",
      "    >>> Number of genuses in sample: 1147 \n",
      "\t  >> Number of genuses with reads > threshold: 226 \n",
      "\t  >> Number of genuses with reads < threshold: 921 \n",
      "    >>> Total reads in sample: 3129692\n",
      "\t  >> Total reads kept at genuses level (reads > threshold): 1002151\n",
      "\t  >> Total reads discarded (genuses reads < threshold): 26602\n",
      "\t  >> Reads distributed: 272095\n",
      "\t  >> Reads not distributed (eg. no genuses above threshold): 4326\n",
      "\t  >> Unclassified reads: 1824518\n",
      "BRACKEN OUTPUT PRODUCED: /home/jovyan/results/FH2_S163.breport\n",
      "PROGRAM END TIME: 12-20-2024 00:44:24\n",
      "  Bracken complete.\n"
     ]
    }
   ],
   "source": [
    "!for sample in $(ls /home/jovyan/data/*_R1_*.fastq.gz | sed 's/.*\\///' | sed 's/_R1_.*//'); do \\\n",
    "    bracken -d /home/jovyan/kraken2-db -i /home/jovyan/results/${sample}.tab -l G -t 150 -r 100 -o /home/jovyan/results/${sample}.breport;\\\n",
    "done"
   ]
  },
  {
   "cell_type": "markdown",
   "metadata": {},
   "source": [
    "## Converting Kraken2 Reports to MetaPhlAn-Style Format\n",
    "This code block processes Kraken2 summary reports for each sample and converts them into a MetaPhlAn-style format using the kreport2mpa.py script. The MetaPhlAn-style format is commonly used for downstream analyses and visualization of taxonomic profiles. \n",
    "\n",
    "The MetaPhlAn-style format organizes taxonomic profiles in a standardized hierarchy, where each taxonomic level (e.g., kingdom, phylum, genus) is represented in a single line. \n",
    "\n",
    "ex: k__Bacteria|p__Proteobacteria|c__Gammaproteobacteria|o__Enterobacterales|f__Enterobacteriaceae|g__Escherichia   0.45\n",
    "\n"
   ]
  },
  {
   "cell_type": "code",
   "execution_count": 3,
   "metadata": {},
   "outputs": [],
   "source": [
    "!for sample in $(ls /home/jovyan/data/*_R1_*.fastq.gz | sed 's/.*\\///' | sed 's/_R1_.*//'); do  \\\n",
    "    kreport2mpa.py -r /home/jovyan/results/${sample}.tab -o /home/jovyan/results/${sample}_mpa.tab;\\\n",
    "done"
   ]
  },
  {
   "cell_type": "markdown",
   "metadata": {},
   "source": [
    "#### Normalize Taxonomic Profiles for Abundance Calculation\n",
    "This script processes the MetaPhlAn-style taxonomic profile files for each sample and normalizes the abundance values so they sum up to 100%."
   ]
  },
  {
   "cell_type": "code",
   "execution_count": 9,
   "metadata": {},
   "outputs": [],
   "source": [
    "\n",
    "!for sample in $(ls /home/jovyan/data/*_R1_*.fastq.gz | sed 's/.*\\///' | sed 's/_R1_.*//'); do \\\n",
    "    sum=$(grep -vP \"\\\\|\" /home/jovyan/results/${sample}_mpa.tab | cut -f 2 | awk '{sum += $1} END {printf \"%.2f\", sum/100}'); \\\n",
    "    if [ -z \"$sum\" ] || [ \"$sum\" == \"0\" ]; then \\\n",
    "        sum=0.00001; \\\n",
    "        echo \"Warning: sum is zero or undefined, setting sum to 0\"; \\\n",
    "    fi; \\\n",
    "    awk -v sum=\"$sum\" 'BEGIN {FS=\"\\t\"; OFS=\"\\t\"} {print $1, $2/sum}' /home/jovyan/results/${sample}_mpa.tab >> /home/jovyan/results/${sample}_profile.tab; \\\n",
    "done"
   ]
  },
  {
   "cell_type": "code",
   "execution_count": 10,
   "metadata": {},
   "outputs": [
    {
     "name": "stdout",
     "output_type": "stream",
     "text": [
      "d__Bacteria\t96.4236\n",
      "d__Bacteria|p__Proteobacteria\t67.1025\n",
      "d__Bacteria|p__Proteobacteria|c__Gammaproteobacteria\t52.3122\n",
      "d__Bacteria|p__Proteobacteria|c__Gammaproteobacteria|o__Enterobacterales\t23.9919\n",
      "d__Bacteria|p__Proteobacteria|c__Gammaproteobacteria|o__Enterobacterales|f__Enterobacteriaceae\t20.4287\n",
      "d__Bacteria|p__Proteobacteria|c__Gammaproteobacteria|o__Enterobacterales|f__Enterobacteriaceae|g__Raoultella\t5.98904\n",
      "d__Bacteria|p__Proteobacteria|c__Gammaproteobacteria|o__Enterobacterales|f__Enterobacteriaceae|g__Raoultella|s__Raoultella_ornithinolytica\t1.58662\n",
      "d__Bacteria|p__Proteobacteria|c__Gammaproteobacteria|o__Enterobacterales|f__Enterobacteriaceae|g__Raoultella|s__Raoultella_planticola\t0.0736675\n",
      "d__Bacteria|p__Proteobacteria|c__Gammaproteobacteria|o__Enterobacterales|f__Enterobacteriaceae|g__Raoultella|s__Raoultella_sp._X13\t0.0366204\n",
      "d__Bacteria|p__Proteobacteria|c__Gammaproteobacteria|o__Enterobacterales|f__Enterobacteriaceae|g__Enterobacter\t5.10304\n"
     ]
    }
   ],
   "source": [
    "!head /home/jovyan/results/FH1_S162_profile.tab"
   ]
  },
  {
   "cell_type": "markdown",
   "metadata": {},
   "source": [
    "#### Merging Normalized Taxonomic Profiles into a Single Table\n",
    "This command uses the merge_metaphlan_tables.py script from MetaPhlan2 to combine individual sample taxonomic profiles into a single merged abundance table. "
   ]
  },
  {
   "cell_type": "code",
   "execution_count": 14,
   "metadata": {},
   "outputs": [],
   "source": [
    "!merge_metaphlan_tables.py /home/jovyan/results/*_profile.tab >> /home/jovyan/results/merged_metakraken_abundance_table.txt"
   ]
  },
  {
   "cell_type": "code",
   "execution_count": 17,
   "metadata": {},
   "outputs": [
    {
     "name": "stdout",
     "output_type": "stream",
     "text": [
      "ID\tBFH10_S128\tBFH33_S151\tBH02_S77\tBH03_S78\tFH1_S162\tFH2_S163\n",
      "d__Archaea\t2.53983\t0.426819\t0.133947\t0.316336\t0.0479976\t0.122828\n",
      "d__Archaea|p__Candidatus_Korarchaeota\t0.000117059\t6.64309e-05\t0.0\t0.0\t0.0\t0.0\n",
      "d__Archaea|p__Candidatus_Korarchaeota|g__Candidatus_Korarchaeum\t0.000117059\t6.64309e-05\t0.0\t0.0\t0.0\t0.0\n",
      "d__Archaea|p__Candidatus_Korarchaeota|g__Candidatus_Korarchaeum|s__Candidatus_Korarchaeum_cryptofilum\t0.000117059\t6.64309e-05\t0.0\t0.0\t0.0\t0.0\n",
      "d__Archaea|p__Candidatus_Micrarchaeota\t0.0\t0.000132862\t0.0\t0.0\t0.0\t0.0\n",
      "d__Archaea|p__Candidatus_Micrarchaeota|s__Candidatus_Micrarchaeota_archaeon_Mia14\t0.0\t0.000132862\t0.0\t0.0\t0.0\t0.0\n",
      "d__Archaea|p__Crenarchaeota\t0.130638\t0.0751998\t0.0432623\t0.126156\t0.000497753\t0.0824762\n",
      "d__Archaea|p__Crenarchaeota|c__Thermoprotei\t0.130638\t0.0751998\t0.0432623\t0.126156\t0.000497753\t0.0824762\n",
      "d__Archaea|p__Crenarchaeota|c__Thermoprotei|o__Acidilobales\t0.0\t6.64309e-05\t0.0\t0.000524777\t0.0\t0.0\n"
     ]
    }
   ],
   "source": [
    "!head /home/jovyan/results/merged_metakraken_abundance_table.txt"
   ]
  },
  {
   "cell_type": "markdown",
   "metadata": {},
   "source": [
    "#### Reformat Sample Name Headers to Exclude _profile"
   ]
  },
  {
   "cell_type": "code",
   "execution_count": 16,
   "metadata": {},
   "outputs": [],
   "source": [
    "!sed -i '1s/_profile//g' /home/jovyan/results/merged_metakraken_abundance_table.txt"
   ]
  }
 ],
 "metadata": {
  "kernelspec": {
   "display_name": "Python 3 (ipykernel)",
   "language": "python",
   "name": "python3"
  },
  "language_info": {
   "codemirror_mode": {
    "name": "ipython",
    "version": 3
   },
   "file_extension": ".py",
   "mimetype": "text/x-python",
   "name": "python",
   "nbconvert_exporter": "python",
   "pygments_lexer": "ipython3",
   "version": "3.11.6"
  }
 },
 "nbformat": 4,
 "nbformat_minor": 4
}
