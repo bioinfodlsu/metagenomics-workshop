{
 "cells": [
  {
   "cell_type": "markdown",
   "metadata": {},
   "source": [
    "# Taxonomic Profiling in Kraken2"
   ]
  },
  {
   "cell_type": "markdown",
   "metadata": {},
   "source": [
    "## Running Kraken2 on Paired-End Sequencing Data\n",
    "Run Kraken2 for Taxonomic Classification: For each sample, it processes the paired-end reads (_R1_trimmed.fastq.gz and _R2_trimmed.fastq.gz) using Kraken2 with the following settings:\n",
    "\n",
    "Database Path: /home/jovyan/kraken2-db is used as the Kraken2 database.\n",
    "Output Files:\n",
    "The detailed classification results for each sample are written to ***/home/jovyan/results/\\${sample}.kraken2***.\n",
    "A summarized report is saved as ***/home/jovyan/results/\\${sample}.tab***."
   ]
  },
  {
   "cell_type": "code",
   "execution_count": 7,
   "metadata": {
    "vscode": {
     "languageId": "plaintext"
    }
   },
   "outputs": [
    {
     "name": "stdout",
     "output_type": "stream",
     "text": [
      "Processing sample: FH1_S162\n",
      "Loading database information... done.\n",
      "3129692 sequences (855.69 Mbp) processed in 316.891s (592.6 Kseq/m, 162.02 Mbp/m).\n",
      "  1409993 sequences classified (45.05%)\n",
      "  1719699 sequences unclassified (54.95%)\n",
      "Processing sample: FH2_S163\n",
      "Loading database information... done.\n",
      "3129692 sequences (945.17 Mbp) processed in 249.631s (752.2 Kseq/m, 227.18 Mbp/m).\n",
      "  1305174 sequences classified (41.70%)\n",
      "  1824518 sequences unclassified (58.30%)\n"
     ]
    }
   ],
   "source": [
    "!mkdir -p /home/jovyan/results\n",
    "!for sample in $(ls /home/jovyan/data/*_R1_*.fastq.gz | sed 's/.*\\///' | sed 's/_R1_.*//'); do \\\n",
    "    echo \"Processing sample: ${sample}\"; \\\n",
    "    kraken2 --db /home/jovyan/kraken2-db --paired --output /home/jovyan/results/${sample}.kraken2 --report /home/jovyan/results/${sample}.tab \\\n",
    "    /home/jovyan/data/${sample}_R1_trimmed.fastq.gz /home/jovyan/data/${sample}_R2_trimmed.fastq.gz;\\\n",
    "done\n"
   ]
  },
  {
   "cell_type": "markdown",
   "metadata": {},
   "source": [
    "#### Initial Output for Kraken"
   ]
  },
  {
   "cell_type": "code",
   "execution_count": 50,
   "metadata": {},
   "outputs": [
    {
     "name": "stdout",
     "output_type": "stream",
     "text": [
      " 58.30\t1824518\t1824518\tU\t0\tunclassified\n",
      " 41.70\t1305174\t383\tR\t1\troot\n",
      " 41.68\t1304328\t63202\tR1\t131567\t  cellular organisms\n",
      " 38.60\t1207946\t47320\tD\t2\t    Bacteria\n",
      " 26.13\t817718\t24022\tP\t1224\t      Proteobacteria\n",
      " 10.62\t332446\t5911\tC\t28216\t        Betaproteobacteria\n",
      "  8.77\t274500\t13693\tO\t80840\t          Burkholderiales\n",
      "  7.17\t224399\t31842\tF\t80864\t            Comamonadaceae\n",
      "  3.30\t103320\t12602\tG\t12916\t              Acidovorax\n",
      "  1.65\t51785\t51785\tS\t358220\t                Acidovorax sp. KKS102\n"
     ]
    }
   ],
   "source": [
    "!head  /home/jovyan/results/FH2_S163.tab"
   ]
  },
  {
   "cell_type": "markdown",
   "metadata": {},
   "source": [
    "## Generating Abundance Reports with Bracken from Kraken2 Reports\n",
    "This code block processes the Kraken2 output for each sample using Bracken, which estimates species abundance from Kraken2 reports. The read length range (50-150 bp) is based on the prior FASTQC quality check results.\n",
    "\n",
    "Bracken Parameters:\n",
    "\n",
    "- Database Path: -d `/home/jovyan/kraken2-db` points to the Kraken2 database used in the previous step.\n",
    "- Input File: -i `/home/jovyan/results/${sample}.tab` specifies the Kraken2 report for the sample.\n",
    "- Level: -l G sets the taxonomic level to \"Genus.\"\n",
    "- Threshold: -t 150 specifies a threshold of 150 reads to consider species presence.\n",
    "- Read Length: -r 100 indicates an estimated average read length of 100 bp, based on FASTQC results (read lengths ranged between 50-150 bp).\n",
    "- Output File: -o /home/jovyan/results/${sample}.breport specifies the output file path for the abundance report.\n",
    "  \n",
    "Note: Produces two output files, one `/home/jovyan/results/${sample}.breport` and another `/home/jovyan/results/${sample}_bracken_genuses.tab`"
   ]
  },
  {
   "cell_type": "code",
   "execution_count": 46,
   "metadata": {},
   "outputs": [
    {
     "name": "stdout",
     "output_type": "stream",
     "text": [
      " >> Checking for Valid Options...\n",
      " >> Running Bracken \n",
      "      >> python src/est_abundance.py -i /home/jovyan/results/FH1_S162.tab -o /home/jovyan/results/FH1_S162.bracken -k /home/jovyan/kraken2-db/database100mers.kmer_distrib -l G -t 150\n",
      "PROGRAM START TIME: 01-11-2025 13:44:11\n",
      ">> Checking report file: /home/jovyan/results/FH1_S162.tab\n",
      "BRACKEN SUMMARY (Kraken report: /home/jovyan/results/FH1_S162.tab)\n",
      "    >>> Threshold: 150 \n",
      "    >>> Number of genuses in sample: 1165 \n",
      "\t  >> Number of genuses with reads > threshold: 208 \n",
      "\t  >> Number of genuses with reads < threshold: 957 \n",
      "    >>> Total reads in sample: 3129692\n",
      "\t  >> Total reads kept at genuses level (reads > threshold): 1183840\n",
      "\t  >> Total reads discarded (genuses reads < threshold): 23070\n",
      "\t  >> Reads distributed: 195558\n",
      "\t  >> Reads not distributed (eg. no genuses above threshold): 7525\n",
      "\t  >> Unclassified reads: 1719699\n",
      "BRACKEN OUTPUT PRODUCED: /home/jovyan/results/FH1_S162.bracken\n",
      "PROGRAM END TIME: 01-11-2025 13:44:11\n",
      "  Bracken complete.\n",
      " >> Checking for Valid Options...\n",
      " >> Running Bracken \n",
      "      >> python src/est_abundance.py -i /home/jovyan/results/FH2_S163.tab -o /home/jovyan/results/FH2_S163.bracken -k /home/jovyan/kraken2-db/database100mers.kmer_distrib -l G -t 150\n",
      "PROGRAM START TIME: 01-11-2025 13:44:11\n",
      ">> Checking report file: /home/jovyan/results/FH2_S163.tab\n",
      "BRACKEN SUMMARY (Kraken report: /home/jovyan/results/FH2_S163.tab)\n",
      "    >>> Threshold: 150 \n",
      "    >>> Number of genuses in sample: 1147 \n",
      "\t  >> Number of genuses with reads > threshold: 226 \n",
      "\t  >> Number of genuses with reads < threshold: 921 \n",
      "    >>> Total reads in sample: 3129692\n",
      "\t  >> Total reads kept at genuses level (reads > threshold): 1002151\n",
      "\t  >> Total reads discarded (genuses reads < threshold): 26602\n",
      "\t  >> Reads distributed: 272095\n",
      "\t  >> Reads not distributed (eg. no genuses above threshold): 4326\n",
      "\t  >> Unclassified reads: 1824518\n",
      "BRACKEN OUTPUT PRODUCED: /home/jovyan/results/FH2_S163.bracken\n",
      "PROGRAM END TIME: 01-11-2025 13:44:11\n",
      "  Bracken complete.\n"
     ]
    }
   ],
   "source": [
    "!for sample in $(ls /home/jovyan/data/*_R1_*.fastq.gz | sed 's/.*\\///' | sed 's/_R1_.*//'); do \\\n",
    "    bracken -d /home/jovyan/kraken2-db -i /home/jovyan/results/${sample}.tab -l G -t 150 -r 100 -o /home/jovyan/results/${sample}.bracken;\\\n",
    "done"
   ]
  },
  {
   "cell_type": "markdown",
   "metadata": {},
   "source": [
    "#### Output of Bracken"
   ]
  },
  {
   "cell_type": "code",
   "execution_count": 51,
   "metadata": {},
   "outputs": [
    {
     "name": "stdout",
     "output_type": "stream",
     "text": [
      "100.00\t1274246\t0\tR\t1\troot\n",
      "100.00\t1274246\t0\tR1\t131567\t  cellular organisms\n",
      "96.19\t1225643\t0\tD\t2\t    Bacteria\n",
      "69.21\t881885\t0\tP\t1224\t      Proteobacteria\n",
      "31.42\t400364\t0\tC\t28216\t        Betaproteobacteria\n",
      "27.13\t345649\t0\tO\t80840\t          Burkholderiales\n",
      "19.15\t244018\t0\tF\t80864\t            Comamonadaceae\n",
      "10.91\t138956\t0\tG\t12916\t              Acidovorax\n",
      "1.38\t17557\t0\tG\t283\t              Comamonas\n",
      "1.52\t19431\t0\tG\t201096\t              Alicycliphilus\n"
     ]
    }
   ],
   "source": [
    "!head  /home/jovyan/results/FH2_S163_bracken_genuses.tab"
   ]
  },
  {
   "cell_type": "markdown",
   "metadata": {},
   "source": [
    "## Converting Kraken2 Reports to MetaPhlAn-Style Format\n",
    "This code block processes Kraken2 summary reports for each sample and converts them into a MetaPhlAn-style format using the kreport2mpa.py script. The MetaPhlAn-style format is commonly used for downstream analyses and visualization of taxonomic profiles. \n",
    "\n",
    "The MetaPhlAn-style format organizes taxonomic profiles in a standardized hierarchy, where each taxonomic level (e.g., kingdom, phylum, genus) is represented in a single line. \n",
    "\n",
    "ex: k__Bacteria|p__Proteobacteria|c__Gammaproteobacteria|o__Enterobacterales|f__Enterobacteriaceae|g__Escherichia   0.45\n",
    "\n"
   ]
  },
  {
   "cell_type": "code",
   "execution_count": 36,
   "metadata": {},
   "outputs": [],
   "source": [
    "!for sample in $(ls /home/jovyan/data/*_R1_*.fastq.gz | sed 's/.*\\///' | sed 's/_R1_.*//'); do  \\\n",
    "    kreport2mpa.py -r /home/jovyan/results/${sample}_bracken_genuses.tab -o /home/jovyan/results/${sample}_mpa.tab;\\\n",
    "done"
   ]
  },
  {
   "cell_type": "markdown",
   "metadata": {},
   "source": [
    "#### Normalize Taxonomic Profiles for Abundance Calculation\n",
    "This script processes the MetaPhlAn-style taxonomic profile files for each sample and normalizes the abundance values so they sum up to 100%."
   ]
  },
  {
   "cell_type": "code",
   "execution_count": 37,
   "metadata": {},
   "outputs": [],
   "source": [
    "\n",
    "!for sample in $(ls /home/jovyan/data/*_R1_*.fastq.gz | sed 's/.*\\///' | sed 's/_R1_.*//'); do \\\n",
    "    sum=$(grep -vP \"\\\\|\" /home/jovyan/results/${sample}_mpa.tab | cut -f 2 | awk '{sum += $1} END {printf \"%.2f\", sum/100}'); \\\n",
    "    awk -v sum=\"$sum\" 'BEGIN {FS=\"\\t\"; OFS=\"\\t\"} {print $1, $2/sum}' /home/jovyan/results/${sample}_mpa.tab >> /home/jovyan/results/${sample}_profile.tab; \\\n",
    "done"
   ]
  },
  {
   "cell_type": "code",
   "execution_count": 38,
   "metadata": {},
   "outputs": [
    {
     "name": "stdout",
     "output_type": "stream",
     "text": [
      "d__Bacteria\t96.5527\n",
      "d__Bacteria|p__Proteobacteria\t68.5\n",
      "d__Bacteria|p__Proteobacteria|c__Gammaproteobacteria\t54.841\n",
      "d__Bacteria|p__Proteobacteria|c__Gammaproteobacteria|o__Enterobacterales\t25.9388\n",
      "d__Bacteria|p__Proteobacteria|c__Gammaproteobacteria|o__Enterobacterales|f__Enterobacteriaceae\t23.5621\n",
      "d__Bacteria|p__Proteobacteria|c__Gammaproteobacteria|o__Enterobacterales|f__Enterobacteriaceae|g__Raoultella\t6.52018\n",
      "d__Bacteria|p__Proteobacteria|c__Gammaproteobacteria|o__Enterobacterales|f__Enterobacteriaceae|g__Enterobacter\t6.09267\n",
      "d__Bacteria|p__Proteobacteria|c__Gammaproteobacteria|o__Enterobacterales|f__Enterobacteriaceae|g__Klebsiella\t3.11332\n",
      "d__Bacteria|p__Proteobacteria|c__Gammaproteobacteria|o__Enterobacterales|f__Enterobacteriaceae|g__Escherichia\t5.14588\n",
      "d__Bacteria|p__Proteobacteria|c__Gammaproteobacteria|o__Enterobacterales|f__Enterobacteriaceae|g__Citrobacter\t1.58606\n"
     ]
    }
   ],
   "source": [
    "!head /home/jovyan/results/FH1_S162_profile.tab"
   ]
  },
  {
   "cell_type": "markdown",
   "metadata": {},
   "source": [
    "#### Merging Normalized Taxonomic Profiles into a Single Table\n",
    "This command uses the merge_metaphlan_tables.py script from MetaPhlan2 to combine individual sample taxonomic profiles into a single merged abundance table. "
   ]
  },
  {
   "cell_type": "code",
   "execution_count": 39,
   "metadata": {},
   "outputs": [],
   "source": [
    "!merge_metaphlan_tables.py /home/jovyan/results/*_profile.tab >> /home/jovyan/results/merged_metakraken_abundance_table.txt"
   ]
  },
  {
   "cell_type": "code",
   "execution_count": 40,
   "metadata": {},
   "outputs": [
    {
     "name": "stdout",
     "output_type": "stream",
     "text": [
      "ID\tFH1_S162_profile\tFH2_S163_profile\n",
      "d__Archaea\t0.0188488\t0.095743\n",
      "d__Archaea|p__Crenarchaeota\t0.0\t0.0805183\n",
      "d__Archaea|p__Crenarchaeota|c__Thermoprotei\t0.0\t0.0805183\n",
      "d__Archaea|p__Crenarchaeota|c__Thermoprotei|o__Sulfolobales\t0.0\t0.0805183\n",
      "d__Archaea|p__Crenarchaeota|c__Thermoprotei|o__Sulfolobales|f__Sulfolobaceae\t0.0\t0.0805183\n",
      "d__Archaea|p__Crenarchaeota|c__Thermoprotei|o__Sulfolobales|f__Sulfolobaceae|g__Sulfolobus\t0.0\t0.0805183\n",
      "d__Archaea|p__Euryarchaeota\t0.0188488\t0.0151462\n",
      "d__Archaea|p__Euryarchaeota|c__Methanobacteria\t0.0188488\t0.0151462\n",
      "d__Archaea|p__Euryarchaeota|c__Methanobacteria|o__Methanobacteriales\t0.0188488\t0.0151462\n"
     ]
    }
   ],
   "source": [
    "!head /home/jovyan/results/merged_metakraken_abundance_table.txt;"
   ]
  },
  {
   "cell_type": "markdown",
   "metadata": {},
   "source": [
    "#### Reformat Sample Name Headers to Exclude _profile"
   ]
  },
  {
   "cell_type": "code",
   "execution_count": 41,
   "metadata": {},
   "outputs": [],
   "source": [
    "!sed -i '1s/_profile//g' /home/jovyan/results/merged_metakraken_abundance_table.txt"
   ]
  },
  {
   "cell_type": "code",
   "execution_count": null,
   "metadata": {},
   "outputs": [],
   "source": []
  }
 ],
 "metadata": {
  "kernelspec": {
   "display_name": "Python 3 (ipykernel)",
   "language": "python",
   "name": "python3"
  },
  "language_info": {
   "codemirror_mode": {
    "name": "ipython",
    "version": 3
   },
   "file_extension": ".py",
   "mimetype": "text/x-python",
   "name": "python",
   "nbconvert_exporter": "python",
   "pygments_lexer": "ipython3",
   "version": "3.11.6"
  }
 },
 "nbformat": 4,
 "nbformat_minor": 4
}
