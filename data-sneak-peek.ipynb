{
 "cells": [
  {
   "cell_type": "markdown",
   "id": "ae154a92-a5a7-4ff7-a98c-f610e30b7939",
   "metadata": {},
   "source": [
    "# Data sneak peek\n",
    "\n",
    "For hands-on activity, we will make use of downsampled dataset obtained from the following study:\n",
    "\n",
    "Metagenomic Analysis of the Abundance and Composition of Antibiotic Resistance Genes in Hospital Wastewater in Benin, Burkina Faso, and Finland. Markkanen MA, Haukka K, Pärnänen KMM, Dougnon VT, Bonkoungou IJO, Garba Z, Tinto H, Sarekoski A, Karkman A, Kantele A, Virta MPJ. mSphere 8(1): e0053822 (2023 Feb)\n",
    "\n",
    "The full dataset is available here: https://www.ebi.ac.uk/ena/browser/view/PRJEB47975 . \n",
    "\n",
    "For this workshop, we will use a subset of the dataset and downsample each read set.\n",
    "## Select \n",
    "| Country |  Sample ID | ENA Accession ID |\n",
    "| ------- | ---------- | ---------------- | \n",
    "| Finland | FH1 | ERR7015395 | \n",
    "| Finland | FH2 | ERR7015396 |\n",
    "| Finland | FH3 | ERR7015397 | \n",
    "| Finland | FH4 | ERR7015398 |\n",
    "| Benin   | BH1 | ERR7015311 |\n",
    "| Benin   | BH2 | ERR7015312 |\n",
    "| Benin | BH3 | ERR7015313 |\n",
    "| Benin | BH4 | ERR7015315 |"
   ]
  },
  {
   "cell_type": "markdown",
   "id": "80c4431c-d848-4f05-bbe7-39346e72f20a",
   "metadata": {},
   "source": [
    "You can obtain the dataset by doing a wget. \n",
    "\n",
    "For the purposes of this workshop, we will  downsample each set to 1 million paired reads."
   ]
  }
 ],
 "metadata": {
  "kernelspec": {
   "display_name": "Python 3 (ipykernel)",
   "language": "python",
   "name": "python3"
  },
  "language_info": {
   "codemirror_mode": {
    "name": "ipython",
    "version": 3
   },
   "file_extension": ".py",
   "mimetype": "text/x-python",
   "name": "python",
   "nbconvert_exporter": "python",
   "pygments_lexer": "ipython3",
   "version": "3.11.6"
  }
 },
 "nbformat": 4,
 "nbformat_minor": 5
}
